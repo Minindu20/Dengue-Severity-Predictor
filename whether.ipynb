{
 "cells": [
  {
   "cell_type": "code",
   "execution_count": 2,
   "id": "c3d495be-bcfe-4de2-adc6-5150d7a1333b",
   "metadata": {},
   "outputs": [],
   "source": [
    "import pandas as pd\n",
    "import folium"
   ]
  },
  {
   "cell_type": "code",
   "execution_count": 3,
   "id": "4e45e20c-246e-407c-a6b6-d9a958acb9fe",
   "metadata": {},
   "outputs": [],
   "source": [
    "file_path = 'stations_RIO.csv'  # Ensure this file contains latitude, longitude, and city data\n",
    "df = pd.read_csv(file_path)\n",
    "\n",
    "file_path_2 = 'filtered_RJ_lat_long_data.csv'\n",
    "df2 = pd.read_csv(file_path_2)\n",
    "\n",
    "file_path3 = 'weather_sum_2020.csv'\n",
    "df3 = pd.read_csv(file_path3)\n"
   ]
  },
  {
   "cell_type": "code",
   "execution_count": 13,
   "id": "e6a753a9-04b0-4330-a5b2-5e205d9361d5",
   "metadata": {},
   "outputs": [
    {
     "name": "stdout",
     "output_type": "stream",
     "text": [
      "Map with weather stations saved to 'stations_map_rio.html'\n"
     ]
    }
   ],
   "source": [
    "m = folium.Map(location=[-22.9068, -43.1729], zoom_start=6)\n",
    "# Iterate through the stations and add them to the map\n",
    "for index, row in df.iterrows():\n",
    "    folium.Marker(\n",
    "        location=[row['lat'], row['lon']], \n",
    "        popup=row['city_station'],  \n",
    "        tooltip=row['id_station'],\n",
    "        icon=folium.Icon(color='blue', icon='info-sign')\n",
    "    ).add_to(m)\n",
    "\n",
    "for index, row in df2.iterrows():\n",
    "    folium.Marker(\n",
    "        location=[row['LAT'], row['LONG']],  \n",
    "        popup=row['CITY'],  \n",
    "        tooltip=row['CITY'],\n",
    "         icon=folium.Icon(color='red', icon='map-marker')\n",
    "    ).add_to(m)\n",
    "\n",
    "# Save the map to an HTML file\n",
    "m.save(\"stations_map_rio.html\")\n",
    "\n",
    "print(\"Map with weather stations saved to 'stations_map_rio.html'\")"
   ]
  },
  {
   "cell_type": "code",
   "execution_count": 20,
   "id": "17ab033c-d5c9-4bf0-8483-9920a1788027",
   "metadata": {},
   "outputs": [
    {
     "name": "stdout",
     "output_type": "stream",
     "text": [
      "   region state                  city_station id_station        lat  \\\n",
      "0      SE    RJ             ECOLOGIA AGRICOLA       A601 -22.800000   \n",
      "1      SE    RJ                     MARAMBAIA       A602 -23.050000   \n",
      "2      SE    RJ                         XEREM       A603 -22.589722   \n",
      "3      SE    RJ                       CAMBUCI       A604 -21.566667   \n",
      "4      SE    RJ               ARRAIAL DO CABO       A606 -22.983333   \n",
      "5      SE    RJ                        CAMPOS       A607 -21.716667   \n",
      "6      SE    RJ                         MACAE       A608 -22.383333   \n",
      "7      SE    RJ                       RESENDE       A609 -22.450000   \n",
      "8      SE    RJ                 PICO DO COUTO       A610 -22.481667   \n",
      "9      SE    RJ                       VALENCA       A611 -22.350000   \n",
      "10     SE    RJ                   TERESOPOLIS       A618 -22.448889   \n",
      "11     SE    RJ                        PARATI       A619 -23.223333   \n",
      "12     SE    RJ                  VILA MILITAR       A621 -22.860833   \n",
      "13     SE    RJ           FORTE DE COPACABANA       A652 -22.988333   \n",
      "14     SE    RJ                      SAO TOME       A620 -22.041667   \n",
      "15     SE    RJ                 NOVA FRIBURGO       A624 -22.333056   \n",
      "16     SE    RJ                  SILVA JARDIM       A659 -22.645833   \n",
      "17     SE    RJ                     SAQUAREMA       A667 -22.871111   \n",
      "18     SE    RJ                     TRES RIOS       A625 -22.098333   \n",
      "19     SE    RJ                     RIO CLARO       A626 -22.653611   \n",
      "20     SE    RJ                ANGRA DOS REIS       A628 -22.975833   \n",
      "21     SE    RJ                      ITATIAIA       A635 -22.373889   \n",
      "22     SE    RJ  RIO DE JANEIRO - JACAREPAGUA       A636 -22.939722   \n",
      "23     SE    RJ                       NITEROI       A627 -22.867500   \n",
      "24     SE    RJ                         CARMO       A629 -21.938611   \n",
      "25     SE    RJ          SANTA MARIA MADALENA       A630 -21.950556   \n",
      "26     SE    RJ      Paty do Alferes - Avelar       A637 -22.347222   \n",
      "\n",
      "          lon      lvl record_first record_last  \n",
      "0  -43.683333    33.00   2000-05-07  2023-08-31  \n",
      "1  -43.600000     9.70   2002-11-08  2023-08-31  \n",
      "2  -43.282222    33.00   2002-10-21  2023-08-31  \n",
      "3  -41.950000    35.00   2002-11-20  2023-08-31  \n",
      "4  -42.016667     4.00   2006-09-24  2023-08-31  \n",
      "5  -41.350000    25.00   2006-09-25  2023-08-31  \n",
      "6  -41.816667    32.00   2006-09-22  2023-08-31  \n",
      "7  -44.450000   439.89   2006-09-29  2023-08-31  \n",
      "8  -43.291389  1777.00   2006-10-22  2023-08-31  \n",
      "9  -43.700000   367.00   2006-09-27  2023-08-31  \n",
      "10 -42.987222   980.00   2006-11-01  2023-08-31  \n",
      "11 -44.726667     5.00   2006-11-19  2023-08-31  \n",
      "12 -43.411111    45.00   2007-04-13  2023-08-31  \n",
      "13 -43.190278    42.00   2007-05-18  2023-08-31  \n",
      "14 -41.051944     8.00   2008-06-13  2023-08-31  \n",
      "15 -42.677222  1046.00   2010-09-17  2023-08-31  \n",
      "16 -42.415833    19.00   2015-08-28  2023-08-31  \n",
      "17 -42.609167    16.00   2015-09-02  2023-08-31  \n",
      "18 -43.208611   305.00   2016-06-08  2023-08-31  \n",
      "19 -44.040833   516.00   2016-06-03  2023-08-31  \n",
      "20 -44.303333     6.00   2017-08-25  2023-08-31  \n",
      "21 -44.703056  2450.00   2017-09-01  2021-12-31  \n",
      "22 -43.402778    20.00   2017-08-10  2023-08-31  \n",
      "23 -43.101944     6.00   2018-07-13  2023-08-31  \n",
      "24 -42.600833   293.00   2018-10-11  2023-08-31  \n",
      "25 -42.010556   517.00   2018-10-16  2023-08-31  \n",
      "26 -43.417778   508.00   2022-10-11  2023-08-31  \n"
     ]
    }
   ],
   "source": [
    "print(df)"
   ]
  },
  {
   "cell_type": "code",
   "execution_count": 4,
   "id": "40a57da9-5913-4275-8a28-067b0412ffd2",
   "metadata": {},
   "outputs": [
    {
     "name": "stdout",
     "output_type": "stream",
     "text": [
      "Filtered weather data saved to 'filtered_weather_data.csv'\n"
     ]
    }
   ],
   "source": [
    "\n",
    "# Filter the weather data to include only rows where 'ESTACAO' matches 'id_station' from stations_rj.csv\n",
    "filtered_data = df3[df3['ESTACAO'].isin(df['id_station'])]\n",
    "\n",
    "# Save the filtered data to a new CSV file\n",
    "filtered_data.to_csv('filtered_weather_data.csv', index=False)\n",
    "\n",
    "print(\"Filtered weather data saved to 'filtered_weather_data.csv'\")"
   ]
  },
  {
   "cell_type": "code",
   "execution_count": 39,
   "id": "398a0e85-d29f-48f1-a958-4229b2bdf6ea",
   "metadata": {},
   "outputs": [
    {
     "name": "stdout",
     "output_type": "stream",
     "text": [
      "26\n"
     ]
    }
   ],
   "source": [
    "unique_stations = filtered_data['ESTACAO'].nunique()\n",
    "print(unique_stations)"
   ]
  },
  {
   "cell_type": "code",
   "execution_count": 40,
   "id": "54741ef7-31c5-47b6-9e5f-a9a6a39a8c52",
   "metadata": {},
   "outputs": [
    {
     "name": "stdout",
     "output_type": "stream",
     "text": [
      "Missing station(s) ID: {'A637'}\n"
     ]
    }
   ],
   "source": [
    "stations_in_stations_rj = set(df['id_station'])  # All stations from stations_rj.csv\n",
    "stations_in_filtered_data = set(filtered_data['ESTACAO'])  # Stations in the filtered weather data\n",
    "\n",
    "# Find the missing station(s)\n",
    "missing_stations = stations_in_stations_rj - stations_in_filtered_data\n",
    "\n",
    "# Output the missing station(s)\n",
    "if missing_stations:\n",
    "    print(f\"Missing station(s) ID: {missing_stations}\")\n",
    "else:\n",
    "    print(\"No missing stations. All stations are present in the filtered data.\")"
   ]
  },
  {
   "cell_type": "code",
   "execution_count": 44,
   "id": "4d163a04-ef71-4f5c-bb99-63cc519add6e",
   "metadata": {},
   "outputs": [
    {
     "name": "stdout",
     "output_type": "stream",
     "text": [
      "       ESTACAO DATA (YYYY-MM-DD)  rain_max  rad_max   temp_avg  temp_max  \\\n",
      "124359    A601        2020-01-01       0.0   3728.8  29.200000      36.9   \n",
      "124360    A601        2020-01-02       2.8   2082.8  27.258333      32.0   \n",
      "124361    A601        2020-01-03       2.2   2059.3  24.429167      28.5   \n",
      "124362    A601        2020-01-04       3.4   2567.0  25.287500      29.9   \n",
      "124363    A601        2020-01-05       2.4   3788.5  25.379167      29.7   \n",
      "...        ...               ...       ...      ...        ...       ...   \n",
      "132816    A667        2020-12-27       1.0   1706.0  25.450000      27.3   \n",
      "132817    A667        2020-12-28       0.2   2937.8  28.540000      31.4   \n",
      "132818    A667        2020-12-29       0.4   3082.1  28.309091      32.2   \n",
      "132819    A667        2020-12-30       0.0   3311.6  29.558333      32.9   \n",
      "132820    A667        2020-12-31       0.0   3742.2  33.145455      36.0   \n",
      "\n",
      "        temp_min  hum_max  hum_min  wind_max  wind_avg  \n",
      "124359      22.9     90.0     32.0       9.6  2.466667  \n",
      "124360      23.4     90.0     52.0       8.5  2.091667  \n",
      "124361      22.6     91.0     62.0      10.4  1.812500  \n",
      "124362      22.3     92.0     56.0       7.5  1.350000  \n",
      "124363      22.5     93.0     59.0       9.6  1.937500  \n",
      "...          ...      ...      ...       ...       ...  \n",
      "132816      23.6     94.0     72.0       6.0  1.210000  \n",
      "132817      22.2     94.0     55.0       5.5  1.530000  \n",
      "132818      22.6     94.0     56.0       7.8  1.672727  \n",
      "132819      21.4     94.0     54.0       6.3  1.333333  \n",
      "132820      22.5     94.0     33.0       7.2  1.800000  \n",
      "\n",
      "[8462 rows x 11 columns]\n"
     ]
    }
   ],
   "source": [
    "print(filtered_data)\n"
   ]
  },
  {
   "cell_type": "code",
   "execution_count": 13,
   "id": "788c279e-8c8b-4929-930b-bde3a121a89c",
   "metadata": {},
   "outputs": [
    {
     "name": "stdout",
     "output_type": "stream",
     "text": [
      "     ESTACAO        DATA  rain_max  rad_max   temp_avg  temp_max  temp_min  \\\n",
      "0       A601    1/1/2020       0.0   3728.8  29.200000      36.9      22.9   \n",
      "1       A601    1/2/2020       2.8   2082.8  27.258333      32.0      23.4   \n",
      "2       A601    1/3/2020       2.2   2059.3  24.429167      28.5      22.6   \n",
      "3       A601    1/4/2020       3.4   2567.0  25.287500      29.9      22.3   \n",
      "4       A601    1/5/2020       2.4   3788.5  25.379167      29.7      22.5   \n",
      "...      ...         ...       ...      ...        ...       ...       ...   \n",
      "8457    A667  12/27/2020       1.0   1706.0  25.450000      27.3      23.6   \n",
      "8458    A667  12/28/2020       0.2   2937.8  28.540000      31.4      22.2   \n",
      "8459    A667  12/29/2020       0.4   3082.1  28.309091      32.2      22.6   \n",
      "8460    A667  12/30/2020       0.0   3311.6  29.558333      32.9      21.4   \n",
      "8461    A667  12/31/2020       0.0   3742.2  33.145455      36.0      22.5   \n",
      "\n",
      "      hum_max  hum_min  wind_max  wind_avg  \n",
      "0        90.0     32.0       9.6  2.466667  \n",
      "1        90.0     52.0       8.5  2.091667  \n",
      "2        91.0     62.0      10.4  1.812500  \n",
      "3        92.0     56.0       7.5  1.350000  \n",
      "4        93.0     59.0       9.6  1.937500  \n",
      "...       ...      ...       ...       ...  \n",
      "8457     94.0     72.0       6.0  1.210000  \n",
      "8458     94.0     55.0       5.5  1.530000  \n",
      "8459     94.0     56.0       7.8  1.672727  \n",
      "8460     94.0     54.0       6.3  1.333333  \n",
      "8461     94.0     33.0       7.2  1.800000  \n",
      "\n",
      "[8462 rows x 11 columns]\n",
      "Index(['ESTACAO', 'DATA', 'rain_max', 'rad_max', 'temp_avg', 'temp_max',\n",
      "       'temp_min', 'hum_max', 'hum_min', 'wind_max', 'wind_avg'],\n",
      "      dtype='object')\n"
     ]
    }
   ],
   "source": [
    "filterd_data = pd.read_csv('filtered_weather_data.csv')\n",
    "print(filterd_data)\n",
    "print(filterd_data.columns)\n",
    "filterd_data['DATA'] = pd.to_datetime(filterd_data['DATA'], format='%m/%d/%Y', errors='coerce')\n"
   ]
  },
  {
   "cell_type": "code",
   "execution_count": 15,
   "id": "f424add3-9079-484d-9fa4-11173a962fd5",
   "metadata": {},
   "outputs": [
    {
     "name": "stdout",
     "output_type": "stream",
     "text": [
      "     ESTACAO       DATA  rain_max  rad_max   temp_avg  temp_max  temp_min  \\\n",
      "0       A601 2020-01-01       0.0   3728.8  29.200000      36.9      22.9   \n",
      "1       A601 2020-01-02       2.8   2082.8  27.258333      32.0      23.4   \n",
      "2       A601 2020-01-03       2.2   2059.3  24.429167      28.5      22.6   \n",
      "3       A601 2020-01-04       3.4   2567.0  25.287500      29.9      22.3   \n",
      "4       A601 2020-01-05       2.4   3788.5  25.379167      29.7      22.5   \n",
      "...      ...        ...       ...      ...        ...       ...       ...   \n",
      "8457    A667 2020-12-27       1.0   1706.0  25.450000      27.3      23.6   \n",
      "8458    A667 2020-12-28       0.2   2937.8  28.540000      31.4      22.2   \n",
      "8459    A667 2020-12-29       0.4   3082.1  28.309091      32.2      22.6   \n",
      "8460    A667 2020-12-30       0.0   3311.6  29.558333      32.9      21.4   \n",
      "8461    A667 2020-12-31       0.0   3742.2  33.145455      36.0      22.5   \n",
      "\n",
      "      hum_max  hum_min  wind_max  wind_avg    week  \n",
      "0        90.0     32.0       9.6  2.466667  202000  \n",
      "1        90.0     52.0       8.5  2.091667  202000  \n",
      "2        91.0     62.0      10.4  1.812500  202000  \n",
      "3        92.0     56.0       7.5  1.350000  202000  \n",
      "4        93.0     59.0       9.6  1.937500  202001  \n",
      "...       ...      ...       ...       ...     ...  \n",
      "8457     94.0     72.0       6.0  1.210000  202052  \n",
      "8458     94.0     55.0       5.5  1.530000  202052  \n",
      "8459     94.0     56.0       7.8  1.672727  202052  \n",
      "8460     94.0     54.0       6.3  1.333333  202052  \n",
      "8461     94.0     33.0       7.2  1.800000  202052  \n",
      "\n",
      "[8462 rows x 12 columns]\n"
     ]
    }
   ],
   "source": [
    "# Create a new 'week' column using year and week number\n",
    "filterd_data['week'] = filterd_data['DATA'].dt.strftime('%Y%U')\n",
    "\n",
    "# Check the updated DataFrame\n",
    "print(filterd_data)"
   ]
  },
  {
   "cell_type": "code",
   "execution_count": 16,
   "id": "c7c7d870-0781-4b26-b6cd-8130637751d1",
   "metadata": {},
   "outputs": [
    {
     "name": "stdout",
     "output_type": "stream",
     "text": [
      "   ESTACAO       DATA  rain_max  rad_max   temp_avg  temp_max  temp_min  \\\n",
      "0     A601 2020-01-01       0.0   3728.8  29.200000      36.9      22.9   \n",
      "1     A601 2020-01-02       2.8   2082.8  27.258333      32.0      23.4   \n",
      "2     A601 2020-01-03       2.2   2059.3  24.429167      28.5      22.6   \n",
      "3     A601 2020-01-04       3.4   2567.0  25.287500      29.9      22.3   \n",
      "4     A601 2020-01-05       2.4   3788.5  25.379167      29.7      22.5   \n",
      "5     A601 2020-01-06      10.6   3115.4  25.758333      35.0      21.2   \n",
      "6     A601 2020-01-07       1.4   3738.0  28.791667      37.0      22.8   \n",
      "7     A601 2020-01-08       3.8   3229.8  27.025000      32.4      24.0   \n",
      "8     A601 2020-01-09       0.0   3373.9  28.000000      34.5      23.5   \n",
      "9     A601 2020-01-10       0.0   3591.6  28.262500      34.3      23.7   \n",
      "10    A601 2020-01-11       3.8   3579.4  30.108333      37.8      24.9   \n",
      "11    A601 2020-01-12       0.2   2448.3  27.670833      31.5      25.1   \n",
      "12    A601 2020-01-13       0.2   1152.4  25.250000      27.5      23.9   \n",
      "13    A601 2020-01-14       0.0   3216.3  25.650000      30.3      22.9   \n",
      "14    A601 2020-01-15       0.0   3718.8  27.237500      33.5      23.2   \n",
      "\n",
      "    hum_max  hum_min  wind_max  wind_avg    week  \n",
      "0      90.0     32.0       9.6  2.466667  202000  \n",
      "1      90.0     52.0       8.5  2.091667  202000  \n",
      "2      91.0     62.0      10.4  1.812500  202000  \n",
      "3      92.0     56.0       7.5  1.350000  202000  \n",
      "4      93.0     59.0       9.6  1.937500  202001  \n",
      "5      92.0     42.0       9.6  1.866667  202001  \n",
      "6      91.0     30.0      14.0  2.300000  202001  \n",
      "7      91.0     58.0       8.3  1.837500  202001  \n",
      "8      91.0     42.0       7.7  1.633333  202001  \n",
      "9      92.0     51.0       9.8  1.562500  202001  \n",
      "10     89.0     37.0      19.1  2.066667  202001  \n",
      "11     90.0     60.0       9.1  2.054167  202002  \n",
      "12     91.0     71.0       7.2  1.258333  202002  \n",
      "13     92.0     42.0       7.9  1.295833  202002  \n",
      "14     86.0     42.0       7.5  1.887500  202002  \n"
     ]
    }
   ],
   "source": [
    "# Display the first 15 rows of the DataFrame\n",
    "print(filterd_data.head(15))\n"
   ]
  },
  {
   "cell_type": "code",
   "execution_count": 17,
   "id": "b3e0ae4e-356c-471c-a7cc-a66460f59473",
   "metadata": {},
   "outputs": [],
   "source": [
    "filterd_data =filterd_data.drop(columns=['rad_max'])"
   ]
  },
  {
   "cell_type": "code",
   "execution_count": 18,
   "id": "f1b40c1c-0004-406b-9e35-79c45cbab007",
   "metadata": {},
   "outputs": [
    {
     "name": "stdout",
     "output_type": "stream",
     "text": [
      "     ESTACAO    week  precipitation_avg  precipitation_max  temp_avg_mean  \\\n",
      "0       A601  202000           2.100000                3.4      26.543750   \n",
      "1       A601  202001           3.142857               10.6      27.617857   \n",
      "2       A601  202002           0.514286                2.4      26.152976   \n",
      "3       A601  202003           1.714286                9.8      23.841071   \n",
      "4       A601  202004           1.485714                6.8      27.698214   \n",
      "...      ...     ...                ...                ...            ...   \n",
      "1226    A667  202048           0.040000                0.2      28.929537   \n",
      "1227    A667  202049           1.171429                3.4      25.644762   \n",
      "1228    A667  202050           0.057143                0.2      28.690450   \n",
      "1229    A667  202051           1.685714                5.2      26.133253   \n",
      "1230    A667  202052           0.320000                1.0      29.000576   \n",
      "\n",
      "      temp_max_max  temp_min_min  hum_max_max  hum_min_min  wind_max_max  \\\n",
      "0             36.9          22.3         92.0         32.0          10.4   \n",
      "1             37.8          21.2         93.0         30.0          19.1   \n",
      "2             37.0          20.5         93.0         35.0           9.4   \n",
      "3             30.6          18.7         93.0         41.0           9.7   \n",
      "4             38.2          19.2         93.0         30.0          11.9   \n",
      "...            ...           ...          ...          ...           ...   \n",
      "1226          34.6          20.6         94.0         34.0          12.1   \n",
      "1227          30.6          20.8         95.0         54.0           8.7   \n",
      "1228          34.9          21.9         94.0         42.0           7.6   \n",
      "1229          32.9          19.8         95.0         48.0           7.2   \n",
      "1230          36.0          21.4         94.0         33.0           7.8   \n",
      "\n",
      "      wind_avg_mean  \n",
      "0          1.930208  \n",
      "1          1.886310  \n",
      "2          1.742857  \n",
      "3          1.217857  \n",
      "4          2.088690  \n",
      "...             ...  \n",
      "1226       2.227947  \n",
      "1227       1.749080  \n",
      "1228       1.581122  \n",
      "1229       1.508374  \n",
      "1230       1.509212  \n",
      "\n",
      "[1231 rows x 11 columns]\n"
     ]
    }
   ],
   "source": [
    "\n",
    "# Define aggregation logic for each column\n",
    "aggregation = {\n",
    "    'rain_max': ['mean', 'max'],  # Average rainfall and maximum rainfall in a week\n",
    "    'temp_avg': 'mean',  # Average temperature\n",
    "    'temp_max': 'max',  # Maximum temperature in a week\n",
    "    'temp_min': 'min',  # Minimum temperature in a week\n",
    "    'hum_max': 'max',  # Maximum humidity in a week\n",
    "    'hum_min': 'min',  # Minimum humidity in a week\n",
    "    'wind_max': 'max',  # Maximum wind speed in a week\n",
    "    'wind_avg': 'mean'  # Average wind speed in a week\n",
    "}\n",
    "\n",
    "# Apply the aggregation grouped by 'ESTACAO' and 'week'\n",
    "weekly_data = filterd_data.groupby(['ESTACAO', 'week']).agg(aggregation)\n",
    "\n",
    "# Flatten the multi-level columns\n",
    "weekly_data.columns = ['_'.join(col).strip() for col in weekly_data.columns.values]\n",
    "\n",
    "# Rename 'rain_max_mean' to 'precipitation_avg' and 'rain_max_max' to 'precipitation_max'\n",
    "weekly_data = weekly_data.rename(columns={'rain_max_mean': 'precipitation_avg', 'rain_max_max': 'precipitation_max'})\n",
    "\n",
    "# Reset the index to have a clean DataFrame\n",
    "weekly_data = weekly_data.reset_index()\n",
    "\n",
    "# Display the final DataFrame\n",
    "print(weekly_data)"
   ]
  },
  {
   "cell_type": "code",
   "execution_count": 21,
   "id": "8f653ab0-938c-4c2d-ab34-13d8bfcd9d45",
   "metadata": {},
   "outputs": [
    {
     "name": "stdout",
     "output_type": "stream",
     "text": [
      "Filtered weather data saved to 'filtered_weather_data.csv'\n"
     ]
    }
   ],
   "source": [
    "weekly_data.to_csv('filtered_weekly_weather_data_2020.csv', index=False)\n",
    "\n",
    "print(\"Filtered weather data saved to 'filtered_weather_data.csv'\")"
   ]
  },
  {
   "cell_type": "code",
   "execution_count": null,
   "id": "94a3921e-30c2-4eff-ac99-da01f052562f",
   "metadata": {},
   "outputs": [],
   "source": []
  }
 ],
 "metadata": {
  "kernelspec": {
   "display_name": "Python 3 (ipykernel)",
   "language": "python",
   "name": "python3"
  },
  "language_info": {
   "codemirror_mode": {
    "name": "ipython",
    "version": 3
   },
   "file_extension": ".py",
   "mimetype": "text/x-python",
   "name": "python",
   "nbconvert_exporter": "python",
   "pygments_lexer": "ipython3",
   "version": "3.12.0"
  }
 },
 "nbformat": 4,
 "nbformat_minor": 5
}
