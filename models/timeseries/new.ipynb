{
 "cells": [
  {
   "cell_type": "code",
   "execution_count": 2,
   "metadata": {},
   "outputs": [
    {
     "name": "stdout",
     "output_type": "stream",
     "text": [
      "\n",
      "Filtered Combinations (RMSE < 50):\n",
      "Kernel: linear, C: 1, Gamma: 0.001, Epsilon: 0.01, RMSE: 32.0941\n",
      "Kernel: linear, C: 1, Gamma: 0.01, Epsilon: 0.01, RMSE: 32.0941\n",
      "Kernel: linear, C: 1, Gamma: 0.1, Epsilon: 0.01, RMSE: 32.0941\n",
      "Kernel: linear, C: 1, Gamma: 0.5, Epsilon: 0.01, RMSE: 32.0941\n",
      "Kernel: linear, C: 1, Gamma: 1, Epsilon: 0.01, RMSE: 32.0941\n",
      "Kernel: linear, C: 10, Gamma: 0.001, Epsilon: 0.01, RMSE: 25.9878\n",
      "Kernel: linear, C: 10, Gamma: 0.01, Epsilon: 0.01, RMSE: 25.9878\n",
      "Kernel: linear, C: 10, Gamma: 0.1, Epsilon: 0.01, RMSE: 25.9878\n",
      "Kernel: linear, C: 10, Gamma: 0.5, Epsilon: 0.01, RMSE: 25.9878\n",
      "Kernel: linear, C: 10, Gamma: 1, Epsilon: 0.01, RMSE: 25.9878\n",
      "Kernel: linear, C: 50, Gamma: 0.001, Epsilon: 0.01, RMSE: 26.8704\n",
      "Kernel: rbf, C: 50, Gamma: 0.01, Epsilon: 0.01, RMSE: 41.1143\n",
      "Kernel: linear, C: 50, Gamma: 0.01, Epsilon: 0.01, RMSE: 26.8704\n",
      "Kernel: linear, C: 50, Gamma: 0.1, Epsilon: 0.01, RMSE: 26.8704\n",
      "Kernel: linear, C: 50, Gamma: 0.5, Epsilon: 0.01, RMSE: 26.8704\n",
      "Kernel: linear, C: 50, Gamma: 1, Epsilon: 0.01, RMSE: 26.8704\n"
     ]
    }
   ],
   "source": [
    "import re\n",
    "\n",
    "# Define file path\n",
    "file_path = \"data.txt\"\n",
    "\n",
    "# Initialize an empty list to store valid combinations\n",
    "filtered_combinations = []\n",
    "\n",
    "# Read the file and extract relevant information\n",
    "with open(file_path, \"r\") as file:\n",
    "    for line in file:\n",
    "        # Use regex to extract RMSE value\n",
    "        match = re.search(r\"RMSE:\\s*([\\d\\.]+)\", line)\n",
    "        if match:\n",
    "            rmse = float(match.group(1))  # Convert RMSE to float\n",
    "            if rmse < 50:\n",
    "                filtered_combinations.append(line.strip())  # Store valid lines\n",
    "\n",
    "# Print the filtered results\n",
    "print(\"\\nFiltered Combinations (RMSE < 50):\")\n",
    "for combo in filtered_combinations:\n",
    "    print(combo)\n",
    "\n",
    "# Save to a new file (optional)\n",
    "with open(\"filtered_combinations.txt\", \"w\") as output_file:\n",
    "    for combo in filtered_combinations:\n",
    "        output_file.write(combo + \"\\n\")\n"
   ]
  }
 ],
 "metadata": {
  "kernelspec": {
   "display_name": "Python 3",
   "language": "python",
   "name": "python3"
  },
  "language_info": {
   "codemirror_mode": {
    "name": "ipython",
    "version": 3
   },
   "file_extension": ".py",
   "mimetype": "text/x-python",
   "name": "python",
   "nbconvert_exporter": "python",
   "pygments_lexer": "ipython3",
   "version": "3.12.0"
  }
 },
 "nbformat": 4,
 "nbformat_minor": 2
}
