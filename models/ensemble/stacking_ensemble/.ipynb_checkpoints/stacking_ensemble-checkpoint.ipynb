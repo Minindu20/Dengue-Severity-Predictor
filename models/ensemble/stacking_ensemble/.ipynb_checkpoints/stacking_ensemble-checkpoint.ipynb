{
 "cells": [
  {
   "cell_type": "code",
   "execution_count": null,
   "id": "003a35d7-ec12-4497-a724-fa3822deb0b7",
   "metadata": {},
   "outputs": [],
   "source": [
    "import pandas as pd\n",
    "import numpy as np\n",
    "from sklearn.model_selection import train_test_split\n",
    "from sklearn.ensemble import GradientBoostingRegressor  # Meta-model\n",
    "from sklearn.metrics import mean_absolute_error, mean_squared_error\n",
    "\n",
    "# Step 1: Load Predictions from Base Models\n",
    "lstm_preds = pd.read_csv(\"lstm_preds.csv\", header=None, names=[\"LSTM\"])\n",
    "xgboost_preds = pd.read_csv(\"xgboost_preds.csv\", header=None, names=[\"XGBoost\"])\n",
    "lightgbm_preds = pd.read_csv(\"lightgbm_preds.csv\", header=None, names=[\"LightGBM\"])\n",
    "svr_preds = pd.read_csv(\"svr_preds.csv\", header=None, names=[\"SVR\"])\n",
    "rf_preds = pd.read_csv(\"random_forest_preds.csv\", header=None, names=[\"RandomForest\"])\n",
    "\n",
    "# Load actual validation set target values\n",
    "y_validation = pd.read_csv(\"y_validation.csv\", header=None, names=[\"Actual\"])\n",
    "\n",
    "# Step 2: Merge Predictions into a Single DataFrame\n",
    "meta_features = pd.concat([lstm_preds, xgboost_preds, lightgbm_preds, svr_preds, rf_preds], axis=1)\n",
    "meta_target = y_validation[\"Actual\"]\n",
    "\n",
    "# Step 3: Split Data for Training Meta-Model\n",
    "X_train_meta, X_val_meta, y_train_meta, y_val_meta = train_test_split(meta_features, meta_target, test_size=0.2, random_state=42)\n",
    "\n",
    "# Step 4: Train the Meta-Model (Gradient Boosting Regressor)\n",
    "meta_model = GradientBoostingRegressor(n_estimators=100, learning_rate=0.1, max_depth=3, random_state=42)\n",
    "meta_model.fit(X_train_meta, y_train_meta)\n",
    "\n",
    "# Step 5: Predict on Validation Set and Evaluate\n",
    "meta_preds = meta_model.predict(X_val_meta)\n",
    "\n",
    "mae = mean_absolute_error(y_val_meta, meta_preds)\n",
    "rmse = np.sqrt(mean_squared_error(y_val_meta, meta_preds))\n",
    "\n",
    "print(f\"Meta-Model MAE: {mae}\")\n",
    "print(f\"Meta-Model RMSE: {rmse}\")\n",
    "\n",
    "# Step 6: Use the Meta-Model for Final Predictions (on Test Set)\n",
    "# Load test set predictions from base models\n",
    "lstm_test_preds = pd.read_csv(\"lstm_test_preds.csv\", header=None, names=[\"LSTM\"])\n",
    "xgboost_test_preds = pd.read_csv(\"xgboost_test_preds.csv\", header=None, names=[\"XGBoost\"])\n",
    "lightgbm_test_preds = pd.read_csv(\"lightgbm_test_preds.csv\", header=None, names=[\"LightGBM\"])\n",
    "svr_test_preds = pd.read_csv(\"svr_test_preds.csv\", header=None, names=[\"SVR\"])\n",
    "rf_test_preds = pd.read_csv(\"random_forest_test_preds.csv\", header=None, names=[\"RandomForest\"])\n",
    "\n",
    "# Combine test predictions\n",
    "test_meta_features = pd.concat([lstm_test_preds, xgboost_test_preds, lightgbm_test_preds, svr_test_preds, rf_test_preds], axis=1)\n",
    "\n",
    "# Generate final ensemble predictions\n",
    "final_predictions = meta_model.predict(test_meta_features)\n",
    "\n",
    "# Save final predictions\n",
    "pd.DataFrame(final_predictions, columns=[\"Final_Predictions\"]).to_csv(\"final_ensemble_predictions.csv\", index=False)\n",
    "\n",
    "print(\"Final ensemble predictions saved as 'final_ensemble_predictions.csv'\")"
   ]
  }
 ],
 "metadata": {
  "kernelspec": {
   "display_name": "Python 3.11 (Global)",
   "language": "python",
   "name": "python311"
  },
  "language_info": {
   "codemirror_mode": {
    "name": "ipython",
    "version": 3
   },
   "file_extension": ".py",
   "mimetype": "text/x-python",
   "name": "python",
   "nbconvert_exporter": "python",
   "pygments_lexer": "ipython3",
   "version": "3.11.9"
  }
 },
 "nbformat": 4,
 "nbformat_minor": 5
}
