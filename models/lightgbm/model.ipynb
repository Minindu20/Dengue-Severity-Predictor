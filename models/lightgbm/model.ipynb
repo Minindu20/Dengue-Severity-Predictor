{
 "cells": [
  {
   "cell_type": "code",
   "id": "initial_id",
   "metadata": {
    "collapsed": true,
    "ExecuteTime": {
     "end_time": "2025-01-16T18:54:07.324316Z",
     "start_time": "2025-01-16T18:54:06.912594Z"
    }
   },
   "source": [
    "import pandas as pd\n",
    "import numpy as np\n",
    "import matplotlib.pyplot as plt\n",
    "import seaborn as sns\n",
    "\n",
    "from sklearn.model_selection import train_test_split\n",
    "from sklearn.preprocessing import StandardScaler\n",
    "import lightgbm as lgb"
   ],
   "outputs": [],
   "execution_count": 9
  },
  {
   "metadata": {
    "ExecuteTime": {
     "end_time": "2025-01-16T18:54:07.524379Z",
     "start_time": "2025-01-16T18:54:07.326324Z"
    }
   },
   "cell_type": "code",
   "source": "df = pd.read_csv('data/final_combined_dataset.csv')",
   "id": "509d60038d86845e",
   "outputs": [],
   "execution_count": 10
  },
  {
   "metadata": {
    "ExecuteTime": {
     "end_time": "2025-01-16T18:54:07.532293Z",
     "start_time": "2025-01-16T18:54:07.524379Z"
    }
   },
   "cell_type": "code",
   "source": [
    "geocode_list = [3303807]\n",
    "df = df[df['geocode'].isin(geocode_list)]"
   ],
   "id": "3c12700c53aa83e5",
   "outputs": [],
   "execution_count": 11
  },
  {
   "metadata": {
    "ExecuteTime": {
     "end_time": "2025-01-16T18:54:07.551162Z",
     "start_time": "2025-01-16T18:54:07.534375Z"
    }
   },
   "cell_type": "code",
   "source": [
    "df['week'] = pd.to_numeric(df['week'], errors='coerce')\n",
    "df['date'] = pd.to_datetime(df['date'])\n",
    "\n",
    "# Add date_ordinal\n",
    "df['date_ordinal'] = df['date'].apply(lambda x: x.toordinal())\n",
    "\n",
    "# Extract year and month\n",
    "df['year'] = df['date'].dt.year\n",
    "df['month'] = df['date'].dt.month\n",
    "\n",
    "# Add cyclic month representation\n",
    "df['month_sin'] = np.sin(2 * np.pi * df['month'] / 12)\n",
    "df['month_cos'] = np.cos(2 * np.pi * df['month'] / 12)\n",
    "\n",
    "# Add cyclic week representation\n",
    "df['week_sin'] = np.sin(2 * np.pi * df['week'] / 52)\n",
    "df['week_cos'] = np.cos(2 * np.pi * df['week'] / 52)"
   ],
   "id": "802a8d31e4eb4031",
   "outputs": [],
   "execution_count": 12
  },
  {
   "metadata": {
    "ExecuteTime": {
     "end_time": "2025-01-16T18:54:07.575462Z",
     "start_time": "2025-01-16T18:54:07.552174Z"
    }
   },
   "cell_type": "code",
   "source": [
    "# Step 2: Create lag features\n",
    "def create_lags(dataframe, group_col, target_col, lags):\n",
    "    if isinstance(target_col, list):  # If target_col is a list of columns\n",
    "        for col in target_col:\n",
    "            for lag in lags:\n",
    "                dataframe[f'{col}_lag{lag}'] = dataframe.groupby(group_col)[col].shift(lag)\n",
    "    else:  # If target_col is a single column\n",
    "        for lag in lags:\n",
    "            dataframe[f'{target_col}_lag{lag}'] = dataframe.groupby(group_col)[target_col].shift(lag)\n",
    "    return dataframe\n",
    "\n",
    "# Lag cases by 1 and 2 weeks\n",
    "data = create_lags(df, group_col='city', target_col='cases', lags=[1, 2])\n",
    "\n",
    "# Lag weather-related variables by 5 and 6 weeks for each city\n",
    "weather_columns = ['tempe_min', 'temp_avg', 'temp_max', 'humidity_max', 'humidity_avg', 'humidity_min',\n",
    "                   'precipitation_avg_ordinary_kriging', 'precipitation_max_ordinary_kriging',\n",
    "                   'precipitation_avg_regression_kriging', 'precipitation_max_regression_kriging']\n",
    "data = create_lags(data, group_col='city', target_col=weather_columns, lags=[5, 6])"
   ],
   "id": "8b4b4e65a1ecf0e8",
   "outputs": [],
   "execution_count": 13
  },
  {
   "metadata": {
    "ExecuteTime": {
     "end_time": "2025-01-16T18:54:07.578336Z",
     "start_time": "2025-01-16T18:54:07.575867Z"
    }
   },
   "cell_type": "code",
   "source": "",
   "id": "cb63133631bc3ae4",
   "outputs": [],
   "execution_count": 13
  }
 ],
 "metadata": {
  "kernelspec": {
   "display_name": "Python 3",
   "language": "python",
   "name": "python3"
  },
  "language_info": {
   "codemirror_mode": {
    "name": "ipython",
    "version": 2
   },
   "file_extension": ".py",
   "mimetype": "text/x-python",
   "name": "python",
   "nbconvert_exporter": "python",
   "pygments_lexer": "ipython2",
   "version": "2.7.6"
  }
 },
 "nbformat": 4,
 "nbformat_minor": 5
}
