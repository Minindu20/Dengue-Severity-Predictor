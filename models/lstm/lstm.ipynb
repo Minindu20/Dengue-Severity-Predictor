{
 "cells": [
  {
   "cell_type": "code",
   "id": "initial_id",
   "metadata": {
    "collapsed": true,
    "ExecuteTime": {
     "end_time": "2025-01-08T06:17:55.039305Z",
     "start_time": "2025-01-08T06:17:55.034565Z"
    }
   },
   "source": [
    "import pandas as pd\n",
    "import numpy as np"
   ],
   "outputs": [],
   "execution_count": 1
  },
  {
   "metadata": {
    "ExecuteTime": {
     "end_time": "2025-01-08T06:42:03.487896Z",
     "start_time": "2025-01-08T06:42:02.234669Z"
    }
   },
   "cell_type": "code",
   "source": [
    "geo = pd.read_csv('data/filtered_RJ_lat_long_data.csv')\n",
    "final = pd.read_csv('data/combined_dataset.csv')\n",
    "\n",
    "geo['CITY_lower'] = geo['CITY'].str.lower()\n",
    "final['city_lower'] = final['city'].str.lower()\n",
    "\n",
    "# Merge datasets using the lowercase city columns\n",
    "final = pd.merge(final, geo[['CITY_lower', 'LONG', 'LAT']], left_on='city_lower', right_on='CITY_lower', how='left')\n",
    "\n",
    "final = final.drop(columns=['CITY_lower', 'city_lower'])\n",
    "\n",
    "# rename \n",
    "final = final.rename(columns={'LONG': 'long', 'LAT': 'lat'})\n",
    "\n",
    "final.to_csv('data/combined_dataset.csv', index=False)"
   ],
   "id": "f93880cf7262c66b",
   "outputs": [],
   "execution_count": 9
  },
  {
   "metadata": {},
   "cell_type": "code",
   "outputs": [],
   "execution_count": null,
   "source": "",
   "id": "385f404fa901e953"
  }
 ],
 "metadata": {
  "kernelspec": {
   "display_name": "Python 3",
   "language": "python",
   "name": "python3"
  },
  "language_info": {
   "codemirror_mode": {
    "name": "ipython",
    "version": 2
   },
   "file_extension": ".py",
   "mimetype": "text/x-python",
   "name": "python",
   "nbconvert_exporter": "python",
   "pygments_lexer": "ipython2",
   "version": "2.7.6"
  }
 },
 "nbformat": 4,
 "nbformat_minor": 5
}
