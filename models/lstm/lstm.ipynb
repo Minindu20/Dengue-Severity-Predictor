{
 "cells": [
  {
   "cell_type": "code",
   "id": "initial_id",
   "metadata": {
    "collapsed": true,
    "ExecuteTime": {
     "end_time": "2025-01-08T10:21:17.736840Z",
     "start_time": "2025-01-08T10:21:17.721583Z"
    }
   },
   "source": [
    "import pandas as pd\n",
    "from geopy.distance import geodesic\n",
    "import numpy as np"
   ],
   "outputs": [],
   "execution_count": 16
  },
  {
   "metadata": {
    "ExecuteTime": {
     "end_time": "2025-01-08T10:25:08.326517Z",
     "start_time": "2025-01-08T10:25:08.022105Z"
    }
   },
   "cell_type": "code",
   "source": [
    "geo = pd.read_csv('data/filtered_RJ_lat_long_data.csv')\n",
    "final = pd.read_csv('data/final_combined_dataset.csv')\n",
    "\n",
    "final.isnull().sum()"
   ],
   "id": "e1c906af0ea434f1",
   "outputs": [
    {
     "data": {
      "text/plain": [
       "date                                    0\n",
       "week                                    0\n",
       "cases                                   0\n",
       "population                              0\n",
       "tempe_min                               0\n",
       "humidity_max                            0\n",
       "humidity_avg                            0\n",
       "humidity_min                            0\n",
       "temp_avg                                0\n",
       "temp_max                                0\n",
       "city                                    0\n",
       "geocode                                 0\n",
       "vim                                     0\n",
       "vim_monthly                             0\n",
       "precipitation_avg_ordinary_kriging      0\n",
       "precipitation_max_ordinary_kriging      0\n",
       "precipitation_avg_regression_kriging    0\n",
       "precipitation_max_regression_kriging    0\n",
       "dtype: int64"
      ]
     },
     "execution_count": 17,
     "metadata": {},
     "output_type": "execute_result"
    }
   ],
   "execution_count": 17
  },
  {
   "metadata": {
    "ExecuteTime": {
     "end_time": "2025-01-08T10:26:13.048455Z",
     "start_time": "2025-01-08T10:26:12.994797Z"
    }
   },
   "cell_type": "code",
   "source": [
    "geo['CITY_lower'] = geo['CITY'].str.lower()\n",
    "final['city_lower'] = final['city'].str.lower()\n",
    "\n",
    "# Merge datasets using the lowercase city columns\n",
    "final = pd.merge(final, geo[['CITY_lower', 'LONG', 'LAT']], left_on='city_lower', right_on='CITY_lower', how='left')\n",
    "\n",
    "final = final.drop(columns=['CITY_lower', 'city_lower'])\n",
    "\n",
    "# rename \n",
    "final = final.rename(columns={'LONG': 'long', 'LAT': 'lat'})\n"
   ],
   "id": "f93880cf7262c66b",
   "outputs": [],
   "execution_count": 18
  },
  {
   "metadata": {
    "ExecuteTime": {
     "end_time": "2025-01-08T10:26:17.232895Z",
     "start_time": "2025-01-08T10:26:17.227660Z"
    }
   },
   "cell_type": "code",
   "source": "final['cases_per_100k'] = final['cases'] / final['population'] * 100000",
   "id": "385f404fa901e953",
   "outputs": [],
   "execution_count": 19
  },
  {
   "metadata": {},
   "cell_type": "markdown",
   "source": [
    "Spatial Aggregation: Create additional features that represent the cases of nearby cities.\n",
    "For example:\n",
    "Average cases of neighboring cities.\n",
    "\n",
    "nearby_cases_weighted: Weighted average of cases in the 3 nearest cities for the same week.\n",
    "\n",
    "here we will consider cases_per_100k as cases. Because we want to consider the population of the city in the calculation."
   ],
   "id": "f6d855728cd67e54"
  },
  {
   "metadata": {},
   "cell_type": "code",
   "outputs": [],
   "execution_count": null,
   "source": "final.to_csv('data/final_combined_dataset.csv', index=False)",
   "id": "a3062319f68a5a04"
  },
  {
   "metadata": {
    "ExecuteTime": {
     "end_time": "2025-01-08T08:47:39.123708Z",
     "start_time": "2025-01-08T08:29:13.993324Z"
    }
   },
   "cell_type": "code",
   "source": [
    "data = pd.read_csv('data/combined_dataset.csv')\n",
    "\n",
    "\n",
    "def calculate_weighted_cases(row, weekly_data, top_k=3):\n",
    "    base_coords = (row['lat'], row['long'])\n",
    "    distances = []\n",
    "\n",
    "    # Iterate through other cities in the same week\n",
    "    for _, city_row in weekly_data.iterrows():\n",
    "        if city_row['city'] != row['city']:\n",
    "            # Calculate distance between cities\n",
    "            dist = geodesic(base_coords, (city_row['lat'], city_row['long'])).kilometers\n",
    "            distances.append((city_row['city'], city_row['cases_per_100k'], dist))\n",
    "\n",
    "    # Sort by distance and take the top_k nearest cities\n",
    "    nearest = sorted(distances, key=lambda x: x[2])[:top_k]\n",
    "\n",
    "    # Compute weighted cases: sum(weighted cases) / sum(weights)\n",
    "    weighted_cases = sum(city[1] / city[2] for city in nearest) / sum(1 / city[2] for city in nearest) if nearest else 0\n",
    "\n",
    "    return weighted_cases\n",
    "\n",
    "\n",
    "# Calculate nearby_cases_weighted\n",
    "nearby_weighted_cases = []\n",
    "for week in data['week'].unique():\n",
    "    weekly_data = data[data['week'] == week]\n",
    "    print(f'Calculating weighted cases for week {week}')\n",
    "    for _, row in weekly_data.iterrows():\n",
    "        weighted_cases = calculate_weighted_cases(row, weekly_data)\n",
    "        nearby_weighted_cases.append(weighted_cases)\n",
    "\n",
    "# Add the new column to the dataset\n",
    "data['nearby_cases_weighted'] = nearby_weighted_cases\n",
    "\n",
    "data.to_csv('data/combined_dataset.csv', index=False)"
   ],
   "id": "c0e57f71fbc30086",
   "outputs": [
    {
     "ename": "KeyboardInterrupt",
     "evalue": "",
     "output_type": "error",
     "traceback": [
      "\u001B[1;31m---------------------------------------------------------------------------\u001B[0m",
      "\u001B[1;31mKeyboardInterrupt\u001B[0m                         Traceback (most recent call last)",
      "Cell \u001B[1;32mIn[13], line 29\u001B[0m\n\u001B[0;32m     27\u001B[0m     weekly_data \u001B[38;5;241m=\u001B[39m data[data[\u001B[38;5;124m'\u001B[39m\u001B[38;5;124mweek\u001B[39m\u001B[38;5;124m'\u001B[39m] \u001B[38;5;241m==\u001B[39m week]  \u001B[38;5;66;03m# Filter data for the same week\u001B[39;00m\n\u001B[0;32m     28\u001B[0m     \u001B[38;5;28;01mfor\u001B[39;00m _, row \u001B[38;5;129;01min\u001B[39;00m weekly_data\u001B[38;5;241m.\u001B[39miterrows():\n\u001B[1;32m---> 29\u001B[0m         weighted_cases \u001B[38;5;241m=\u001B[39m \u001B[43mcalculate_weighted_cases\u001B[49m\u001B[43m(\u001B[49m\u001B[43mrow\u001B[49m\u001B[43m,\u001B[49m\u001B[43m \u001B[49m\u001B[43mweekly_data\u001B[49m\u001B[43m)\u001B[49m\n\u001B[0;32m     30\u001B[0m         nearby_weighted_cases\u001B[38;5;241m.\u001B[39mappend(weighted_cases)\n\u001B[0;32m     32\u001B[0m \u001B[38;5;66;03m# Add the new column to the dataset\u001B[39;00m\n",
      "Cell \u001B[1;32mIn[13], line 9\u001B[0m, in \u001B[0;36mcalculate_weighted_cases\u001B[1;34m(row, weekly_data, top_k)\u001B[0m\n\u001B[0;32m      6\u001B[0m distances \u001B[38;5;241m=\u001B[39m []\n\u001B[0;32m      8\u001B[0m \u001B[38;5;66;03m# Iterate through other cities in the same week\u001B[39;00m\n\u001B[1;32m----> 9\u001B[0m \u001B[43m\u001B[49m\u001B[38;5;28;43;01mfor\u001B[39;49;00m\u001B[43m \u001B[49m\u001B[43m_\u001B[49m\u001B[43m,\u001B[49m\u001B[43m \u001B[49m\u001B[43mcity_row\u001B[49m\u001B[43m \u001B[49m\u001B[38;5;129;43;01min\u001B[39;49;00m\u001B[43m \u001B[49m\u001B[43mweekly_data\u001B[49m\u001B[38;5;241;43m.\u001B[39;49m\u001B[43miterrows\u001B[49m\u001B[43m(\u001B[49m\u001B[43m)\u001B[49m\u001B[43m:\u001B[49m\n\u001B[0;32m     10\u001B[0m \u001B[43m    \u001B[49m\u001B[38;5;28;43;01mif\u001B[39;49;00m\u001B[43m \u001B[49m\u001B[43mcity_row\u001B[49m\u001B[43m[\u001B[49m\u001B[38;5;124;43m'\u001B[39;49m\u001B[38;5;124;43mcity\u001B[39;49m\u001B[38;5;124;43m'\u001B[39;49m\u001B[43m]\u001B[49m\u001B[43m \u001B[49m\u001B[38;5;241;43m!=\u001B[39;49m\u001B[43m \u001B[49m\u001B[43mrow\u001B[49m\u001B[43m[\u001B[49m\u001B[38;5;124;43m'\u001B[39;49m\u001B[38;5;124;43mcity\u001B[39;49m\u001B[38;5;124;43m'\u001B[39;49m\u001B[43m]\u001B[49m\u001B[43m:\u001B[49m\n\u001B[0;32m     11\u001B[0m \u001B[43m        \u001B[49m\u001B[38;5;66;43;03m# Calculate distance between cities\u001B[39;49;00m\n\u001B[0;32m     12\u001B[0m \u001B[43m        \u001B[49m\u001B[43mdist\u001B[49m\u001B[43m \u001B[49m\u001B[38;5;241;43m=\u001B[39;49m\u001B[43m \u001B[49m\u001B[43mgeodesic\u001B[49m\u001B[43m(\u001B[49m\u001B[43mbase_coords\u001B[49m\u001B[43m,\u001B[49m\u001B[43m \u001B[49m\u001B[43m(\u001B[49m\u001B[43mcity_row\u001B[49m\u001B[43m[\u001B[49m\u001B[38;5;124;43m'\u001B[39;49m\u001B[38;5;124;43mlat\u001B[39;49m\u001B[38;5;124;43m'\u001B[39;49m\u001B[43m]\u001B[49m\u001B[43m,\u001B[49m\u001B[43m \u001B[49m\u001B[43mcity_row\u001B[49m\u001B[43m[\u001B[49m\u001B[38;5;124;43m'\u001B[39;49m\u001B[38;5;124;43mlong\u001B[39;49m\u001B[38;5;124;43m'\u001B[39;49m\u001B[43m]\u001B[49m\u001B[43m)\u001B[49m\u001B[43m)\u001B[49m\u001B[38;5;241;43m.\u001B[39;49m\u001B[43mkilometers\u001B[49m\n",
      "File \u001B[1;32m~\\miniconda3\\Lib\\site-packages\\pandas\\core\\frame.py:1554\u001B[0m, in \u001B[0;36mDataFrame.iterrows\u001B[1;34m(self)\u001B[0m\n\u001B[0;32m   1552\u001B[0m using_cow \u001B[38;5;241m=\u001B[39m using_copy_on_write()\n\u001B[0;32m   1553\u001B[0m \u001B[38;5;28;01mfor\u001B[39;00m k, v \u001B[38;5;129;01min\u001B[39;00m \u001B[38;5;28mzip\u001B[39m(\u001B[38;5;28mself\u001B[39m\u001B[38;5;241m.\u001B[39mindex, \u001B[38;5;28mself\u001B[39m\u001B[38;5;241m.\u001B[39mvalues):\n\u001B[1;32m-> 1554\u001B[0m     s \u001B[38;5;241m=\u001B[39m \u001B[43mklass\u001B[49m\u001B[43m(\u001B[49m\u001B[43mv\u001B[49m\u001B[43m,\u001B[49m\u001B[43m \u001B[49m\u001B[43mindex\u001B[49m\u001B[38;5;241;43m=\u001B[39;49m\u001B[43mcolumns\u001B[49m\u001B[43m,\u001B[49m\u001B[43m \u001B[49m\u001B[43mname\u001B[49m\u001B[38;5;241;43m=\u001B[39;49m\u001B[43mk\u001B[49m\u001B[43m)\u001B[49m\u001B[38;5;241m.\u001B[39m__finalize__(\u001B[38;5;28mself\u001B[39m)\n\u001B[0;32m   1555\u001B[0m     \u001B[38;5;28;01mif\u001B[39;00m using_cow \u001B[38;5;129;01mand\u001B[39;00m \u001B[38;5;28mself\u001B[39m\u001B[38;5;241m.\u001B[39m_mgr\u001B[38;5;241m.\u001B[39mis_single_block:\n\u001B[0;32m   1556\u001B[0m         s\u001B[38;5;241m.\u001B[39m_mgr\u001B[38;5;241m.\u001B[39madd_references(\u001B[38;5;28mself\u001B[39m\u001B[38;5;241m.\u001B[39m_mgr)  \u001B[38;5;66;03m# type: ignore[arg-type]\u001B[39;00m\n",
      "File \u001B[1;32m~\\miniconda3\\Lib\\site-packages\\pandas\\core\\series.py:593\u001B[0m, in \u001B[0;36mSeries.__init__\u001B[1;34m(self, data, index, dtype, name, copy, fastpath)\u001B[0m\n\u001B[0;32m    590\u001B[0m         data \u001B[38;5;241m=\u001B[39m SingleArrayManager\u001B[38;5;241m.\u001B[39mfrom_array(data, index)\n\u001B[0;32m    592\u001B[0m NDFrame\u001B[38;5;241m.\u001B[39m\u001B[38;5;21m__init__\u001B[39m(\u001B[38;5;28mself\u001B[39m, data)\n\u001B[1;32m--> 593\u001B[0m \u001B[38;5;28;43mself\u001B[39;49m\u001B[38;5;241;43m.\u001B[39;49m\u001B[43mname\u001B[49m \u001B[38;5;241m=\u001B[39m name\n\u001B[0;32m    594\u001B[0m \u001B[38;5;28mself\u001B[39m\u001B[38;5;241m.\u001B[39m_set_axis(\u001B[38;5;241m0\u001B[39m, index)\n\u001B[0;32m    596\u001B[0m \u001B[38;5;28;01mif\u001B[39;00m original_dtype \u001B[38;5;129;01mis\u001B[39;00m \u001B[38;5;28;01mNone\u001B[39;00m \u001B[38;5;129;01mand\u001B[39;00m is_pandas_object \u001B[38;5;129;01mand\u001B[39;00m data_dtype \u001B[38;5;241m==\u001B[39m np\u001B[38;5;241m.\u001B[39mobject_:\n",
      "File \u001B[1;32m~\\miniconda3\\Lib\\site-packages\\pandas\\core\\generic.py:6320\u001B[0m, in \u001B[0;36mNDFrame.__setattr__\u001B[1;34m(self, name, value)\u001B[0m\n\u001B[0;32m   6317\u001B[0m \u001B[38;5;66;03m# if this fails, go on to more involved attribute setting\u001B[39;00m\n\u001B[0;32m   6318\u001B[0m \u001B[38;5;66;03m# (note that this matches __getattr__, above).\u001B[39;00m\n\u001B[0;32m   6319\u001B[0m \u001B[38;5;28;01mif\u001B[39;00m name \u001B[38;5;129;01min\u001B[39;00m \u001B[38;5;28mself\u001B[39m\u001B[38;5;241m.\u001B[39m_internal_names_set:\n\u001B[1;32m-> 6320\u001B[0m     \u001B[38;5;28;43mobject\u001B[39;49m\u001B[38;5;241;43m.\u001B[39;49m\u001B[38;5;21;43m__setattr__\u001B[39;49m\u001B[43m(\u001B[49m\u001B[38;5;28;43mself\u001B[39;49m\u001B[43m,\u001B[49m\u001B[43m \u001B[49m\u001B[43mname\u001B[49m\u001B[43m,\u001B[49m\u001B[43m \u001B[49m\u001B[43mvalue\u001B[49m\u001B[43m)\u001B[49m\n\u001B[0;32m   6321\u001B[0m \u001B[38;5;28;01melif\u001B[39;00m name \u001B[38;5;129;01min\u001B[39;00m \u001B[38;5;28mself\u001B[39m\u001B[38;5;241m.\u001B[39m_metadata:\n\u001B[0;32m   6322\u001B[0m     \u001B[38;5;28mobject\u001B[39m\u001B[38;5;241m.\u001B[39m\u001B[38;5;21m__setattr__\u001B[39m(\u001B[38;5;28mself\u001B[39m, name, value)\n",
      "File \u001B[1;32m~\\miniconda3\\Lib\\site-packages\\pandas\\core\\series.py:787\u001B[0m, in \u001B[0;36mSeries.name\u001B[1;34m(self, value)\u001B[0m\n\u001B[0;32m    784\u001B[0m \u001B[38;5;129m@name\u001B[39m\u001B[38;5;241m.\u001B[39msetter\n\u001B[0;32m    785\u001B[0m \u001B[38;5;28;01mdef\u001B[39;00m \u001B[38;5;21mname\u001B[39m(\u001B[38;5;28mself\u001B[39m, value: Hashable) \u001B[38;5;241m-\u001B[39m\u001B[38;5;241m>\u001B[39m \u001B[38;5;28;01mNone\u001B[39;00m:\n\u001B[0;32m    786\u001B[0m     validate_all_hashable(value, error_name\u001B[38;5;241m=\u001B[39m\u001B[38;5;124mf\u001B[39m\u001B[38;5;124m\"\u001B[39m\u001B[38;5;132;01m{\u001B[39;00m\u001B[38;5;28mtype\u001B[39m(\u001B[38;5;28mself\u001B[39m)\u001B[38;5;241m.\u001B[39m\u001B[38;5;18m__name__\u001B[39m\u001B[38;5;132;01m}\u001B[39;00m\u001B[38;5;124m.name\u001B[39m\u001B[38;5;124m\"\u001B[39m)\n\u001B[1;32m--> 787\u001B[0m     \u001B[38;5;28;43mobject\u001B[39;49m\u001B[38;5;241;43m.\u001B[39;49m\u001B[38;5;21;43m__setattr__\u001B[39;49m\u001B[43m(\u001B[49m\u001B[38;5;28;43mself\u001B[39;49m\u001B[43m,\u001B[49m\u001B[43m \u001B[49m\u001B[38;5;124;43m\"\u001B[39;49m\u001B[38;5;124;43m_name\u001B[39;49m\u001B[38;5;124;43m\"\u001B[39;49m\u001B[43m,\u001B[49m\u001B[43m \u001B[49m\u001B[43mvalue\u001B[49m\u001B[43m)\u001B[49m\n",
      "\u001B[1;31mKeyboardInterrupt\u001B[0m: "
     ]
    }
   ],
   "execution_count": 13
  },
  {
   "metadata": {},
   "cell_type": "code",
   "outputs": [],
   "execution_count": null,
   "source": "",
   "id": "b95eaa3444be1960"
  }
 ],
 "metadata": {
  "kernelspec": {
   "display_name": "Python 3",
   "language": "python",
   "name": "python3"
  },
  "language_info": {
   "codemirror_mode": {
    "name": "ipython",
    "version": 2
   },
   "file_extension": ".py",
   "mimetype": "text/x-python",
   "name": "python",
   "nbconvert_exporter": "python",
   "pygments_lexer": "ipython2",
   "version": "2.7.6"
  }
 },
 "nbformat": 4,
 "nbformat_minor": 5
}
