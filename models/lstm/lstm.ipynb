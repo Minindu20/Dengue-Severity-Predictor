{
 "cells": [
  {
   "cell_type": "code",
   "id": "initial_id",
   "metadata": {
    "collapsed": true,
    "ExecuteTime": {
     "end_time": "2025-01-08T10:32:47.058843Z",
     "start_time": "2025-01-08T10:32:47.052524Z"
    }
   },
   "source": [
    "import pandas as pd\n",
    "from geopy.distance import geodesic\n",
    "import numpy as np"
   ],
   "outputs": [],
   "execution_count": 22
  },
  {
   "metadata": {
    "ExecuteTime": {
     "end_time": "2025-01-08T10:33:02.570192Z",
     "start_time": "2025-01-08T10:33:02.079634Z"
    }
   },
   "cell_type": "code",
   "source": [
    "geo = pd.read_csv('data/filtered_RJ_lat_long_data.csv')\n",
    "final = pd.read_csv('data/final_combined_dataset.csv')\n",
    "\n",
    "final.isnull().sum()"
   ],
   "id": "e1c906af0ea434f1",
   "outputs": [
    {
     "data": {
      "text/plain": [
       "date                                    0\n",
       "week                                    0\n",
       "cases                                   0\n",
       "population                              0\n",
       "tempe_min                               0\n",
       "humidity_max                            0\n",
       "humidity_avg                            0\n",
       "humidity_min                            0\n",
       "temp_avg                                0\n",
       "temp_max                                0\n",
       "city                                    0\n",
       "geocode                                 0\n",
       "vim                                     0\n",
       "vim_monthly                             0\n",
       "precipitation_avg_ordinary_kriging      0\n",
       "precipitation_max_ordinary_kriging      0\n",
       "precipitation_avg_regression_kriging    0\n",
       "precipitation_max_regression_kriging    0\n",
       "dtype: int64"
      ]
     },
     "execution_count": 24,
     "metadata": {},
     "output_type": "execute_result"
    }
   ],
   "execution_count": 24
  },
  {
   "metadata": {
    "ExecuteTime": {
     "end_time": "2025-01-08T10:33:28.203166Z",
     "start_time": "2025-01-08T10:33:28.080173Z"
    }
   },
   "cell_type": "code",
   "source": [
    "geo['CITY_lower'] = geo['CITY'].str.lower()\n",
    "final['city_lower'] = final['city'].str.lower()\n",
    "\n",
    "# Merge datasets using the lowercase city columns\n",
    "final = pd.merge(final, geo[['CITY_lower', 'LONG', 'LAT']], left_on='city_lower', right_on='CITY_lower', how='left')\n",
    "\n",
    "final = final.drop(columns=['CITY_lower', 'city_lower'])\n",
    "\n",
    "# rename \n",
    "final = final.rename(columns={'LONG': 'long', 'LAT': 'lat'})\n"
   ],
   "id": "f93880cf7262c66b",
   "outputs": [],
   "execution_count": 25
  },
  {
   "metadata": {
    "ExecuteTime": {
     "end_time": "2025-01-08T10:33:32.647350Z",
     "start_time": "2025-01-08T10:33:32.642453Z"
    }
   },
   "cell_type": "code",
   "source": "final['cases_per_100k'] = final['cases'] / final['population'] * 100000",
   "id": "385f404fa901e953",
   "outputs": [],
   "execution_count": 26
  },
  {
   "metadata": {},
   "cell_type": "markdown",
   "source": [
    "Spatial Aggregation: Create additional features that represent the cases of nearby cities.\n",
    "For example:\n",
    "Average cases of neighboring cities.\n",
    "\n",
    "nearby_cases_weighted: Weighted average of cases in the 3 nearest cities for the same week.\n",
    "\n",
    "here we will consider cases_per_100k as cases. Because we want to consider the population of the city in the calculation."
   ],
   "id": "f6d855728cd67e54"
  },
  {
   "metadata": {
    "ExecuteTime": {
     "end_time": "2025-01-08T10:33:45.763197Z",
     "start_time": "2025-01-08T10:33:44.780007Z"
    }
   },
   "cell_type": "code",
   "source": "final.to_csv('data/final_combined_dataset.csv', index=False)",
   "id": "a3062319f68a5a04",
   "outputs": [],
   "execution_count": 27
  },
  {
   "metadata": {
    "ExecuteTime": {
     "end_time": "2025-01-08T10:28:56.351565Z",
     "start_time": "2025-01-08T10:28:56.044215Z"
    }
   },
   "cell_type": "code",
   "source": [
    "data = pd.read_csv('data/final_combined_dataset.csv')\n",
    "\n",
    "\n",
    "def calculate_weighted_cases(row, weekly_data, top_k=3):\n",
    "    base_coords = (row['lat'], row['long'])\n",
    "    distances = []\n",
    "\n",
    "    # Iterate through other cities in the same week\n",
    "    for _, city_row in weekly_data.iterrows():\n",
    "        if city_row['city'] != row['city']:\n",
    "            # Calculate distance between cities\n",
    "            dist = geodesic(base_coords, (city_row['lat'], city_row['long'])).kilometers\n",
    "            distances.append((city_row['city'], city_row['cases_per_100k'], dist))\n",
    "\n",
    "    # Sort by distance and take the top_k nearest cities\n",
    "    nearest = sorted(distances, key=lambda x: x[2])[:top_k]\n",
    "\n",
    "    # Compute weighted cases: sum(weighted cases) / sum(weights)\n",
    "    weighted_cases = sum(city[1] / city[2] for city in nearest) / sum(1 / city[2] for city in nearest) if nearest else 0\n",
    "\n",
    "    return weighted_cases"
   ],
   "id": "c0e57f71fbc30086",
   "outputs": [],
   "execution_count": 20
  },
  {
   "metadata": {
    "ExecuteTime": {
     "end_time": "2025-01-08T10:31:09.486308Z",
     "start_time": "2025-01-08T10:31:09.231764Z"
    }
   },
   "cell_type": "code",
   "source": [
    "# First part: Weeks from 201201 to 201701\n",
    "first_part_weeks = list(range(201201, 201701))\n",
    "\n",
    "# Update for the first part\n",
    "first_part_data = data[data['week'].isin(first_part_weeks)]\n",
    "nearby_weighted_cases_first_part = []\n",
    "\n",
    "for week in first_part_data['week'].unique():\n",
    "    weekly_data = first_part_data[first_part_data['week'] == week]\n",
    "    print(f'Processing week {week}')\n",
    "    for _, row in weekly_data.iterrows():\n",
    "        weighted_cases = calculate_weighted_cases(row, weekly_data)\n",
    "        nearby_weighted_cases_first_part.append(weighted_cases)\n",
    "\n",
    "data.loc[data['week'].isin(first_part_weeks), 'nearby_cases_weighted'] = nearby_weighted_cases_first_part\n",
    "\n",
    "# Save the updated data back to CSV\n",
    "data.to_csv('data/final_combined_dataset.csv', index=False)\n"
   ],
   "id": "b95eaa3444be1960",
   "outputs": [
    {
     "name": "stdout",
     "output_type": "stream",
     "text": [
      "Processing week 201201\n"
     ]
    },
    {
     "ename": "KeyError",
     "evalue": "'lat'",
     "output_type": "error",
     "traceback": [
      "\u001B[1;31m---------------------------------------------------------------------------\u001B[0m",
      "\u001B[1;31mKeyError\u001B[0m                                  Traceback (most recent call last)",
      "File \u001B[1;32m~\\miniconda3\\Lib\\site-packages\\pandas\\core\\indexes\\base.py:3805\u001B[0m, in \u001B[0;36mIndex.get_loc\u001B[1;34m(self, key)\u001B[0m\n\u001B[0;32m   3804\u001B[0m \u001B[38;5;28;01mtry\u001B[39;00m:\n\u001B[1;32m-> 3805\u001B[0m     \u001B[38;5;28;01mreturn\u001B[39;00m \u001B[38;5;28;43mself\u001B[39;49m\u001B[38;5;241;43m.\u001B[39;49m\u001B[43m_engine\u001B[49m\u001B[38;5;241;43m.\u001B[39;49m\u001B[43mget_loc\u001B[49m\u001B[43m(\u001B[49m\u001B[43mcasted_key\u001B[49m\u001B[43m)\u001B[49m\n\u001B[0;32m   3806\u001B[0m \u001B[38;5;28;01mexcept\u001B[39;00m \u001B[38;5;167;01mKeyError\u001B[39;00m \u001B[38;5;28;01mas\u001B[39;00m err:\n",
      "File \u001B[1;32mindex.pyx:167\u001B[0m, in \u001B[0;36mpandas._libs.index.IndexEngine.get_loc\u001B[1;34m()\u001B[0m\n",
      "File \u001B[1;32mindex.pyx:196\u001B[0m, in \u001B[0;36mpandas._libs.index.IndexEngine.get_loc\u001B[1;34m()\u001B[0m\n",
      "File \u001B[1;32mpandas\\\\_libs\\\\hashtable_class_helper.pxi:7081\u001B[0m, in \u001B[0;36mpandas._libs.hashtable.PyObjectHashTable.get_item\u001B[1;34m()\u001B[0m\n",
      "File \u001B[1;32mpandas\\\\_libs\\\\hashtable_class_helper.pxi:7089\u001B[0m, in \u001B[0;36mpandas._libs.hashtable.PyObjectHashTable.get_item\u001B[1;34m()\u001B[0m\n",
      "\u001B[1;31mKeyError\u001B[0m: 'lat'",
      "\nThe above exception was the direct cause of the following exception:\n",
      "\u001B[1;31mKeyError\u001B[0m                                  Traceback (most recent call last)",
      "Cell \u001B[1;32mIn[21], line 12\u001B[0m\n\u001B[0;32m     10\u001B[0m     \u001B[38;5;28mprint\u001B[39m(\u001B[38;5;124mf\u001B[39m\u001B[38;5;124m'\u001B[39m\u001B[38;5;124mProcessing week \u001B[39m\u001B[38;5;132;01m{\u001B[39;00mweek\u001B[38;5;132;01m}\u001B[39;00m\u001B[38;5;124m'\u001B[39m)\n\u001B[0;32m     11\u001B[0m     \u001B[38;5;28;01mfor\u001B[39;00m _, row \u001B[38;5;129;01min\u001B[39;00m weekly_data\u001B[38;5;241m.\u001B[39miterrows():\n\u001B[1;32m---> 12\u001B[0m         weighted_cases \u001B[38;5;241m=\u001B[39m \u001B[43mcalculate_weighted_cases\u001B[49m\u001B[43m(\u001B[49m\u001B[43mrow\u001B[49m\u001B[43m,\u001B[49m\u001B[43m \u001B[49m\u001B[43mweekly_data\u001B[49m\u001B[43m)\u001B[49m\n\u001B[0;32m     13\u001B[0m         nearby_weighted_cases_first_part\u001B[38;5;241m.\u001B[39mappend(weighted_cases)\n\u001B[0;32m     15\u001B[0m data\u001B[38;5;241m.\u001B[39mloc[data[\u001B[38;5;124m'\u001B[39m\u001B[38;5;124mweek\u001B[39m\u001B[38;5;124m'\u001B[39m]\u001B[38;5;241m.\u001B[39misin(first_part_weeks), \u001B[38;5;124m'\u001B[39m\u001B[38;5;124mnearby_cases_weighted\u001B[39m\u001B[38;5;124m'\u001B[39m] \u001B[38;5;241m=\u001B[39m nearby_weighted_cases_first_part\n",
      "Cell \u001B[1;32mIn[20], line 5\u001B[0m, in \u001B[0;36mcalculate_weighted_cases\u001B[1;34m(row, weekly_data, top_k)\u001B[0m\n\u001B[0;32m      4\u001B[0m \u001B[38;5;28;01mdef\u001B[39;00m \u001B[38;5;21mcalculate_weighted_cases\u001B[39m(row, weekly_data, top_k\u001B[38;5;241m=\u001B[39m\u001B[38;5;241m3\u001B[39m):\n\u001B[1;32m----> 5\u001B[0m     base_coords \u001B[38;5;241m=\u001B[39m (\u001B[43mrow\u001B[49m\u001B[43m[\u001B[49m\u001B[38;5;124;43m'\u001B[39;49m\u001B[38;5;124;43mlat\u001B[39;49m\u001B[38;5;124;43m'\u001B[39;49m\u001B[43m]\u001B[49m, row[\u001B[38;5;124m'\u001B[39m\u001B[38;5;124mlong\u001B[39m\u001B[38;5;124m'\u001B[39m])\n\u001B[0;32m      6\u001B[0m     distances \u001B[38;5;241m=\u001B[39m []\n\u001B[0;32m      8\u001B[0m     \u001B[38;5;66;03m# Iterate through other cities in the same week\u001B[39;00m\n",
      "File \u001B[1;32m~\\miniconda3\\Lib\\site-packages\\pandas\\core\\series.py:1121\u001B[0m, in \u001B[0;36mSeries.__getitem__\u001B[1;34m(self, key)\u001B[0m\n\u001B[0;32m   1118\u001B[0m     \u001B[38;5;28;01mreturn\u001B[39;00m \u001B[38;5;28mself\u001B[39m\u001B[38;5;241m.\u001B[39m_values[key]\n\u001B[0;32m   1120\u001B[0m \u001B[38;5;28;01melif\u001B[39;00m key_is_scalar:\n\u001B[1;32m-> 1121\u001B[0m     \u001B[38;5;28;01mreturn\u001B[39;00m \u001B[38;5;28;43mself\u001B[39;49m\u001B[38;5;241;43m.\u001B[39;49m\u001B[43m_get_value\u001B[49m\u001B[43m(\u001B[49m\u001B[43mkey\u001B[49m\u001B[43m)\u001B[49m\n\u001B[0;32m   1123\u001B[0m \u001B[38;5;66;03m# Convert generator to list before going through hashable part\u001B[39;00m\n\u001B[0;32m   1124\u001B[0m \u001B[38;5;66;03m# (We will iterate through the generator there to check for slices)\u001B[39;00m\n\u001B[0;32m   1125\u001B[0m \u001B[38;5;28;01mif\u001B[39;00m is_iterator(key):\n",
      "File \u001B[1;32m~\\miniconda3\\Lib\\site-packages\\pandas\\core\\series.py:1237\u001B[0m, in \u001B[0;36mSeries._get_value\u001B[1;34m(self, label, takeable)\u001B[0m\n\u001B[0;32m   1234\u001B[0m     \u001B[38;5;28;01mreturn\u001B[39;00m \u001B[38;5;28mself\u001B[39m\u001B[38;5;241m.\u001B[39m_values[label]\n\u001B[0;32m   1236\u001B[0m \u001B[38;5;66;03m# Similar to Index.get_value, but we do not fall back to positional\u001B[39;00m\n\u001B[1;32m-> 1237\u001B[0m loc \u001B[38;5;241m=\u001B[39m \u001B[38;5;28;43mself\u001B[39;49m\u001B[38;5;241;43m.\u001B[39;49m\u001B[43mindex\u001B[49m\u001B[38;5;241;43m.\u001B[39;49m\u001B[43mget_loc\u001B[49m\u001B[43m(\u001B[49m\u001B[43mlabel\u001B[49m\u001B[43m)\u001B[49m\n\u001B[0;32m   1239\u001B[0m \u001B[38;5;28;01mif\u001B[39;00m is_integer(loc):\n\u001B[0;32m   1240\u001B[0m     \u001B[38;5;28;01mreturn\u001B[39;00m \u001B[38;5;28mself\u001B[39m\u001B[38;5;241m.\u001B[39m_values[loc]\n",
      "File \u001B[1;32m~\\miniconda3\\Lib\\site-packages\\pandas\\core\\indexes\\base.py:3812\u001B[0m, in \u001B[0;36mIndex.get_loc\u001B[1;34m(self, key)\u001B[0m\n\u001B[0;32m   3807\u001B[0m     \u001B[38;5;28;01mif\u001B[39;00m \u001B[38;5;28misinstance\u001B[39m(casted_key, \u001B[38;5;28mslice\u001B[39m) \u001B[38;5;129;01mor\u001B[39;00m (\n\u001B[0;32m   3808\u001B[0m         \u001B[38;5;28misinstance\u001B[39m(casted_key, abc\u001B[38;5;241m.\u001B[39mIterable)\n\u001B[0;32m   3809\u001B[0m         \u001B[38;5;129;01mand\u001B[39;00m \u001B[38;5;28many\u001B[39m(\u001B[38;5;28misinstance\u001B[39m(x, \u001B[38;5;28mslice\u001B[39m) \u001B[38;5;28;01mfor\u001B[39;00m x \u001B[38;5;129;01min\u001B[39;00m casted_key)\n\u001B[0;32m   3810\u001B[0m     ):\n\u001B[0;32m   3811\u001B[0m         \u001B[38;5;28;01mraise\u001B[39;00m InvalidIndexError(key)\n\u001B[1;32m-> 3812\u001B[0m     \u001B[38;5;28;01mraise\u001B[39;00m \u001B[38;5;167;01mKeyError\u001B[39;00m(key) \u001B[38;5;28;01mfrom\u001B[39;00m \u001B[38;5;21;01merr\u001B[39;00m\n\u001B[0;32m   3813\u001B[0m \u001B[38;5;28;01mexcept\u001B[39;00m \u001B[38;5;167;01mTypeError\u001B[39;00m:\n\u001B[0;32m   3814\u001B[0m     \u001B[38;5;66;03m# If we have a listlike key, _check_indexing_error will raise\u001B[39;00m\n\u001B[0;32m   3815\u001B[0m     \u001B[38;5;66;03m#  InvalidIndexError. Otherwise we fall through and re-raise\u001B[39;00m\n\u001B[0;32m   3816\u001B[0m     \u001B[38;5;66;03m#  the TypeError.\u001B[39;00m\n\u001B[0;32m   3817\u001B[0m     \u001B[38;5;28mself\u001B[39m\u001B[38;5;241m.\u001B[39m_check_indexing_error(key)\n",
      "\u001B[1;31mKeyError\u001B[0m: 'lat'"
     ]
    }
   ],
   "execution_count": 21
  },
  {
   "metadata": {},
   "cell_type": "code",
   "outputs": [],
   "execution_count": null,
   "source": "",
   "id": "cf381d5306ba7d61"
  }
 ],
 "metadata": {
  "kernelspec": {
   "display_name": "Python 3",
   "language": "python",
   "name": "python3"
  },
  "language_info": {
   "codemirror_mode": {
    "name": "ipython",
    "version": 2
   },
   "file_extension": ".py",
   "mimetype": "text/x-python",
   "name": "python",
   "nbconvert_exporter": "python",
   "pygments_lexer": "ipython2",
   "version": "2.7.6"
  }
 },
 "nbformat": 4,
 "nbformat_minor": 5
}
