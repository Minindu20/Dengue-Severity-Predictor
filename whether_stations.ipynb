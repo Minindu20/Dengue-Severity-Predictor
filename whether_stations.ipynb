{
 "cells": [
  {
   "cell_type": "code",
   "execution_count": 1,
   "id": "f29533f5-06da-4db3-9623-2d0cb51d9971",
   "metadata": {},
   "outputs": [
    {
     "name": "stdout",
     "output_type": "stream",
     "text": [
      "    region state                  city_station id_station           lat  \\\n",
      "3       SE    RJ             ECOLOGIA AGRICOLA       A601         -22,8   \n",
      "28      SE    RJ                     MARAMBAIA       A602        -23,05   \n",
      "29      SE    RJ                         XEREM       A603  -22,58972221   \n",
      "30      SE    RJ                       CAMBUCI       A604  -21,56666666   \n",
      "113     SE    RJ               ARRAIAL DO CABO       A606  -22,98333333   \n",
      "114     SE    RJ                        CAMPOS       A607  -21,71666666   \n",
      "115     SE    RJ                         MACAE       A608  -22,38333333   \n",
      "116     SE    RJ                       RESENDE       A609        -22,45   \n",
      "117     SE    RJ                 PICO DO COUTO       A610  -22,48166666   \n",
      "118     SE    RJ                       VALENCA       A611        -22,35   \n",
      "119     SE    RJ                   TERESOPOLIS       A618  -22,44888888   \n",
      "120     SE    RJ                        PARATI       A619  -23,22333332   \n",
      "237     SE    RJ                  VILA MILITAR       A621  -22,86083333   \n",
      "238     SE    RJ           FORTE DE COPACABANA       A652  -22,98833333   \n",
      "384     SE    RJ                      SAO TOME       A620  -22,04166666   \n",
      "442     SE    RJ                 NOVA FRIBURGO       A624  -22,33305554   \n",
      "482     SE    RJ                  SILVA JARDIM       A659  -22,64583333   \n",
      "483     SE    RJ                     SAQUAREMA       A667   -22,8711111   \n",
      "516     SE    RJ                     TRES RIOS       A625  -22,09833333   \n",
      "517     SE    RJ                     RIO CLARO       A626  -22,65361111   \n",
      "552     SE    RJ                ANGRA DOS REIS       A628  -22,97583332   \n",
      "553     SE    RJ                      ITATIAIA       A635  -22,37388888   \n",
      "554     SE    RJ  RIO DE JANEIRO - JACAREPAGUA       A636  -22,93972221   \n",
      "591     SE    RJ                       NITEROI       A627  -22,86749999   \n",
      "592     SE    RJ                         CARMO       A629   -21,9386111   \n",
      "593     SE    RJ          SANTA MARIA MADALENA       A630  -21,95055555   \n",
      "613     SE    RJ      Paty do Alferes - Avelar       A637  -22,34722221   \n",
      "\n",
      "              lon     lvl record_first record_last  \n",
      "3    -43,68333333      33   2000-05-07  2023-08-31  \n",
      "28          -43,6     9,7   2002-11-08  2023-08-31  \n",
      "29   -43,28222221      33   2002-10-21  2023-08-31  \n",
      "30         -41,95      35   2002-11-20  2023-08-31  \n",
      "113  -42,01666666       4   2006-09-24  2023-08-31  \n",
      "114        -41,35      25   2006-09-25  2023-08-31  \n",
      "115  -41,81666667      32   2006-09-22  2023-08-31  \n",
      "116        -44,45  439,89   2006-09-29  2023-08-31  \n",
      "117  -43,29138888    1777   2006-10-22  2023-08-31  \n",
      "118         -43,7     367   2006-09-27  2023-08-31  \n",
      "119  -42,98722221     980   2006-11-01  2023-08-31  \n",
      "120  -44,72666666       5   2006-11-19  2023-08-31  \n",
      "237  -43,41111111      45   2007-04-13  2023-08-31  \n",
      "238  -43,19027777      42   2007-05-18  2023-08-31  \n",
      "384  -41,05194444       8   2008-06-13  2023-08-31  \n",
      "442  -42,67722221    1046   2010-09-17  2023-08-31  \n",
      "482  -42,41583333      19   2015-08-28  2023-08-31  \n",
      "483  -42,60916666      16   2015-09-02  2023-08-31  \n",
      "516  -43,20861111     305   2016-06-08  2023-08-31  \n",
      "517  -44,04083333     516   2016-06-03  2023-08-31  \n",
      "552  -44,30333333       6   2017-08-25  2023-08-31  \n",
      "553  -44,70305555    2450   2017-09-01  2021-12-31  \n",
      "554  -43,40277777      20   2017-08-10  2023-08-31  \n",
      "591  -43,10194444       6   2018-07-13  2023-08-31  \n",
      "592  -42,60083333     293   2018-10-11  2023-08-31  \n",
      "593  -42,01055555     517   2018-10-16  2023-08-31  \n",
      "613  -43,41777777     508   2022-10-11  2023-08-31  \n"
     ]
    }
   ],
   "source": [
    "import pandas as pd\n",
    "\n",
    "# Load the CSV file into a DataFrame\n",
    "file_path = 'stations.csv'  # Update with your actual file path if necessary\n",
    "df = pd.read_csv(file_path)\n",
    "\n",
    "# Filter rows where the 'state' column has the value 'SP'\n",
    "sp_data = df[df['state'] == 'RJ']\n",
    "\n",
    "print(sp_data)\n",
    "\n",
    "\n"
   ]
  },
  {
   "cell_type": "code",
   "execution_count": 2,
   "id": "708be763-8478-4ca6-b886-7be65ead30fc",
   "metadata": {},
   "outputs": [
    {
     "name": "stdout",
     "output_type": "stream",
     "text": [
      "    region state               city_station id_station        lat        lon  \\\n",
      "0       CO    DF                   BRASILIA       A001 -15.789444 -47.925833   \n",
      "1       NE    BA                   SALVADOR       A401 -13.016667 -38.516667   \n",
      "2        N    AM                     MANAUS       A101  -3.103333 -60.016389   \n",
      "3       SE    RJ          ECOLOGIA AGRICOLA       A601 -22.800000 -43.683333   \n",
      "4        S    RS               PORTO ALEGRE       A801 -30.050000 -51.166667   \n",
      "..     ...   ...                        ...        ...        ...        ...   \n",
      "610      N    PA  SANTA MARIA DAS BARREIRAS       A256  -8.729722 -49.856389   \n",
      "611     SE    MG                     POMPEU       A560 -19.232500 -44.964167   \n",
      "612      N    PA               PORTO DE MOZ       A245  -1.821944 -52.111667   \n",
      "613     SE    RJ   Paty do Alferes - Avelar       A637 -22.347222 -43.417778   \n",
      "614      S    RS   PORTO ALEGRE- BELEM NOVO       B807 -30.186111 -51.178056   \n",
      "\n",
      "         lvl record_first record_last  \n",
      "0    1159,54   2000-05-07  2023-08-31  \n",
      "1      51,41   2000-05-13  2023-08-31  \n",
      "2      61,25   2000-05-09  2023-08-31  \n",
      "3         33   2000-05-07  2023-08-31  \n",
      "4      46,97   2000-09-22  2023-08-31  \n",
      "..       ...          ...         ...  \n",
      "610      165   2020-12-18  2023-08-31  \n",
      "611      705   2015-08-21  2023-08-31  \n",
      "612       19   2022-07-04  2023-08-31  \n",
      "613      508   2022-10-11  2023-08-31  \n",
      "614      3,3   2022-08-12  2023-08-31  \n",
      "\n",
      "[615 rows x 9 columns]\n"
     ]
    }
   ],
   "source": [
    "# Replace ',' with '.' in both 'lat' and 'long' columns\n",
    "df['lat'] = df['lat'].str.replace(',', '.')\n",
    "df['lon'] = df['lon'].str.replace(',', '.')\n",
    "\n",
    "# Convert to float type (optional, if needed for further calculations)\n",
    "df['lat'] = df['lat'].astype(float)\n",
    "df['lon'] = df['lon'].astype(float)\n",
    "\n",
    "print(df)"
   ]
  },
  {
   "cell_type": "code",
   "execution_count": 3,
   "id": "9291ea08-e723-4b08-b9b9-552fc7babe42",
   "metadata": {},
   "outputs": [
    {
     "name": "stdout",
     "output_type": "stream",
     "text": [
      "    region state                  city_station id_station        lat  \\\n",
      "3       SE    RJ             ECOLOGIA AGRICOLA       A601 -22.800000   \n",
      "28      SE    RJ                     MARAMBAIA       A602 -23.050000   \n",
      "29      SE    RJ                         XEREM       A603 -22.589722   \n",
      "30      SE    RJ                       CAMBUCI       A604 -21.566667   \n",
      "113     SE    RJ               ARRAIAL DO CABO       A606 -22.983333   \n",
      "114     SE    RJ                        CAMPOS       A607 -21.716667   \n",
      "115     SE    RJ                         MACAE       A608 -22.383333   \n",
      "116     SE    RJ                       RESENDE       A609 -22.450000   \n",
      "117     SE    RJ                 PICO DO COUTO       A610 -22.481667   \n",
      "118     SE    RJ                       VALENCA       A611 -22.350000   \n",
      "119     SE    RJ                   TERESOPOLIS       A618 -22.448889   \n",
      "120     SE    RJ                        PARATI       A619 -23.223333   \n",
      "237     SE    RJ                  VILA MILITAR       A621 -22.860833   \n",
      "238     SE    RJ           FORTE DE COPACABANA       A652 -22.988333   \n",
      "384     SE    RJ                      SAO TOME       A620 -22.041667   \n",
      "442     SE    RJ                 NOVA FRIBURGO       A624 -22.333056   \n",
      "482     SE    RJ                  SILVA JARDIM       A659 -22.645833   \n",
      "483     SE    RJ                     SAQUAREMA       A667 -22.871111   \n",
      "516     SE    RJ                     TRES RIOS       A625 -22.098333   \n",
      "517     SE    RJ                     RIO CLARO       A626 -22.653611   \n",
      "552     SE    RJ                ANGRA DOS REIS       A628 -22.975833   \n",
      "553     SE    RJ                      ITATIAIA       A635 -22.373889   \n",
      "554     SE    RJ  RIO DE JANEIRO - JACAREPAGUA       A636 -22.939722   \n",
      "591     SE    RJ                       NITEROI       A627 -22.867500   \n",
      "592     SE    RJ                         CARMO       A629 -21.938611   \n",
      "593     SE    RJ          SANTA MARIA MADALENA       A630 -21.950556   \n",
      "613     SE    RJ      Paty do Alferes - Avelar       A637 -22.347222   \n",
      "\n",
      "           lon     lvl record_first record_last  \n",
      "3   -43.683333      33   2000-05-07  2023-08-31  \n",
      "28  -43.600000     9,7   2002-11-08  2023-08-31  \n",
      "29  -43.282222      33   2002-10-21  2023-08-31  \n",
      "30  -41.950000      35   2002-11-20  2023-08-31  \n",
      "113 -42.016667       4   2006-09-24  2023-08-31  \n",
      "114 -41.350000      25   2006-09-25  2023-08-31  \n",
      "115 -41.816667      32   2006-09-22  2023-08-31  \n",
      "116 -44.450000  439,89   2006-09-29  2023-08-31  \n",
      "117 -43.291389    1777   2006-10-22  2023-08-31  \n",
      "118 -43.700000     367   2006-09-27  2023-08-31  \n",
      "119 -42.987222     980   2006-11-01  2023-08-31  \n",
      "120 -44.726667       5   2006-11-19  2023-08-31  \n",
      "237 -43.411111      45   2007-04-13  2023-08-31  \n",
      "238 -43.190278      42   2007-05-18  2023-08-31  \n",
      "384 -41.051944       8   2008-06-13  2023-08-31  \n",
      "442 -42.677222    1046   2010-09-17  2023-08-31  \n",
      "482 -42.415833      19   2015-08-28  2023-08-31  \n",
      "483 -42.609167      16   2015-09-02  2023-08-31  \n",
      "516 -43.208611     305   2016-06-08  2023-08-31  \n",
      "517 -44.040833     516   2016-06-03  2023-08-31  \n",
      "552 -44.303333       6   2017-08-25  2023-08-31  \n",
      "553 -44.703056    2450   2017-09-01  2021-12-31  \n",
      "554 -43.402778      20   2017-08-10  2023-08-31  \n",
      "591 -43.101944       6   2018-07-13  2023-08-31  \n",
      "592 -42.600833     293   2018-10-11  2023-08-31  \n",
      "593 -42.010556     517   2018-10-16  2023-08-31  \n",
      "613 -43.417778     508   2022-10-11  2023-08-31  \n"
     ]
    }
   ],
   "source": [
    "sp_data = df[df['state'] == 'RJ']\n",
    "print(sp_data)"
   ]
  },
  {
   "cell_type": "code",
   "execution_count": 4,
   "id": "9f9e6105-166e-4d05-b54a-d7a2742063a5",
   "metadata": {},
   "outputs": [
    {
     "name": "stdout",
     "output_type": "stream",
     "text": [
      "Filtered data saved to stations_RIO.csv\n"
     ]
    }
   ],
   "source": [
    "output_file_path = 'stations_RIO.csv'\n",
    "sp_data.to_csv(output_file_path, index=False)\n",
    "\n",
    "print(f\"Filtered data saved to {output_file_path}\")"
   ]
  },
  {
   "cell_type": "code",
   "execution_count": null,
   "id": "75d7d2a0-3a3a-4814-8a06-f81302576ced",
   "metadata": {},
   "outputs": [],
   "source": []
  }
 ],
 "metadata": {
  "kernelspec": {
   "display_name": "Python 3 (ipykernel)",
   "language": "python",
   "name": "python3"
  },
  "language_info": {
   "codemirror_mode": {
    "name": "ipython",
    "version": 3
   },
   "file_extension": ".py",
   "mimetype": "text/x-python",
   "name": "python",
   "nbconvert_exporter": "python",
   "pygments_lexer": "ipython3",
   "version": "3.12.0"
  }
 },
 "nbformat": 4,
 "nbformat_minor": 5
}
