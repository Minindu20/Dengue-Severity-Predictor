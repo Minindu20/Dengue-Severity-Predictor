{
 "cells": [
  {
   "cell_type": "code",
   "id": "initial_id",
   "metadata": {
    "collapsed": true,
    "ExecuteTime": {
     "end_time": "2024-12-24T10:52:09.335006Z",
     "start_time": "2024-12-24T10:52:09.053757Z"
    }
   },
   "source": [
    "import pandas as pd\n",
    "\n",
    "updated_csv = pd.read_csv('data/updated_out_tempo5.csv', dtype={'week': str})\n",
    "updated_csv = updated_csv.dropna(subset=['rain_max'])\n",
    "\n",
    "updated_csv.to_csv('updated_out_tempo_drop.dengue_cases_data', index=False)"
   ],
   "outputs": [],
   "execution_count": 31
  },
  {
   "metadata": {
    "ExecuteTime": {
     "end_time": "2024-12-24T10:52:48.899654Z",
     "start_time": "2024-12-24T10:52:48.772523Z"
    }
   },
   "cell_type": "code",
   "source": [
    "# Group by ESTACAO and week, then calculate max and mean precipitation\n",
    "\n",
    "cleaned_csv = pd.read_csv('data/updated_out_tempo_drop.csv', dtype={'week': str})\n",
    "\n",
    "weekly_stats = cleaned_csv.groupby(['ESTACAO', 'week'])['rain_max'].agg(\n",
    "    precipitation_max='max',\n",
    "    precipitation_avg='mean'\n",
    ").reset_index()\n",
    "\n",
    "# Select only the required columns, including week\n",
    "result = weekly_stats[['ESTACAO', 'week', 'precipitation_max', 'precipitation_avg']]\n",
    "\n",
    "# Save the result to a new CSV file\n",
    "result.to_csv('final_imputed_weekly_precipitation_drop.dengue_cases_data', index=False)"
   ],
   "id": "d72697939411fef1",
   "outputs": [],
   "execution_count": 32
  },
  {
   "metadata": {},
   "cell_type": "markdown",
   "source": "Data imputation started. the original file is rain_data.csv\n",
   "id": "bffe4d29b74abe30"
  },
  {
   "metadata": {
    "ExecuteTime": {
     "end_time": "2024-12-24T08:41:22.093232Z",
     "start_time": "2024-12-24T08:41:21.794295Z"
    }
   },
   "cell_type": "code",
   "source": [
    "import pandas as pd\n",
    "\n",
    "# Load the original CSV file\n",
    "original_csv = pd.read_csv('data/rain_data.csv', dtype={'week': str})\n",
    "\n",
    "# missing values\n",
    "missing_values = original_csv.isnull().sum()\n",
    "print(missing_values)"
   ],
   "id": "655052ae412e267b",
   "outputs": [
    {
     "name": "stdout",
     "output_type": "stream",
     "text": [
      "ESTACAO        0\n",
      "DATA           0\n",
      "rain_max    1269\n",
      "dtype: int64\n"
     ]
    }
   ],
   "execution_count": 8
  },
  {
   "metadata": {
    "ExecuteTime": {
     "end_time": "2024-12-24T09:10:58.453827Z",
     "start_time": "2024-12-24T09:10:40.214413Z"
    }
   },
   "cell_type": "code",
   "source": [
    "import pandas as pd\n",
    "import numpy as np\n",
    "from geopy.distance import geodesic\n",
    "\n",
    "# Load the rain data and stations data\n",
    "rain_data = pd.read_csv('data/rain_data.csv')  # Replace with actual file name\n",
    "stations = pd.read_csv('data/stations_RIO.csv')  # Replace with actual file name\n",
    "\n",
    "# Function to find the nearest station based on geodesic distance\n",
    "def find_nearest_station(rain_row, stations_df):\n",
    "    target_coords = (rain_row['lat'], rain_row['lon'])\n",
    "    stations_df['distance'] = stations_df.apply(\n",
    "        lambda row: geodesic(target_coords, (row['lat'], row['lon'])).km, axis=1\n",
    "    )\n",
    "    nearest_station = stations_df.loc[stations_df['distance'].idxmin()]\n",
    "    return nearest_station\n",
    "\n",
    "# Function to fill missing rain data\n",
    "def fill_missing_rain_data(rain_data, stations_df):\n",
    "    # Add lat/lon info to rain_data by matching 'ESTACAO' with 'id_station' from stations_df\n",
    "    rain_data = rain_data.merge(stations_df[['id_station', 'lat', 'lon']], left_on='ESTACAO', right_on='id_station', how='left')\n",
    "\n",
    "    # Loop through missing values in rain_max and fill them\n",
    "    for index, row in rain_data[rain_data['rain_max'].isna()].iterrows():\n",
    "        # Find the nearest station for the missing data\n",
    "        nearest_station = find_nearest_station(row, stations_df)\n",
    "\n",
    "        # Get the rain data for the nearest station (if available) and fill missing values\n",
    "        station_data = rain_data[rain_data['ESTACAO'] == nearest_station['id_station']]\n",
    "\n",
    "        if not station_data.empty:\n",
    "            avg_precipitation = station_data['rain_max'].mean()  # Mean of the nearest station data\n",
    "            rain_data.at[index, 'rain_max'] = avg_precipitation\n",
    "\n",
    "    return rain_data\n",
    "\n",
    "# Fill missing values with the nearest station data\n",
    "filled_rain_data = fill_missing_rain_data(rain_data, stations)\n",
    "\n",
    "# Save the updated data to the same file\n",
    "filled_rain_data.to_csv('filled_rain_data.dengue_cases_data', index=False)\n",
    "\n",
    "print(\"Missing rain data filled successfully.\")\n"
   ],
   "id": "92065b3a1293724c",
   "outputs": [
    {
     "name": "stdout",
     "output_type": "stream",
     "text": [
      "Missing rain data filled successfully.\n"
     ]
    }
   ],
   "execution_count": 11
  },
  {
   "metadata": {
    "ExecuteTime": {
     "end_time": "2024-12-24T10:47:23.111687Z",
     "start_time": "2024-12-24T10:47:20.974639Z"
    }
   },
   "cell_type": "code",
   "source": [
    "import pandas as pd\n",
    "import numpy as np\n",
    "from geopy.distance import geodesic\n",
    "\n",
    "# Load the rain data and stations data\n",
    "rain_data = pd.read_csv('data/filled_rain_data.csv')  # Replace with actual file name\n",
    "stations = pd.read_csv('data/stations_RIO.csv')  # Replace with actual file name\n",
    "\n",
    "# Merge rain_data with stations to get lat/lon for each ESTACAO\n",
    "rain_data = rain_data.merge(stations[['id_station', 'lat', 'lon']], left_on='ESTACAO', right_on='id_station', how='left')\n",
    "\n",
    "# Function to find the k nearest stations based on geodesic distance\n",
    "def find_k_nearest_stations(rain_row, stations_df, k=3):\n",
    "    target_coords = (rain_row['lat'], rain_row['lon'])\n",
    "    stations_df['distance'] = stations_df.apply(\n",
    "        lambda row: geodesic(target_coords, (row['lat'], row['lon'])).km, axis=1\n",
    "    )\n",
    "    # Get the k nearest stations\n",
    "    nearest_stations = stations_df.nsmallest(k, 'distance')\n",
    "    return nearest_stations\n",
    "\n",
    "# Function to fill missing rain data using k-nearest neighbors\n",
    "def fill_missing_rain_data(rain_data, stations_df, k=3):\n",
    "    # Loop through missing values in rain_max and fill them\n",
    "    for index, row in rain_data[rain_data['rain_max'].isna()].iterrows():\n",
    "        # Find the k nearest stations for the missing data\n",
    "        nearest_stations = find_k_nearest_stations(row, stations_df, k)\n",
    "\n",
    "        # Get the rain data for the nearest stations and calculate the average\n",
    "        # Filter the rain_data for the nearest stations and get their 'rain_max' values\n",
    "        nearest_rain_data = rain_data[rain_data['ESTACAO'].isin(nearest_stations['id_station'])]\n",
    "\n",
    "        # Calculate the mean of the 'rain_max' from the nearest stations\n",
    "        avg_precipitation = nearest_rain_data['rain_max'].mean()  # Mean of the k nearest stations' data\n",
    "        rain_data.at[index, 'rain_max'] = avg_precipitation\n",
    "\n",
    "    return rain_data\n",
    "\n",
    "# Fill missing values with the nearest station data (k=3)\n",
    "filled_rain_data = fill_missing_rain_data(rain_data, stations, k=3)\n",
    "\n",
    "# Save the updated data to the same file\n",
    "filled_rain_data.to_csv('filled_rain_data.dengue_cases_data', index=False)\n",
    "\n",
    "print(\"Missing rain data filled successfully.\")\n"
   ],
   "id": "e6aac9d03761b5b7",
   "outputs": [
    {
     "name": "stdout",
     "output_type": "stream",
     "text": [
      "Missing rain data filled successfully.\n"
     ]
    }
   ],
   "execution_count": 29
  },
  {
   "metadata": {
    "ExecuteTime": {
     "end_time": "2024-12-24T10:46:30.962317Z",
     "start_time": "2024-12-24T10:46:28.254798Z"
    }
   },
   "cell_type": "code",
   "source": [
    "import pandas as pd\n",
    "import numpy as np\n",
    "from geopy.distance import geodesic\n",
    "\n",
    "# Load the rain data and stations data\n",
    "rain_data = pd.read_csv('data/filled_rain_data.csv')  # Replace with actual file name\n",
    "stations = pd.read_csv('data/stations_RIO.csv')  # Replace with actual file name\n",
    "\n",
    "# Merge rain_data with stations to get lat/lon for each ESTACAO\n",
    "rain_data = rain_data.merge(stations[['id_station', 'lat', 'lon']], left_on='ESTACAO', right_on='id_station', how='left')\n",
    "\n",
    "# Function to find the k nearest stations based on geodesic distance\n",
    "def find_k_nearest_stations(rain_row, stations_df, k=3):\n",
    "    target_coords = (rain_row['lat'], rain_row['lon'])\n",
    "    stations_df['distance'] = stations_df.apply(\n",
    "        lambda row: geodesic(target_coords, (row['lat'], row['lon'])).km, axis=1\n",
    "    )\n",
    "    # Get the k nearest stations\n",
    "    nearest_stations = stations_df.nsmallest(k, 'distance')\n",
    "    return nearest_stations\n",
    "\n",
    "# Function to fill missing rain data using k-nearest neighbors\n",
    "def fill_missing_rain_data(rain_data, stations_df, k=3):\n",
    "    # Loop through missing values in rain_max and fill them\n",
    "    for index, row in rain_data[rain_data['rain_max'].isna()].iterrows():\n",
    "        # Find the k nearest stations for the missing data\n",
    "        nearest_stations = find_k_nearest_stations(row, stations_df, k)\n",
    "\n",
    "        # Filter the rain_data for the nearest stations and the specific date (DATA)\n",
    "        nearest_rain_data = rain_data[(rain_data['ESTACAO'].isin(nearest_stations['id_station'])) &\n",
    "                                      (rain_data['DATA'] == row['DATA'])]\n",
    "\n",
    "        # Calculate the mean of the 'rain_max' from the nearest stations for the specific date\n",
    "        avg_precipitation = nearest_rain_data['rain_max'].mean()  # Mean of the k nearest stations' data\n",
    "        rain_data.at[index, 'rain_max'] = avg_precipitation\n",
    "\n",
    "    return rain_data\n",
    "\n",
    "# Fill missing values with the nearest station data (k=3)\n",
    "filled_rain_data = fill_missing_rain_data(rain_data, stations, k=1)\n",
    "\n",
    "# Save the updated data to the same file\n",
    "filled_rain_data.to_csv('filled_rain_data.dengue_cases_data', index=False)\n",
    "\n",
    "print(\"Missing rain data filled successfully.\")\n"
   ],
   "id": "9c0466dbff1a672c",
   "outputs": [
    {
     "name": "stdout",
     "output_type": "stream",
     "text": [
      "Missing rain data filled successfully.\n"
     ]
    }
   ],
   "execution_count": 27
  },
  {
   "metadata": {
    "ExecuteTime": {
     "end_time": "2024-12-24T10:47:32.302119Z",
     "start_time": "2024-12-24T10:47:31.875262Z"
    }
   },
   "cell_type": "code",
   "source": [
    "filled_rain_data = pd.read_csv('data/filled_rain_data.csv')\n",
    "\n",
    "# missing values\n",
    "missing_values = filled_rain_data.isnull().sum()\n",
    "print(missing_values)\n",
    "\n",
    "# only take data and rain_max columns\n",
    "filled_rain_data = filled_rain_data[['ESTACAO', 'DATA', 'rain_max']]\n",
    "\n",
    "# Save the updated data to a new file\n",
    "filled_rain_data.to_csv('filled_rain_data.dengue_cases_data', index=False)"
   ],
   "id": "db689bfd12970377",
   "outputs": [
    {
     "name": "stdout",
     "output_type": "stream",
     "text": [
      "ESTACAO       0\n",
      "DATA          0\n",
      "rain_max      0\n",
      "id_station    0\n",
      "lat           0\n",
      "lon           0\n",
      "dtype: int64\n"
     ]
    }
   ],
   "execution_count": 30
  },
  {
   "metadata": {},
   "cell_type": "code",
   "outputs": [],
   "execution_count": null,
   "source": "",
   "id": "c083ace883d8ab0a"
  }
 ],
 "metadata": {
  "kernelspec": {
   "display_name": "Python 3",
   "language": "python",
   "name": "python3"
  },
  "language_info": {
   "codemirror_mode": {
    "name": "ipython",
    "version": 2
   },
   "file_extension": ".py",
   "mimetype": "text/x-python",
   "name": "python",
   "nbconvert_exporter": "python",
   "pygments_lexer": "ipython2",
   "version": "2.7.6"
  }
 },
 "nbformat": 4,
 "nbformat_minor": 5
}
