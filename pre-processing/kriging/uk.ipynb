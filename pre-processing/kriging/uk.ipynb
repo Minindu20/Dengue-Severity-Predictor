{
 "cells": [
  {
   "cell_type": "code",
   "id": "initial_id",
   "metadata": {
    "collapsed": true,
    "ExecuteTime": {
     "end_time": "2025-04-19T17:09:29.691497Z",
     "start_time": "2025-04-19T17:09:23.623805Z"
    }
   },
   "source": "import pandas as pd",
   "outputs": [],
   "execution_count": 1
  },
  {
   "metadata": {
    "ExecuteTime": {
     "end_time": "2025-04-19T17:09:29.763351Z",
     "start_time": "2025-04-19T17:09:29.694077Z"
    }
   },
   "cell_type": "code",
   "source": [
    "weather_data = pd.read_csv('impute/sorted_precipitation_data.csv', dtype={'week': 'str'})\n",
    "\n",
    "print(weather_data.head())"
   ],
   "id": "4d06cc1c6145bbeb",
   "outputs": [
    {
     "name": "stdout",
     "output_type": "stream",
     "text": [
      "  ESTACAO    week  precipitation_max  precipitation_avg\n",
      "0    A601  201201               66.2          14.171429\n",
      "1    A621  201201               11.2           2.714286\n",
      "2    A624  201201               17.2           5.771429\n",
      "3    A603  201201               19.0           9.685714\n",
      "4    A604  201201               18.4           7.514286\n"
     ]
    }
   ],
   "execution_count": 2
  },
  {
   "metadata": {
    "ExecuteTime": {
     "end_time": "2025-04-19T17:09:29.981210Z",
     "start_time": "2025-04-19T17:09:29.767371Z"
    }
   },
   "cell_type": "code",
   "source": [
    "stations_file_path = \"impute/stations_RIO.csv\"\n",
    "output_file_path = \"impute/sorted_precipitation_data_with_stations.csv\"\n",
    "\n",
    "stations_data = pd.read_csv(stations_file_path)\n",
    "\n",
    "# Merge the data based on the station ID\n",
    "merged_data = pd.merge(\n",
    "    weather_data,\n",
    "    stations_data[['id_station', 'lat', 'lon', 'lvl']],\n",
    "    left_on='ESTACAO',\n",
    "    right_on='id_station',\n",
    "    how='left'\n",
    ")\n",
    "\n",
    "# Drop the now-redundant 'id_station' column\n",
    "merged_data = merged_data.drop(columns=['id_station'])\n",
    "\n",
    "# Save the merged data to a new CSV file\n",
    "merged_data.to_csv(output_file_path, index=False)\n",
    "\n",
    "print(f\"Merged data saved to {output_file_path}\")"
   ],
   "id": "f0ca263442d069a1",
   "outputs": [
    {
     "name": "stdout",
     "output_type": "stream",
     "text": [
      "Merged data saved to impute/sorted_precipitation_data_with_stations.csv\n"
     ]
    }
   ],
   "execution_count": 3
  },
  {
   "metadata": {
    "ExecuteTime": {
     "end_time": "2025-04-19T17:09:31.244061Z",
     "start_time": "2025-04-19T17:09:29.987231Z"
    }
   },
   "cell_type": "code",
   "source": [
    "import pandas as pd\n",
    "from pykrige.uk3d import UniversalKriging3D\n",
    "\n",
    "def interpolate_precipitation_for_city(file_path, target_lat, target_lon, target_lvl):\n",
    "    df = pd.read_csv(file_path)\n",
    "    weeks = df['week'].unique()\n",
    "    results = []\n",
    "\n",
    "    for week in weeks:\n",
    "        week_data = df[df['week'] == week]\n",
    "\n",
    "        if len(week_data) < 3:\n",
    "            continue\n",
    "\n",
    "        x = week_data['lon'].values\n",
    "        y = week_data['lat'].values\n",
    "        z = week_data['lvl'].values\n",
    "\n",
    "        p_max = week_data['precipitation_max'].values\n",
    "        p_avg = week_data['precipitation_avg'].values\n",
    "\n",
    "        uk_max = UniversalKriging3D(\n",
    "            x, y, z, p_max,\n",
    "            variogram_model='linear',\n",
    "            drift_terms=['regional_linear']\n",
    "        )\n",
    "        interp_max, _ = uk_max.execute(\n",
    "            'points', [target_lon], [target_lat], [target_lvl]\n",
    "        )\n",
    "\n",
    "        uk_avg = UniversalKriging3D(\n",
    "            x, y, z, p_avg,\n",
    "            variogram_model='linear',\n",
    "            drift_terms=['regional_linear']\n",
    "        )\n",
    "        interp_avg, _ = uk_avg.execute(\n",
    "            'points', [target_lon], [target_lat], [target_lvl]\n",
    "        )\n",
    "\n",
    "        results.append({\n",
    "            'week': week,\n",
    "            'precipitation_max': interp_max[0],\n",
    "            'precipitation_avg': interp_avg[0]\n",
    "        })\n",
    "\n",
    "    return pd.DataFrame(results)\n"
   ],
   "id": "7e176bcbf3a0d452",
   "outputs": [],
   "execution_count": 4
  },
  {
   "metadata": {
    "ExecuteTime": {
     "end_time": "2025-04-19T17:10:00.340717Z",
     "start_time": "2025-04-19T17:09:31.248195Z"
    }
   },
   "cell_type": "code",
   "source": [
    "city_lat = -22.9\n",
    "city_lon = -43.2\n",
    "city_lvl = 20  # Example altitude\n",
    "\n",
    "df_result = interpolate_precipitation_for_city(\n",
    "    \"impute/sorted_precipitation_data_with_stations.csv\",\n",
    "    city_lat, city_lon, city_lvl\n",
    ")\n",
    "\n",
    "print(df_result)\n"
   ],
   "id": "936324aa2fdb1189",
   "outputs": [
    {
     "name": "stdout",
     "output_type": "stream",
     "text": [
      "       week  precipitation_max  precipitation_avg\n",
      "0    201201          16.709923           4.350179\n",
      "1    201202          16.146143           3.404620\n",
      "2    201203           3.609518           1.009952\n",
      "3    201204           6.419282           1.541386\n",
      "4    201205          10.671312           2.284658\n",
      "..      ...                ...                ...\n",
      "569  202248          18.829515           4.824378\n",
      "570  202249           6.513012           1.365163\n",
      "571  202250           8.935739           2.047114\n",
      "572  202251          10.682593           3.356903\n",
      "573  202252          10.316381           2.276391\n",
      "\n",
      "[574 rows x 3 columns]\n"
     ]
    }
   ],
   "execution_count": 5
  },
  {
   "metadata": {
    "ExecuteTime": {
     "end_time": "2025-04-19T17:10:00.350144Z",
     "start_time": "2025-04-19T17:10:00.344253Z"
    }
   },
   "cell_type": "code",
   "source": "",
   "id": "f14729140aeb33f6",
   "outputs": [],
   "execution_count": 5
  }
 ],
 "metadata": {
  "kernelspec": {
   "display_name": "Python 3",
   "language": "python",
   "name": "python3"
  },
  "language_info": {
   "codemirror_mode": {
    "name": "ipython",
    "version": 2
   },
   "file_extension": ".py",
   "mimetype": "text/x-python",
   "name": "python",
   "nbconvert_exporter": "python",
   "pygments_lexer": "ipython2",
   "version": "2.7.6"
  }
 },
 "nbformat": 4,
 "nbformat_minor": 5
}
