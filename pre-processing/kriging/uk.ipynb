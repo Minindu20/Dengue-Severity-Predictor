{
 "cells": [
  {
   "cell_type": "code",
   "id": "initial_id",
   "metadata": {
    "collapsed": true,
    "ExecuteTime": {
     "end_time": "2025-04-19T18:40:18.696364Z",
     "start_time": "2025-04-19T18:40:18.691668Z"
    }
   },
   "source": "import pandas as pd",
   "outputs": [],
   "execution_count": 18
  },
  {
   "metadata": {
    "ExecuteTime": {
     "end_time": "2025-04-19T18:40:18.732850Z",
     "start_time": "2025-04-19T18:40:18.708149Z"
    }
   },
   "cell_type": "code",
   "source": [
    "weather_data = pd.read_csv('impute/sorted_precipitation_data.csv', dtype={'week': 'str'})\n",
    "\n",
    "print(weather_data.head())"
   ],
   "id": "4d06cc1c6145bbeb",
   "outputs": [
    {
     "name": "stdout",
     "output_type": "stream",
     "text": [
      "  ESTACAO    week  precipitation_max  precipitation_avg\n",
      "0    A601  201201               66.2          14.171429\n",
      "1    A621  201201               11.2           2.714286\n",
      "2    A624  201201               17.2           5.771429\n",
      "3    A603  201201               19.0           9.685714\n",
      "4    A604  201201               18.4           7.514286\n"
     ]
    }
   ],
   "execution_count": 19
  },
  {
   "metadata": {
    "ExecuteTime": {
     "end_time": "2025-04-19T18:40:18.865492Z",
     "start_time": "2025-04-19T18:40:18.735876Z"
    }
   },
   "cell_type": "code",
   "source": [
    "stations_file_path = \"impute/stations_RIO.csv\"\n",
    "output_file_path = \"impute/sorted_precipitation_data_with_stations.csv\"\n",
    "\n",
    "stations_data = pd.read_csv(stations_file_path)\n",
    "\n",
    "# Merge the data based on the station ID\n",
    "merged_data = pd.merge(\n",
    "    weather_data,\n",
    "    stations_data[['id_station', 'lat', 'lon', 'lvl']],\n",
    "    left_on='ESTACAO',\n",
    "    right_on='id_station',\n",
    "    how='left'\n",
    ")\n",
    "\n",
    "# Drop the now-redundant 'id_station' column\n",
    "merged_data = merged_data.drop(columns=['id_station'])\n",
    "\n",
    "# Save the merged data to a new CSV file\n",
    "merged_data.to_csv(output_file_path, index=False)\n",
    "\n",
    "print(f\"Merged data saved to {output_file_path}\")"
   ],
   "id": "f0ca263442d069a1",
   "outputs": [
    {
     "name": "stdout",
     "output_type": "stream",
     "text": [
      "Merged data saved to impute/sorted_precipitation_data_with_stations.csv\n"
     ]
    }
   ],
   "execution_count": 20
  },
  {
   "metadata": {
    "ExecuteTime": {
     "end_time": "2025-04-19T18:40:18.908008Z",
     "start_time": "2025-04-19T18:40:18.867603Z"
    }
   },
   "cell_type": "code",
   "source": [
    "import pandas as pd\n",
    "from pykrige.uk3d import UniversalKriging3D\n",
    "\n",
    "def interpolate_precipitation_for_city(file_path, target_lat, target_lon, target_lvl):\n",
    "    df = pd.read_csv(file_path)\n",
    "    weeks = df['week'].unique()\n",
    "    results = []\n",
    "\n",
    "    for week in weeks:\n",
    "        week_data = df[df['week'] == week]\n",
    "\n",
    "        if len(week_data) < 3:\n",
    "            continue\n",
    "\n",
    "        x = week_data['lon'].values\n",
    "        y = week_data['lat'].values\n",
    "        z = week_data['lvl'].values\n",
    "\n",
    "        p_max = week_data['precipitation_max'].values\n",
    "        p_avg = week_data['precipitation_avg'].values\n",
    "\n",
    "        uk_max = UniversalKriging3D(\n",
    "            x, y, z, p_max,\n",
    "            variogram_model='linear',\n",
    "            drift_terms=['regional_linear']\n",
    "        )\n",
    "        interp_max, _ = uk_max.execute(\n",
    "            'points', [target_lon], [target_lat], [target_lvl]\n",
    "        )\n",
    "\n",
    "        uk_avg = UniversalKriging3D(\n",
    "            x, y, z, p_avg,\n",
    "            variogram_model='linear',\n",
    "            drift_terms=['regional_linear']\n",
    "        )\n",
    "        interp_avg, _ = uk_avg.execute(\n",
    "            'points', [target_lon], [target_lat], [target_lvl]\n",
    "        )\n",
    "\n",
    "        results.append({\n",
    "            'week': week,\n",
    "            'precipitation_max': interp_max[0],\n",
    "            'precipitation_avg': interp_avg[0]\n",
    "        })\n",
    "\n",
    "    return pd.DataFrame(results)\n"
   ],
   "id": "7e176bcbf3a0d452",
   "outputs": [],
   "execution_count": 21
  },
  {
   "metadata": {
    "ExecuteTime": {
     "end_time": "2025-04-19T18:40:19.076159Z",
     "start_time": "2025-04-19T18:40:19.066013Z"
    }
   },
   "cell_type": "code",
   "source": [
    "# city_lat = -22.9\n",
    "# city_lon = -43.2\n",
    "# city_lvl = 20  # Example altitude\n",
    "# \n",
    "# df_result = interpolate_precipitation_for_city(\n",
    "#     \"impute/sorted_precipitation_data_with_stations.csv\",\n",
    "#     city_lat, city_lon, city_lvl\n",
    "# )\n",
    "# \n",
    "# print(df_result)\n"
   ],
   "id": "936324aa2fdb1189",
   "outputs": [],
   "execution_count": 22
  },
  {
   "metadata": {
    "ExecuteTime": {
     "end_time": "2025-04-19T19:12:23.953154Z",
     "start_time": "2025-04-19T18:40:19.081873Z"
    }
   },
   "cell_type": "code",
   "source": [
    "# Load all cities\n",
    "cities_df = pd.read_csv(\"impute/filtered_RJ_lat_long_data.csv\")\n",
    "\n",
    "# Store final results\n",
    "all_results = []\n",
    "\n",
    "count = 0\n",
    "\n",
    "# Iterate over each city\n",
    "for _, row in cities_df.iterrows():\n",
    "    city = row['CITY']\n",
    "    state = row['STATE']\n",
    "    lat = row['LAT']\n",
    "    lon = row['LONG']\n",
    "    alt = row['ALT']\n",
    "    \n",
    "    count += 1\n",
    "    \n",
    "    # Print city information\n",
    "    print(f\"Processing city {count}: {city}, {state}\")\n",
    "\n",
    "    # Get precipitation for this city\n",
    "    df_result = interpolate_precipitation_for_city(\n",
    "        \"impute/sorted_precipitation_data_with_stations.csv\",\n",
    "        lat, lon, alt\n",
    "    )\n",
    "\n",
    "    # Add city and state to each week's row\n",
    "    df_result['city'] = city\n",
    "    df_result['state'] = state\n",
    "\n",
    "    all_results.append(df_result)\n",
    "\n",
    "# Combine all data\n",
    "combined_df = pd.concat(all_results, ignore_index=True)\n",
    "\n",
    "# Save to CSV\n",
    "combined_df.to_csv(\"impute/final_city_precipitation.csv\", index=False)\n",
    "print(\"Final precipitation data for all cities saved.\")"
   ],
   "id": "f14729140aeb33f6",
   "outputs": [
    {
     "name": "stdout",
     "output_type": "stream",
     "text": [
      "Processing city 1: Angra Dos Reis, RJ\n",
      "Processing city 2: Aperibé, RJ\n",
      "Processing city 3: Araruama, RJ\n",
      "Processing city 4: Areal, RJ\n",
      "Processing city 5: Armação Dos Búzios, RJ\n",
      "Processing city 6: Arraial Do Cabo, RJ\n",
      "Processing city 7: Barra Do Piraí, RJ\n",
      "Processing city 8: Barra Mansa, RJ\n",
      "Processing city 9: Belford Roxo, RJ\n",
      "Processing city 10: Bom Jardim, RJ\n",
      "Processing city 11: Bom Jesus Do Itabapoana, RJ\n",
      "Processing city 12: Cabo Frio, RJ\n",
      "Processing city 13: Cachoeiras De Macacu, RJ\n",
      "Processing city 14: Cambuci, RJ\n",
      "Processing city 15: Campos Dos Goytacazes, RJ\n",
      "Processing city 16: Cantagalo, RJ\n",
      "Processing city 17: Carapebus, RJ\n",
      "Processing city 18: Cardoso Moreira, RJ\n",
      "Processing city 19: Carmo, RJ\n",
      "Processing city 20: Casimiro De Abreu, RJ\n",
      "Processing city 21: Comendador Levy Gasparian, RJ\n",
      "Processing city 22: Conceição De Macabu, RJ\n",
      "Processing city 23: Cordeiro, RJ\n",
      "Processing city 24: Duas Barras, RJ\n",
      "Processing city 25: Duque De Caxias, RJ\n",
      "Processing city 26: Engenheiro Paulo De Frontin, RJ\n",
      "Processing city 27: Guapimirim, RJ\n",
      "Processing city 28: Iguaba Grande, RJ\n",
      "Processing city 29: Itaboraí, RJ\n",
      "Processing city 30: Itaguaí, RJ\n",
      "Processing city 31: Italva, RJ\n",
      "Processing city 32: Itaocara, RJ\n",
      "Processing city 33: Itaperuna, RJ\n",
      "Processing city 34: Itatiaia, RJ\n",
      "Processing city 35: Japeri, RJ\n",
      "Processing city 36: Laje Do Muriaé, RJ\n",
      "Processing city 37: Macaé, RJ\n",
      "Processing city 38: Macuco, RJ\n",
      "Processing city 39: Magé, RJ\n",
      "Processing city 40: Mangaratiba, RJ\n",
      "Processing city 41: Maricá, RJ\n",
      "Processing city 42: Mendes, RJ\n",
      "Processing city 43: Mesquita, RJ\n",
      "Processing city 44: Miguel Pereira, RJ\n",
      "Processing city 45: Miracema, RJ\n",
      "Processing city 46: Natividade, RJ\n",
      "Processing city 47: Nilópolis, RJ\n",
      "Processing city 48: Niterói, RJ\n",
      "Processing city 49: Nova Friburgo, RJ\n",
      "Processing city 50: Nova Iguaçu, RJ\n",
      "Processing city 51: Paracambi, RJ\n",
      "Processing city 52: Paraíba Do Sul, RJ\n",
      "Processing city 53: Paraty, RJ\n",
      "Processing city 54: Paty Do Alferes, RJ\n",
      "Processing city 55: Petrópolis, RJ\n",
      "Processing city 56: Pinheiral, RJ\n",
      "Processing city 57: Piraí, RJ\n",
      "Processing city 58: Porciúncula, RJ\n",
      "Processing city 59: Porto Real, RJ\n",
      "Processing city 60: Quatis, RJ\n",
      "Processing city 61: Queimados, RJ\n",
      "Processing city 62: Quissamã, RJ\n",
      "Processing city 63: Resende, RJ\n",
      "Processing city 64: Rio Bonito, RJ\n",
      "Processing city 65: Rio Claro, RJ\n",
      "Processing city 66: Rio Das Flores, RJ\n",
      "Processing city 67: Rio Das Ostras, RJ\n",
      "Processing city 68: Rio De Janeiro, RJ\n",
      "Processing city 69: Santa Maria Madalena, RJ\n",
      "Processing city 70: Santo Antônio De Pádua, RJ\n",
      "Processing city 71: São Fidélis, RJ\n",
      "Processing city 72: São Francisco De Itabapoana, RJ\n",
      "Processing city 73: São Gonçalo, RJ\n",
      "Processing city 74: São João Da Barra, RJ\n",
      "Processing city 75: São João De Meriti, RJ\n",
      "Processing city 76: São José De Ubá, RJ\n",
      "Processing city 77: São José Do Vale Do Rio Preto, RJ\n",
      "Processing city 78: São Pedro Da Aldeia, RJ\n",
      "Processing city 79: São Sebastião Do Alto, RJ\n",
      "Processing city 80: Sapucaia, RJ\n",
      "Processing city 81: Saquarema, RJ\n",
      "Processing city 82: Seropédica, RJ\n",
      "Processing city 83: Silva Jardim, RJ\n",
      "Processing city 84: Sumidouro, RJ\n",
      "Processing city 85: Tanguá, RJ\n",
      "Processing city 86: Teresópolis, RJ\n",
      "Processing city 87: Trajano De Moraes, RJ\n",
      "Processing city 88: Três Rios, RJ\n",
      "Processing city 89: Valença, RJ\n",
      "Processing city 90: Varre-Sai, RJ\n",
      "Processing city 91: Vassouras, RJ\n",
      "Processing city 92: Volta Redonda, RJ\n",
      "Final precipitation data for all cities saved.\n"
     ]
    }
   ],
   "execution_count": 23
  }
 ],
 "metadata": {
  "kernelspec": {
   "display_name": "Python 3",
   "language": "python",
   "name": "python3"
  },
  "language_info": {
   "codemirror_mode": {
    "name": "ipython",
    "version": 2
   },
   "file_extension": ".py",
   "mimetype": "text/x-python",
   "name": "python",
   "nbconvert_exporter": "python",
   "pygments_lexer": "ipython2",
   "version": "2.7.6"
  }
 },
 "nbformat": 4,
 "nbformat_minor": 5
}
