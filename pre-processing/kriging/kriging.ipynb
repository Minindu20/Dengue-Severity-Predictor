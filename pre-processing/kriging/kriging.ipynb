{
 "cells": [
  {
   "cell_type": "code",
   "id": "initial_id",
   "metadata": {
    "collapsed": true,
    "ExecuteTime": {
     "end_time": "2024-12-24T10:57:09.993130Z",
     "start_time": "2024-12-24T10:57:09.903524Z"
    }
   },
   "source": [
    "import pandas as pd\n",
    "\n",
    "# Define the relative file path\n",
    "file_path = \"impute/final_imputed_weekly_precipitation_drop.csv\"\n",
    "\n",
    "# Load the CSV file\n",
    "data = pd.read_csv(file_path, dtype={'week': 'str'})\n",
    "\n",
    "# Sort the dataframe by 'week' column\n",
    "sorted_data = data.sort_values(by='week')\n",
    "\n",
    "print(sorted_data.head())\n",
    "\n",
    "# Save the sorted data back to a new CSV file\n",
    "sorted_file_path = \"impute/sorted_precipitation_data.csv\"\n",
    "sorted_data.to_csv(sorted_file_path, index=False)\n",
    "\n",
    "print(f\"Filtered and sorted data saved to {sorted_file_path}\")\n"
   ],
   "outputs": [
    {
     "name": "stdout",
     "output_type": "stream",
     "text": [
      "     ESTACAO    week  precipitation_max  precipitation_avg\n",
      "0       A601  201201               66.2          14.171429\n",
      "7182    A621  201201               11.2           2.714286\n",
      "7752    A624  201201               17.2           5.771429\n",
      "1143    A603  201201               19.0           9.685714\n",
      "1710    A604  201201               18.4           7.514286\n",
      "Filtered and sorted data saved to impute/sorted_precipitation_data.csv\n"
     ]
    }
   ],
   "execution_count": 41
  },
  {
   "metadata": {
    "ExecuteTime": {
     "end_time": "2024-12-24T10:58:49.377398Z",
     "start_time": "2024-12-24T10:58:49.267122Z"
    }
   },
   "cell_type": "code",
   "source": [
    "import pandas as pd\n",
    "\n",
    "# Define file paths\n",
    "weather_file_path = \"impute/sorted_precipitation_data.csv\"\n",
    "stations_file_path = \"impute/stations_RIO.csv\"\n",
    "output_file_path = \"impute/sorted_precipitation_data_with_stations.csv\"\n",
    "\n",
    "# Load the CSV files\n",
    "weather_data = pd.read_csv(weather_file_path, dtype={'week': 'str'})\n",
    "stations_data = pd.read_csv(stations_file_path)\n",
    "\n",
    "# Merge the data based on the station ID\n",
    "merged_data = pd.merge(\n",
    "    weather_data,\n",
    "    stations_data[['id_station', 'lat', 'lon', 'lvl']],\n",
    "    left_on='ESTACAO',\n",
    "    right_on='id_station',\n",
    "    how='left'\n",
    ")\n",
    "\n",
    "# Drop the now-redundant 'id_station' column\n",
    "merged_data = merged_data.drop(columns=['id_station'])\n",
    "\n",
    "# Save the merged data to a new CSV file\n",
    "merged_data.to_csv(output_file_path, index=False)\n",
    "\n",
    "print(f\"Mergsd data saved to {output_file_path}\")\n"
   ],
   "id": "1e768108d3ec15ba",
   "outputs": [
    {
     "name": "stdout",
     "output_type": "stream",
     "text": [
      "Mergsd data saved to impute/sorted_precipitation_data_with_stations.csv\n"
     ]
    }
   ],
   "execution_count": 42
  },
  {
   "metadata": {
    "ExecuteTime": {
     "end_time": "2024-12-14T08:36:21.363115Z",
     "start_time": "2024-12-14T08:36:18.533061Z"
    }
   },
   "cell_type": "code",
   "source": [
    "import pandas as pd\n",
    "import numpy as np\n",
    "from pykrige.ok import OrdinaryKriging\n",
    "\n",
    "# Load the sorted precipitation data\n",
    "data = pd.read_csv(\"../kriging/data/sorted_precipitation_data.csv\")\n",
    "\n",
    "# Function for kriging to predict precipitation for given city coordinates and altitude\n",
    "def predict_precipitation(city_lat, city_lon, city_lvl):\n",
    "    weeks = sorted(data['week'].unique())\n",
    "    predictions = []\n",
    "\n",
    "    for week in weeks:\n",
    "        # Filter data for the specific week\n",
    "        week_data = data[data['week'] == week]\n",
    "\n",
    "        # Extract known points and corresponding values\n",
    "        known_points = week_data[['lat', 'lon', 'lvl']].values\n",
    "        values_avg = week_data['precipitation_avg'].values\n",
    "        values_max = week_data['precipitation_max'].values\n",
    "\n",
    "        # Create kriging models for average and max precipitation\n",
    "        kriging_avg = OrdinaryKriging(\n",
    "            week_data['lat'], week_data['lon'], week_data['lvl'], values_avg,\n",
    "            variogram_model='linear', verbose=False, enable_plotting=False\n",
    "        )\n",
    "        kriging_max = OrdinaryKriging(\n",
    "            week_data['lat'], week_data['lon'], week_data['lvl'], values_max,\n",
    "            variogram_model='linear', verbose=False, enable_plotting=False\n",
    "        )\n",
    "\n",
    "        # Predict precipitation for the city\n",
    "        pred_avg, _ = kriging_avg.execute('points', city_lat, city_lon, city_lvl)\n",
    "        pred_max, _ = kriging_max.execute('points', city_lat, city_lon, city_lvl)\n",
    "\n",
    "        # Store the predictions for the week\n",
    "        predictions.append({\n",
    "            'week': week,\n",
    "            'predicted_precipitation_avg': pred_avg[0],\n",
    "            'predicted_precipitation_max': pred_max[0]\n",
    "        })\n",
    "\n",
    "    return pd.DataFrame(predictions)\n",
    "\n",
    "# Example usage:\n",
    "city_lat = 34.05  # Replace with your city's latitude\n",
    "city_lon = -118.25  # Replace with your city's longitude\n",
    "city_lvl = 89  # Replace with your city's altitude\n",
    "\n",
    "predicted_data = predict_precipitation(city_lat, city_lon, city_lvl)\n",
    "print(predicted_data)\n"
   ],
   "id": "7993702a0f459285",
   "outputs": [
    {
     "ename": "TypeError",
     "evalue": "OrdinaryKriging.__init__() got multiple values for argument 'variogram_model'",
     "output_type": "error",
     "traceback": [
      "\u001B[1;31m---------------------------------------------------------------------------\u001B[0m",
      "\u001B[1;31mTypeError\u001B[0m                                 Traceback (most recent call last)",
      "Cell \u001B[1;32mIn[5], line 50\u001B[0m\n\u001B[0;32m     47\u001B[0m city_lon \u001B[38;5;241m=\u001B[39m \u001B[38;5;241m-\u001B[39m\u001B[38;5;241m118.25\u001B[39m  \u001B[38;5;66;03m# Replace with your city's longitude\u001B[39;00m\n\u001B[0;32m     48\u001B[0m city_lvl \u001B[38;5;241m=\u001B[39m \u001B[38;5;241m89\u001B[39m  \u001B[38;5;66;03m# Replace with your city's altitude\u001B[39;00m\n\u001B[1;32m---> 50\u001B[0m predicted_data \u001B[38;5;241m=\u001B[39m \u001B[43mpredict_precipitation\u001B[49m\u001B[43m(\u001B[49m\u001B[43mcity_lat\u001B[49m\u001B[43m,\u001B[49m\u001B[43m \u001B[49m\u001B[43mcity_lon\u001B[49m\u001B[43m,\u001B[49m\u001B[43m \u001B[49m\u001B[43mcity_lvl\u001B[49m\u001B[43m)\u001B[49m\n\u001B[0;32m     51\u001B[0m \u001B[38;5;28mprint\u001B[39m(predicted_data)\n",
      "Cell \u001B[1;32mIn[5], line 23\u001B[0m, in \u001B[0;36mpredict_precipitation\u001B[1;34m(city_lat, city_lon, city_lvl)\u001B[0m\n\u001B[0;32m     20\u001B[0m values_max \u001B[38;5;241m=\u001B[39m week_data[\u001B[38;5;124m'\u001B[39m\u001B[38;5;124mprecipitation_max\u001B[39m\u001B[38;5;124m'\u001B[39m]\u001B[38;5;241m.\u001B[39mvalues\n\u001B[0;32m     22\u001B[0m \u001B[38;5;66;03m# Create kriging models for average and max precipitation\u001B[39;00m\n\u001B[1;32m---> 23\u001B[0m kriging_avg \u001B[38;5;241m=\u001B[39m \u001B[43mOrdinaryKriging\u001B[49m\u001B[43m(\u001B[49m\n\u001B[0;32m     24\u001B[0m \u001B[43m    \u001B[49m\u001B[43mweek_data\u001B[49m\u001B[43m[\u001B[49m\u001B[38;5;124;43m'\u001B[39;49m\u001B[38;5;124;43mlat\u001B[39;49m\u001B[38;5;124;43m'\u001B[39;49m\u001B[43m]\u001B[49m\u001B[43m,\u001B[49m\u001B[43m \u001B[49m\u001B[43mweek_data\u001B[49m\u001B[43m[\u001B[49m\u001B[38;5;124;43m'\u001B[39;49m\u001B[38;5;124;43mlon\u001B[39;49m\u001B[38;5;124;43m'\u001B[39;49m\u001B[43m]\u001B[49m\u001B[43m,\u001B[49m\u001B[43m \u001B[49m\u001B[43mweek_data\u001B[49m\u001B[43m[\u001B[49m\u001B[38;5;124;43m'\u001B[39;49m\u001B[38;5;124;43mlvl\u001B[39;49m\u001B[38;5;124;43m'\u001B[39;49m\u001B[43m]\u001B[49m\u001B[43m,\u001B[49m\u001B[43m \u001B[49m\u001B[43mvalues_avg\u001B[49m\u001B[43m,\u001B[49m\n\u001B[0;32m     25\u001B[0m \u001B[43m    \u001B[49m\u001B[43mvariogram_model\u001B[49m\u001B[38;5;241;43m=\u001B[39;49m\u001B[38;5;124;43m'\u001B[39;49m\u001B[38;5;124;43mlinear\u001B[39;49m\u001B[38;5;124;43m'\u001B[39;49m\u001B[43m,\u001B[49m\u001B[43m \u001B[49m\u001B[43mverbose\u001B[49m\u001B[38;5;241;43m=\u001B[39;49m\u001B[38;5;28;43;01mFalse\u001B[39;49;00m\u001B[43m,\u001B[49m\u001B[43m \u001B[49m\u001B[43menable_plotting\u001B[49m\u001B[38;5;241;43m=\u001B[39;49m\u001B[38;5;28;43;01mFalse\u001B[39;49;00m\n\u001B[0;32m     26\u001B[0m \u001B[43m\u001B[49m\u001B[43m)\u001B[49m\n\u001B[0;32m     27\u001B[0m kriging_max \u001B[38;5;241m=\u001B[39m OrdinaryKriging(\n\u001B[0;32m     28\u001B[0m     week_data[\u001B[38;5;124m'\u001B[39m\u001B[38;5;124mlat\u001B[39m\u001B[38;5;124m'\u001B[39m], week_data[\u001B[38;5;124m'\u001B[39m\u001B[38;5;124mlon\u001B[39m\u001B[38;5;124m'\u001B[39m], week_data[\u001B[38;5;124m'\u001B[39m\u001B[38;5;124mlvl\u001B[39m\u001B[38;5;124m'\u001B[39m], values_max,\n\u001B[0;32m     29\u001B[0m     variogram_model\u001B[38;5;241m=\u001B[39m\u001B[38;5;124m'\u001B[39m\u001B[38;5;124mlinear\u001B[39m\u001B[38;5;124m'\u001B[39m, verbose\u001B[38;5;241m=\u001B[39m\u001B[38;5;28;01mFalse\u001B[39;00m, enable_plotting\u001B[38;5;241m=\u001B[39m\u001B[38;5;28;01mFalse\u001B[39;00m\n\u001B[0;32m     30\u001B[0m )\n\u001B[0;32m     32\u001B[0m \u001B[38;5;66;03m# Predict precipitation for the city\u001B[39;00m\n",
      "\u001B[1;31mTypeError\u001B[0m: OrdinaryKriging.__init__() got multiple values for argument 'variogram_model'"
     ]
    }
   ],
   "execution_count": 5
  },
  {
   "metadata": {},
   "cell_type": "code",
   "outputs": [],
   "execution_count": null,
   "source": "",
   "id": "3821d85e8bc31fb5"
  },
  {
   "metadata": {
    "ExecuteTime": {
     "end_time": "2024-12-14T11:45:35.593534Z",
     "start_time": "2024-12-14T11:45:35.162302Z"
    }
   },
   "cell_type": "code",
   "source": [
    "def remove_nan_precipitation(filepath):\n",
    "    data = pd.read_csv(filepath)\n",
    "    cleaned_data = data.dropna(subset=['precipitation_avg', 'precipitation_max'])\n",
    "    cleaned_data.to_csv(filepath, index=False)\n",
    "    \n",
    "remove_nan_precipitation(\"../kriging/data/sorted_precipitation_data.csv\")"
   ],
   "id": "bf6f94cc940df2b4",
   "outputs": [],
   "execution_count": 18
  },
  {
   "metadata": {
    "ExecuteTime": {
     "end_time": "2024-12-14T08:51:41.216489Z",
     "start_time": "2024-12-14T08:51:41.212123Z"
    }
   },
   "cell_type": "code",
   "source": "",
   "id": "99b844007c7bbed9",
   "outputs": [],
   "execution_count": 5
  },
  {
   "metadata": {
    "ExecuteTime": {
     "end_time": "2024-12-14T09:08:15.581240Z",
     "start_time": "2024-12-14T09:08:15.107343Z"
    }
   },
   "cell_type": "code",
   "source": [
    "from pykrige.uk import UniversalKriging\n",
    "import pandas as pd\n",
    "\n",
    "# Load the sorted precipitation data\n",
    "data = pd.read_csv(\"../kriging/data/sorted_precipitation_data.csv\")\n",
    "\n",
    "# Function to predict precipitation using Universal Kriging\n",
    "def predict_precipitation(city_lat, city_lon, city_lvl):\n",
    "    weeks = sorted(data['week'].unique())\n",
    "    predictions = []\n",
    "\n",
    "    for week in weeks:\n",
    "        # Filter data for the specific week\n",
    "        week_data = data[data['week'] == week]\n",
    "\n",
    "        # Universal Kriging for precipitation_avg\n",
    "        uk_avg = UniversalKriging(\n",
    "            week_data['lat'], week_data['lon'], week_data['precipitation_avg'],\n",
    "            variogram_model=\"linear\", drift_terms=[\"external_Z\"],\n",
    "            external_drift=week_data[\"lvl\"].values,\n",
    "            external_drift_x=week_data['lat'].values,  # Adding latitude as external drift coordinates\n",
    "            external_drift_y=week_data['lon'].values   # Adding longitude as external drift coordinates\n",
    "        )\n",
    "        pred_avg, _ = uk_avg.execute(\"points\", [city_lat], [city_lon], [city_lvl])\n",
    "\n",
    "        # Universal Kriging for precipitation_max\n",
    "        uk_max = UniversalKriging(\n",
    "            week_data['lat'], week_data['lon'], week_data['precipitation_max'],\n",
    "            variogram_model=\"linear\", drift_terms=[\"external_Z\"],\n",
    "            external_drift=week_data[\"lvl\"].values,\n",
    "            external_drift_x=week_data['lat'].values,  # Adding latitude as external drift coordinates\n",
    "            external_drift_y=week_data['lon'].values   # Adding longitude as external drift coordinates\n",
    "        )\n",
    "        pred_max, _ = uk_max.execute(\"points\", [city_lat], [city_lon], [city_lvl])\n",
    "\n",
    "        # Safely access the predictions and append them\n",
    "        predictions.append({\n",
    "            'week': week,\n",
    "            'predicted_precipitation_avg': pred_avg[0][0],  # First value of the prediction\n",
    "            'predicted_precipitation_max': pred_max[0][0]   # First value of the prediction\n",
    "        })\n",
    "\n",
    "    return pd.DataFrame(predictions)\n",
    "\n",
    "# Example usage with provided coordinates\n",
    "city_lat = -22  # Replace with your city's latitude\n",
    "city_lon = -6   # Replace with your city's longitude\n",
    "city_lvl = 43   # Replace with your city's altitude\n",
    "\n",
    "predicted_data = predict_precipitation(city_lat, city_lon, city_lvl)\n",
    "print(predicted_data)\n"
   ],
   "id": "937c77f1458d268d",
   "outputs": [
    {
     "ename": "ValueError",
     "evalue": "Must specify coordinates of external Z drift terms.",
     "output_type": "error",
     "traceback": [
      "\u001B[1;31m---------------------------------------------------------------------------\u001B[0m",
      "\u001B[1;31mValueError\u001B[0m                                Traceback (most recent call last)",
      "Cell \u001B[1;32mIn[13], line 50\u001B[0m\n\u001B[0;32m     47\u001B[0m city_lon \u001B[38;5;241m=\u001B[39m \u001B[38;5;241m-\u001B[39m\u001B[38;5;241m6\u001B[39m   \u001B[38;5;66;03m# Replace with your city's longitude\u001B[39;00m\n\u001B[0;32m     48\u001B[0m city_lvl \u001B[38;5;241m=\u001B[39m \u001B[38;5;241m43\u001B[39m   \u001B[38;5;66;03m# Replace with your city's altitude\u001B[39;00m\n\u001B[1;32m---> 50\u001B[0m predicted_data \u001B[38;5;241m=\u001B[39m \u001B[43mpredict_precipitation\u001B[49m\u001B[43m(\u001B[49m\u001B[43mcity_lat\u001B[49m\u001B[43m,\u001B[49m\u001B[43m \u001B[49m\u001B[43mcity_lon\u001B[49m\u001B[43m,\u001B[49m\u001B[43m \u001B[49m\u001B[43mcity_lvl\u001B[49m\u001B[43m)\u001B[49m\n\u001B[0;32m     51\u001B[0m \u001B[38;5;28mprint\u001B[39m(predicted_data)\n",
      "Cell \u001B[1;32mIn[13], line 21\u001B[0m, in \u001B[0;36mpredict_precipitation\u001B[1;34m(city_lat, city_lon, city_lvl)\u001B[0m\n\u001B[0;32m     18\u001B[0m external_drift \u001B[38;5;241m=\u001B[39m np\u001B[38;5;241m.\u001B[39mcolumn_stack((week_data[\u001B[38;5;124m\"\u001B[39m\u001B[38;5;124mlvl\u001B[39m\u001B[38;5;124m\"\u001B[39m]\u001B[38;5;241m.\u001B[39mvalues, week_data[\u001B[38;5;124m\"\u001B[39m\u001B[38;5;124mlat\u001B[39m\u001B[38;5;124m\"\u001B[39m]\u001B[38;5;241m.\u001B[39mvalues, week_data[\u001B[38;5;124m\"\u001B[39m\u001B[38;5;124mlon\u001B[39m\u001B[38;5;124m\"\u001B[39m]\u001B[38;5;241m.\u001B[39mvalues))\n\u001B[0;32m     20\u001B[0m \u001B[38;5;66;03m# Universal Kriging for precipitation_avg\u001B[39;00m\n\u001B[1;32m---> 21\u001B[0m uk_avg \u001B[38;5;241m=\u001B[39m \u001B[43mUniversalKriging\u001B[49m\u001B[43m(\u001B[49m\n\u001B[0;32m     22\u001B[0m \u001B[43m    \u001B[49m\u001B[43mweek_data\u001B[49m\u001B[43m[\u001B[49m\u001B[38;5;124;43m'\u001B[39;49m\u001B[38;5;124;43mlat\u001B[39;49m\u001B[38;5;124;43m'\u001B[39;49m\u001B[43m]\u001B[49m\u001B[43m,\u001B[49m\u001B[43m \u001B[49m\u001B[43mweek_data\u001B[49m\u001B[43m[\u001B[49m\u001B[38;5;124;43m'\u001B[39;49m\u001B[38;5;124;43mlon\u001B[39;49m\u001B[38;5;124;43m'\u001B[39;49m\u001B[43m]\u001B[49m\u001B[43m,\u001B[49m\u001B[43m \u001B[49m\u001B[43mweek_data\u001B[49m\u001B[43m[\u001B[49m\u001B[38;5;124;43m'\u001B[39;49m\u001B[38;5;124;43mprecipitation_avg\u001B[39;49m\u001B[38;5;124;43m'\u001B[39;49m\u001B[43m]\u001B[49m\u001B[43m,\u001B[49m\n\u001B[0;32m     23\u001B[0m \u001B[43m    \u001B[49m\u001B[43mvariogram_model\u001B[49m\u001B[38;5;241;43m=\u001B[39;49m\u001B[38;5;124;43m\"\u001B[39;49m\u001B[38;5;124;43mlinear\u001B[39;49m\u001B[38;5;124;43m\"\u001B[39;49m\u001B[43m,\u001B[49m\u001B[43m \u001B[49m\u001B[43mdrift_terms\u001B[49m\u001B[38;5;241;43m=\u001B[39;49m\u001B[43m[\u001B[49m\u001B[38;5;124;43m\"\u001B[39;49m\u001B[38;5;124;43mexternal_Z\u001B[39;49m\u001B[38;5;124;43m\"\u001B[39;49m\u001B[43m]\u001B[49m\u001B[43m,\u001B[49m\n\u001B[0;32m     24\u001B[0m \u001B[43m    \u001B[49m\u001B[43mexternal_drift\u001B[49m\u001B[38;5;241;43m=\u001B[39;49m\u001B[43mexternal_drift\u001B[49m\u001B[43m  \u001B[49m\u001B[38;5;66;43;03m# Pass the 2D array for external drift\u001B[39;49;00m\n\u001B[0;32m     25\u001B[0m \u001B[43m\u001B[49m\u001B[43m)\u001B[49m\n\u001B[0;32m     26\u001B[0m pred_avg, _ \u001B[38;5;241m=\u001B[39m uk_avg\u001B[38;5;241m.\u001B[39mexecute(\u001B[38;5;124m\"\u001B[39m\u001B[38;5;124mpoints\u001B[39m\u001B[38;5;124m\"\u001B[39m, [city_lat], [city_lon], [city_lvl])\n\u001B[0;32m     28\u001B[0m \u001B[38;5;66;03m# Universal Kriging for precipitation_max\u001B[39;00m\n",
      "File \u001B[1;32m~\\PycharmProjects\\FYP-dc\\.venv\\Lib\\site-packages\\pykrige\\uk.py:415\u001B[0m, in \u001B[0;36mUniversalKriging.__init__\u001B[1;34m(self, x, y, z, variogram_model, variogram_parameters, variogram_function, nlags, weight, anisotropy_scaling, anisotropy_angle, drift_terms, point_drift, external_drift, external_drift_x, external_drift_y, specified_drift, functional_drift, verbose, enable_plotting, exact_values, pseudo_inv, pseudo_inv_type)\u001B[0m\n\u001B[0;32m    413\u001B[0m     \u001B[38;5;28;01mraise\u001B[39;00m \u001B[38;5;167;01mValueError\u001B[39;00m(\u001B[38;5;124m\"\u001B[39m\u001B[38;5;124mMust specify external Z drift terms.\u001B[39m\u001B[38;5;124m\"\u001B[39m)\n\u001B[0;32m    414\u001B[0m \u001B[38;5;28;01mif\u001B[39;00m external_drift_x \u001B[38;5;129;01mis\u001B[39;00m \u001B[38;5;28;01mNone\u001B[39;00m \u001B[38;5;129;01mor\u001B[39;00m external_drift_y \u001B[38;5;129;01mis\u001B[39;00m \u001B[38;5;28;01mNone\u001B[39;00m:\n\u001B[1;32m--> 415\u001B[0m     \u001B[38;5;28;01mraise\u001B[39;00m \u001B[38;5;167;01mValueError\u001B[39;00m(\u001B[38;5;124m\"\u001B[39m\u001B[38;5;124mMust specify coordinates of external Z drift terms.\u001B[39m\u001B[38;5;124m\"\u001B[39m)\n\u001B[0;32m    416\u001B[0m \u001B[38;5;28mself\u001B[39m\u001B[38;5;241m.\u001B[39mexternal_Z_drift \u001B[38;5;241m=\u001B[39m \u001B[38;5;28;01mTrue\u001B[39;00m\n\u001B[0;32m    417\u001B[0m \u001B[38;5;28;01mif\u001B[39;00m (\n\u001B[0;32m    418\u001B[0m     external_drift\u001B[38;5;241m.\u001B[39mshape[\u001B[38;5;241m0\u001B[39m] \u001B[38;5;241m!=\u001B[39m external_drift_y\u001B[38;5;241m.\u001B[39mshape[\u001B[38;5;241m0\u001B[39m]\n\u001B[0;32m    419\u001B[0m     \u001B[38;5;129;01mor\u001B[39;00m external_drift\u001B[38;5;241m.\u001B[39mshape[\u001B[38;5;241m1\u001B[39m] \u001B[38;5;241m!=\u001B[39m external_drift_x\u001B[38;5;241m.\u001B[39mshape[\u001B[38;5;241m0\u001B[39m]\n\u001B[0;32m    420\u001B[0m ):\n",
      "\u001B[1;31mValueError\u001B[0m: Must specify coordinates of external Z drift terms."
     ]
    }
   ],
   "execution_count": 13
  },
  {
   "metadata": {},
   "cell_type": "markdown",
   "source": "Using regressing\n",
   "id": "c2ff4ce9e8a070c1"
  },
  {
   "metadata": {
    "ExecuteTime": {
     "end_time": "2024-12-23T10:18:21.828733Z",
     "start_time": "2024-12-23T10:18:21.769317Z"
    }
   },
   "cell_type": "code",
   "source": [
    "data = pd.read_csv(\"final/sorted_precipitation_data_with_stations.csv\")\n",
    "cities_data = pd.read_csv(\"final/filtered_RJ_lat_long_data.csv\")\n",
    "data['week'] = data['week'].astype(str)\n",
    "weeks = sorted(data['week'].unique())\n",
    "# show head\n",
    "print(data.head())\n",
    "print(cities_data.head())\n",
    "print(weeks)"
   ],
   "id": "9e1b99da969f1df3",
   "outputs": [
    {
     "name": "stdout",
     "output_type": "stream",
     "text": [
      "  ESTACAO      week  precipitation_avg  precipitation_max        lat  \\\n",
      "0    A601  201201.0          14.171429              66.20 -22.800000   \n",
      "1    A603  201201.0           3.771429              12.84 -22.589722   \n",
      "2    A621  201201.0           2.714286              11.20 -22.860833   \n",
      "3    A624  201201.0           5.771429              17.20 -22.333056   \n",
      "4    A604  201201.0           7.514286              18.40 -21.566667   \n",
      "\n",
      "         lon     lvl  \n",
      "0 -43.683333    33.0  \n",
      "1 -43.282222    33.0  \n",
      "2 -43.411111    45.0  \n",
      "3 -42.677222  1046.0  \n",
      "4 -41.950000    35.0  \n",
      "                 CITY STATE       LONG        LAT     ALT\n",
      "0      Angra Dos Reis    RJ -44.319627 -23.009116    7.64\n",
      "1             Aperibé    RJ -42.104917 -21.619422   65.93\n",
      "2            Araruama    RJ -42.341096 -22.877438   12.10\n",
      "3               Areal    RJ -43.101070 -22.236912  450.69\n",
      "4  Armação Dos Búzios    RJ -41.887749 -22.757764   10.97\n",
      "['201201.0', '201202.0', '201203.0', '201204.0', '201205.0', '201206.0', '201207.0', '201208.0', '201209.0', '201210.0', '201211.0', '201212.0', '201213.0', '201214.0', '201215.0', '201216.0', '201217.0', '201218.0', '201219.0', '201220.0', '201221.0', '201222.0', '201223.0', '201224.0', '201225.0', '201226.0', '201227.0', '201228.0', '201229.0', '201230.0', '201231.0', '201232.0', '201233.0', '201234.0', '201235.0', '201236.0', '201237.0', '201238.0', '201239.0', '201240.0', '201241.0', '201242.0', '201243.0', '201244.0', '201245.0', '201246.0', '201247.0', '201248.0', '201249.0', '201250.0', '201251.0', '201252.0', '201301.0', '201302.0', '201303.0', '201304.0', '201305.0', '201306.0', '201307.0', '201308.0', '201309.0', '201310.0', '201311.0', '201312.0', '201313.0', '201314.0', '201315.0', '201316.0', '201317.0', '201318.0', '201319.0', '201320.0', '201321.0', '201322.0', '201323.0', '201324.0', '201325.0', '201326.0', '201327.0', '201328.0', '201329.0', '201330.0', '201331.0', '201332.0', '201333.0', '201334.0', '201335.0', '201336.0', '201337.0', '201338.0', '201339.0', '201340.0', '201341.0', '201342.0', '201343.0', '201344.0', '201345.0', '201346.0', '201347.0', '201348.0', '201349.0', '201350.0', '201351.0', '201352.0', '201377.4', '201401.0', '201402.0', '201403.0', '201404.0', '201405.0', '201406.0', '201407.0', '201408.0', '201409.0', '201410.0', '201411.0', '201412.0', '201413.0', '201414.0', '201415.0', '201416.0', '201417.0', '201417.8', '201418.0', '201419.0', '201420.0', '201421.0', '201422.0', '201423.0', '201424.0', '201425.0', '201426.0', '201427.0', '201428.0', '201429.0', '201429.6', '201430.0', '201431.0', '201432.0', '201433.0', '201434.0', '201435.0', '201436.0', '201437.0', '201438.0', '201439.0', '201440.0', '201441.0', '201442.0', '201443.0', '201444.0', '201445.0', '201446.0', '201447.0', '201448.0', '201449.0', '201450.0', '201451.0', '201452.0', '201453.0', '201501.0', '201502.0', '201503.0', '201503.2', '201504.0', '201505.0', '201506.0', '201507.0', '201508.0', '201509.0', '201510.0', '201511.0', '201512.0', '201513.0', '201514.0', '201515.0', '201516.0', '201517.0', '201518.0', '201519.0', '201520.0', '201521.0', '201521.6', '201522.0', '201523.0', '201524.0', '201525.0', '201526.0', '201527.0', '201528.0', '201529.0', '201530.0', '201531.0', '201532.0', '201533.0', '201534.0', '201535.0', '201536.0', '201537.0', '201538.0', '201539.0', '201540.0', '201541.0', '201542.0', '201543.0', '201544.0', '201545.0', '201546.0', '201547.0', '201548.0', '201549.0', '201550.0', '201551.0', '201552.0', '201564.0', '201564.2', '201569.0', '201573.6', '201598.8', '201599.6', '201601.0', '201602.0', '201603.0', '201604.0', '201605.0', '201606.0', '201607.0', '201608.0', '201609.0', '201610.0', '201611.0', '201612.0', '201613.0', '201614.0', '201615.0', '201616.0', '201617.0', '201618.0', '201619.0', '201620.0', '201621.0', '201622.0', '201623.0', '201624.0', '201625.0', '201626.0', '201627.0', '201628.0', '201629.0', '201630.0', '201631.0', '201632.0', '201633.0', '201634.0', '201635.0', '201635.6', '201636.0', '201637.0', '201638.0', '201639.0', '201640.0', '201641.0', '201642.0', '201643.0', '201644.0', '201645.0', '201646.0', '201647.0', '201648.0', '201649.0', '201649.6', '201650.0', '201651.0', '201652.0', '201658.8', '201674.6', '201692.4', '201701.0', '201702.0', '201703.0', '201704.0', '201705.0', '201706.0', '201707.0', '201707.8', '201708.0', '201709.0', '201710.0', '201711.0', '201712.0', '201713.0', '201714.0', '201715.0', '201716.0', '201717.0', '201718.0', '201719.0', '201720.0', '201721.0', '201722.0', '201723.0', '201723.8', '201724.0', '201724.6', '201724.8', '201725.0', '201726.0', '201727.0', '201728.0', '201729.0', '201730.0', '201731.0', '201732.0', '201733.0', '201734.0', '201735.0', '201736.0', '201737.0', '201738.0', '201739.0', '201740.0', '201741.0', '201741.8', '201742.0', '201743.0', '201744.0', '201745.0', '201746.0', '201747.0', '201748.0', '201749.0', '201750.0', '201751.0', '201751.6', '201752.0', '201759.6', '201764.2', '201767.0', '201768.6', '201774.0', '201783.0', '201795.0', '201797.6', '201801.0', '201802.0', '201803.0', '201804.0', '201805.0', '201806.0', '201807.0', '201808.0', '201808.2', '201809.0', '201810.0', '201811.0', '201811.4', '201812.0', '201813.0', '201814.0', '201815.0', '201816.0', '201817.0', '201818.0', '201819.0', '201820.0', '201821.0', '201822.0', '201823.0', '201824.0', '201824.4', '201825.0', '201826.0', '201827.0', '201828.0', '201829.0', '201830.0', '201831.0', '201832.0', '201833.0', '201834.0', '201835.0', '201835.2', '201836.0', '201836.8', '201837.0', '201838.0', '201839.0', '201839.8', '201840.0', '201841.0', '201842.0', '201842.6', '201843.0', '201844.0', '201844.6', '201845.0', '201846.0', '201847.0', '201848.0', '201848.2', '201849.0', '201849.8', '201850.0', '201851.0', '201852.0', '201853.6', '201854.0', '201858.6', '201859.2', '201864.4', '201881.2', '201883.6', '201884.8', '201886.0', '201898.0', '201899.6', '201901.0', '201902.0', '201903.0', '201904.0', '201904.2', '201905.0', '201906.0', '201907.0', '201908.0', '201909.0', '201910.0', '201910.4', '201911.0', '201912.0', '201913.0', '201914.0', '201915.0', '201915.4', '201916.0', '201916.4', '201916.8', '201917.0', '201918.0', '201919.0', '201920.0', '201921.0', '201922.0', '201923.0', '201924.0', '201925.0', '201926.0', '201926.6', '201927.0', '201927.6', '201928.0', '201929.0', '201930.0', '201931.0', '201932.0', '201933.0', '201934.0', '201935.0', '201936.0', '201937.0', '201938.0', '201939.0', '201939.2', '201940.0', '201941.0', '201942.0', '201943.0', '201944.0', '201945.0', '201946.0', '201947.0', '201947.2', '201948.0', '201949.0', '201950.0', '201951.0', '201951.2', '201952.0', '201964.2', '201964.4', '201966.2', '201969.0', '201976.0', '201979.8', '201980.2', '201984.6', '201985.4', '201997.8', '201998.2', '202000.8', '202001.0', '202002.0', '202003.0', '202003.2', '202004.0', '202005.0', '202006.0', '202007.0', '202008.0', '202009.0', '202010.0', '202010.2', '202011.0', '202012.0', '202012.6', '202013.0', '202013.4', '202014.0', '202014.2', '202015.0', '202016.0', '202017.0', '202018.0', '202018.6', '202019.0', '202020.0', '202021.0', '202022.0', '202022.2', '202023.0', '202023.6', '202024.0', '202025.0', '202025.8', '202026.0', '202027.0', '202028.0', '202029.0', '202030.0', '202031.0', '202032.0', '202033.0', '202034.0', '202035.0', '202036.0', '202037.0', '202038.0', '202039.0', '202040.0', '202041.0', '202042.0', '202043.0', '202044.0', '202045.0', '202046.0', '202047.0', '202048.0', '202049.0', '202050.0', '202051.0', '202052.0', '202053.0', '202077.0', '202101.0', '202102.0', '202103.0', '202103.8', '202104.0', '202105.0', '202106.0', '202107.0', '202108.0', '202109.0', '202110.0', '202111.0', '202112.0', '202113.0', '202114.0', '202115.0', '202116.0', '202117.0', '202118.0', '202119.0', '202120.0', '202121.0', '202122.0', '202123.0', '202124.0', '202125.0', '202126.0', '202127.0', '202128.0', '202129.0', '202130.0', '202131.0', '202132.0', '202133.0', '202134.0', '202135.0', '202136.0', '202137.0', '202138.0', '202139.0', '202140.0', '202141.0', '202142.0', '202143.0', '202144.0', '202145.0', '202146.0', '202147.0', '202148.0', '202149.0', '202150.0', '202151.0', '202152.0', '202201.0', '202202.0', '202203.0', '202204.0', '202205.0', '202206.0', '202207.0', '202208.0', '202209.0', '202210.0', '202211.0', '202212.0', '202213.0', '202214.0', '202215.0', '202216.0', '202217.0', '202218.0', '202219.0', '202220.0', '202221.0', '202222.0', '202223.0', '202224.0', '202225.0', '202226.0', '202227.0', '202228.0', '202229.0', '202230.0', '202231.0', '202232.0', '202233.0', '202234.0', '202235.0', '202236.0', '202237.0', '202238.0', '202239.0', '202240.0', '202241.0', '202242.0', '202243.0', '202244.0', '202245.0', '202246.0', '202247.0', '202248.0', '202249.0', '202250.0', '202251.0', '202252.0']\n"
     ]
    }
   ],
   "execution_count": 16
  },
  {
   "metadata": {
    "ExecuteTime": {
     "end_time": "2024-12-24T11:15:44.463734Z",
     "start_time": "2024-12-24T11:02:49.699863Z"
    }
   },
   "cell_type": "code",
   "source": [
    "import pandas as pd\n",
    "import numpy as np\n",
    "from sklearn.linear_model import LinearRegression\n",
    "from pykrige.ok import OrdinaryKriging\n",
    "\n",
    "# Load the sorted precipitation data\n",
    "data = pd.read_csv(\"impute/sorted_precipitation_data_with_stations.csv\")\n",
    "cities_data = pd.read_csv(\"impute/filtered_RJ_lat_long_data.csv\")\n",
    "\n",
    "# Function for kriging precipitation with altitude adjustment\n",
    "def predict_precipitation_regression(city_lat, city_lon, city_lvl):\n",
    "    weeks = sorted(data['week'].unique())\n",
    "    predictions = []\n",
    "\n",
    "    for week in weeks:\n",
    "        # Filter data for the specific week\n",
    "        week_data = data[data['week'] == week]\n",
    "\n",
    "        # Extract features for regression\n",
    "        X = week_data[['lvl']].values  # Altitude\n",
    "        y_avg = week_data['precipitation_avg'].values\n",
    "        y_max = week_data['precipitation_max'].values\n",
    "\n",
    "        # Perform linear regression on altitude\n",
    "        reg_avg = LinearRegression().fit(X, y_avg)\n",
    "        reg_max = LinearRegression().fit(X, y_max)\n",
    "\n",
    "        # Calculate residuals\n",
    "        residuals_avg = y_avg - reg_avg.predict(X)\n",
    "        residuals_max = y_max - reg_max.predict(X)\n",
    "\n",
    "        # Perform kriging on residuals\n",
    "        kriging_avg = OrdinaryKriging(\n",
    "            week_data['lat'], week_data['lon'], residuals_avg,\n",
    "            variogram_model='linear', verbose=False, enable_plotting=False\n",
    "        )\n",
    "        kriging_max = OrdinaryKriging(\n",
    "            week_data['lat'], week_data['lon'], residuals_max,\n",
    "            variogram_model='linear', verbose=False, enable_plotting=False\n",
    "        )\n",
    "\n",
    "        # Predict residuals for the city\n",
    "        residual_avg, _ = kriging_avg.execute('points', float(city_lat), float(city_lon))\n",
    "        residual_max, _ = kriging_max.execute('points', float(city_lat), float(city_lon))\n",
    "\n",
    "        # Add the altitude effect back to the prediction\n",
    "        pred_avg = reg_avg.predict([[city_lvl]])[0] + residual_avg[0]\n",
    "        pred_max = reg_max.predict([[city_lvl]])[0] + residual_max[0]\n",
    "\n",
    "        # Store the predictions for the week\n",
    "        predictions.append({\n",
    "            'week': week,\n",
    "            'predicted_precipitation_avg': pred_avg,\n",
    "            'predicted_precipitation_max': pred_max\n",
    "        })\n",
    "\n",
    "    return predictions\n",
    "\n",
    "results = []\n",
    "for _, city in cities_data.iterrows():\n",
    "    city_name = city['CITY']\n",
    "    city_lat = city['LAT']\n",
    "    city_lon = city['LONG']\n",
    "    city_lvl = city['ALT']\n",
    "    \n",
    "    print(f\"Predicting precipitation for {city_name} ({city_lat}, {city_lon})\")\n",
    "\n",
    "    # Predict precipitation for the current city\n",
    "    city_predictions = predict_precipitation_regression(city_lat, city_lon, city_lvl)\n",
    "\n",
    "    # Add city name to each prediction\n",
    "    for prediction in city_predictions:\n",
    "        prediction['CITY'] = city_name\n",
    "        results.append(prediction)\n",
    "\n",
    "# Convert results to a DataFrame and save as a CSV file\n",
    "output_df = pd.DataFrame(results)\n",
    "output_df.to_csv(\"impute/predicted_precipitation_kriging_regression.dengue_cases_data\", index=False)\n",
    "\n",
    "print(\"Predictions saved to 'impute/predicted_precipitation_by_week.dengue_cases_data'\")\n"
   ],
   "id": "37bc80ea926f3be8",
   "outputs": [
    {
     "name": "stdout",
     "output_type": "stream",
     "text": [
      "Predicting precipitation for Angra Dos Reis (-23.00911594, -44.31962726)\n",
      "Predicting precipitation for Aperibé (-21.61942177, -42.10491665)\n",
      "Predicting precipitation for Araruama (-22.87743839, -42.34109602)\n",
      "Predicting precipitation for Areal (-22.236912, -43.10106981)\n",
      "Predicting precipitation for Armação Dos Búzios (-22.75776379, -41.88774947)\n",
      "Predicting precipitation for Arraial Do Cabo (-22.96763828, -42.02833597)\n",
      "Predicting precipitation for Barra Do Piraí (-22.46959629, -43.82845245)\n",
      "Predicting precipitation for Barra Mansa (-22.54530113, -44.17243137)\n",
      "Predicting precipitation for Belford Roxo (-22.76455597, -43.39962497)\n",
      "Predicting precipitation for Bom Jardim (-22.15330523, -42.41721148)\n",
      "Predicting precipitation for Bom Jesus Do Itabapoana (-21.13449744, -41.67767979)\n",
      "Predicting precipitation for Cabo Frio (-22.88076467, -42.0200748)\n",
      "Predicting precipitation for Cachoeiras De Macacu (-22.46757087, -42.66316436)\n",
      "Predicting precipitation for Cambuci (-21.57727671, -41.908636)\n",
      "Predicting precipitation for Campos Dos Goytacazes (-21.75189863, -41.33047649)\n",
      "Predicting precipitation for Cantagalo (-21.98183986, -42.3659776)\n",
      "Predicting precipitation for Carapebus (-22.18259473, -41.6640106)\n",
      "Predicting precipitation for Cardoso Moreira (-21.49615736, -41.61329635)\n",
      "Predicting precipitation for Carmo (-21.92931178, -42.60971764)\n",
      "Predicting precipitation for Casimiro De Abreu (-22.4795365, -42.20421054)\n",
      "Predicting precipitation for Comendador Levy Gasparian (-22.03335894, -43.21722372)\n",
      "Predicting precipitation for Conceição De Macabu (-22.08787153, -41.86775851)\n",
      "Predicting precipitation for Cordeiro (-22.02777656, -42.36303054)\n",
      "Predicting precipitation for Duas Barras (-22.05890609, -42.51509763)\n",
      "Predicting precipitation for Duque De Caxias (-22.78525325, -43.30988807)\n",
      "Predicting precipitation for Engenheiro Paulo De Frontin (-22.54368466, -43.67947683)\n",
      "Predicting precipitation for Guapimirim (-22.51959579, -42.9783297)\n",
      "Predicting precipitation for Iguaba Grande (-22.83905698, -42.22212454)\n",
      "Predicting precipitation for Itaboraí (-22.74586302, -42.86034343)\n",
      "Predicting precipitation for Itaguaí (-22.87125077, -43.77504063)\n",
      "Predicting precipitation for Italva (-21.42510328, -41.69096476)\n",
      "Predicting precipitation for Itaocara (-21.67050267, -42.07772952)\n",
      "Predicting precipitation for Itaperuna (-21.21059108, -41.88620318)\n",
      "Predicting precipitation for Itatiaia (-22.4970146, -44.56277199)\n",
      "Predicting precipitation for Japeri (-22.64481857, -43.6537858)\n",
      "Predicting precipitation for Laje Do Muriaé (-21.20572084, -42.13117442)\n",
      "Predicting precipitation for Macaé (-22.36870497, -41.77506429)\n",
      "Predicting precipitation for Macuco (-21.99022951, -42.25707388)\n",
      "Predicting precipitation for Magé (-22.65434876, -43.04024613)\n",
      "Predicting precipitation for Mangaratiba (-22.96171194, -44.04112655)\n",
      "Predicting precipitation for Maricá (-22.91695534, -42.81982411)\n",
      "Predicting precipitation for Mendes (-22.5174226, -43.72148689)\n",
      "Predicting precipitation for Mesquita (-22.76808792, -43.42922376)\n",
      "Predicting precipitation for Miguel Pereira (-22.45542661, -43.47467612)\n",
      "Predicting precipitation for Miracema (-21.4111633, -42.19841141)\n",
      "Predicting precipitation for Natividade (-21.04375699, -41.97644031)\n",
      "Predicting precipitation for Nilópolis (-22.80751422, -43.41660998)\n",
      "Predicting precipitation for Niterói (-22.89645239, -43.07582317)\n",
      "Predicting precipitation for Nova Friburgo (-22.28646146, -42.53277126)\n",
      "Predicting precipitation for Nova Iguaçu (-22.75983483, -43.45034533)\n",
      "Predicting precipitation for Paracambi (-22.60972716, -43.70938456)\n",
      "Predicting precipitation for Paraíba Do Sul (-22.16198154, -43.28954446)\n",
      "Predicting precipitation for Paraty (-23.21941361, -44.7108585)\n",
      "Predicting precipitation for Paty Do Alferes (-22.42741463, -43.42487092)\n",
      "Predicting precipitation for Petrópolis (-22.51059861, -43.17733658)\n",
      "Predicting precipitation for Pinheiral (-22.51567399, -44.00035456)\n",
      "Predicting precipitation for Piraí (-22.62875691, -43.89935119)\n",
      "Predicting precipitation for Porciúncula (-20.96260763, -42.04015636)\n",
      "Predicting precipitation for Porto Real (-22.43294842, -44.29690073)\n",
      "Predicting precipitation for Quatis (-22.40991866, -44.2627113)\n",
      "Predicting precipitation for Queimados (-22.71743049, -43.55566955)\n",
      "Predicting precipitation for Quissamã (-22.10664017, -41.4725094)\n",
      "Predicting precipitation for Resende (-22.47118359, -44.44361342)\n",
      "Predicting precipitation for Rio Bonito (-22.7112715, -42.62599784)\n",
      "Predicting precipitation for Rio Claro (-22.73172683, -44.13940564)\n",
      "Predicting precipitation for Rio Das Flores (-22.17186224, -43.57643295)\n",
      "Predicting precipitation for Rio Das Ostras (-22.52394119, -41.93696713)\n",
      "Predicting precipitation for Rio De Janeiro (-22.87665212, -43.22787512)\n",
      "Predicting precipitation for Santa Maria Madalena (-21.96609447, -42.01444499)\n",
      "Predicting precipitation for Santo Antônio De Pádua (-21.53597712, -42.17791156)\n",
      "Predicting precipitation for São Fidélis (-21.64362655, -41.75559231)\n",
      "Predicting precipitation for São Francisco De Itabapoana (-21.48013813, -41.11771973)\n",
      "Predicting precipitation for São Gonçalo (-22.82954731, -43.03233506)\n",
      "Predicting precipitation for São João Da Barra (-21.64045775, -41.05034815)\n",
      "Predicting precipitation for São João De Meriti (-22.80233081, -43.3718846)\n",
      "Predicting precipitation for São José De Ubá (-21.36022111, -41.94123194)\n",
      "Predicting precipitation for São José Do Vale Do Rio Preto (-22.14973951, -42.9233683)\n",
      "Predicting precipitation for São Pedro Da Aldeia (-22.83720319, -42.10352867)\n",
      "Predicting precipitation for São Sebastião Do Alto (-21.95446341, -42.13021968)\n",
      "Predicting precipitation for Sapucaia (-21.99395587, -42.91417536)\n",
      "Predicting precipitation for Saquarema (-22.93112742, -42.49669405)\n",
      "Predicting precipitation for Seropédica (-22.74301107, -43.70192522)\n",
      "Predicting precipitation for Silva Jardim (-22.6543302, -42.38982593)\n",
      "Predicting precipitation for Sumidouro (-22.05066941, -42.67862558)\n",
      "Predicting precipitation for Tanguá (-22.73393743, -42.72117195)\n",
      "Predicting precipitation for Teresópolis (-22.40900495, -42.96295671)\n",
      "Predicting precipitation for Trajano De Moraes (-22.0613797, -42.05481525)\n",
      "Predicting precipitation for Três Rios (-22.117448, -43.21160944)\n",
      "Predicting precipitation for Valença (-22.24471943, -43.70484368)\n",
      "Predicting precipitation for Varre-Sai (-20.92929766, -41.86329539)\n",
      "Predicting precipitation for Vassouras (-22.40900757, -43.66387402)\n",
      "Predicting precipitation for Volta Redonda (-22.5099676, -44.09352188)\n",
      "Predictions saved to 'impute/predicted_precipitation_by_week.csv'\n"
     ]
    }
   ],
   "execution_count": 43
  },
  {
   "metadata": {},
   "cell_type": "markdown",
   "source": "Normal way without altitude",
   "id": "362206e28bee79af"
  },
  {
   "metadata": {
    "ExecuteTime": {
     "end_time": "2024-12-24T11:55:34.342535Z",
     "start_time": "2024-12-24T11:49:15.571984Z"
    }
   },
   "cell_type": "code",
   "source": [
    "import pandas as pd\n",
    "import numpy as np\n",
    "from pykrige.ok import OrdinaryKriging\n",
    "\n",
    "# Load the sorted data\n",
    "file_path = \"impute/sorted_precipitation_data_with_stations.csv\"\n",
    "data = pd.read_csv(file_path)\n",
    "\n",
    "# Function to perform kriging for a given city location and predict precipitation\n",
    "def predict_precipitation_ordinary(city_lat, city_lon):\n",
    "    # Get unique weeks from the data\n",
    "    unique_weeks = data['week'].unique()\n",
    "\n",
    "    # Store predictions for each week\n",
    "    predictions = []\n",
    "\n",
    "    # Iterate through each week\n",
    "    for week in unique_weeks:\n",
    "        # Filter data for the current week\n",
    "        week_data = data[data['week'] == week]\n",
    "\n",
    "        # Prepare input arrays for kriging\n",
    "        lats = week_data['lat'].values\n",
    "        lons = week_data['lon'].values\n",
    "\n",
    "        avg_precip = week_data['precipitation_avg'].values\n",
    "        max_precip = week_data['precipitation_max'].values\n",
    "\n",
    "        # Ordinary Kriging for precipitation_avg\n",
    "        ok_avg = OrdinaryKriging(\n",
    "            lats, lons, avg_precip,\n",
    "            variogram_model='linear',\n",
    "            verbose=False,\n",
    "            enable_plotting=False\n",
    "        )\n",
    "        predicted_avg, _ = ok_avg.execute('points', float(city_lat), float(city_lon))\n",
    "\n",
    "        # Ordinary Kriging for precipitation_max\n",
    "        ok_max = OrdinaryKriging(\n",
    "            lats, lons, max_precip,\n",
    "            variogram_model='linear',\n",
    "            verbose=False,\n",
    "            enable_plotting=False\n",
    "        )\n",
    "        predicted_max, _ = ok_max.execute('points', float(city_lat), float(city_lon))\n",
    "\n",
    "        # Append predictions for this week\n",
    "        predictions.append({\n",
    "            'week': week,\n",
    "            'precipitation_avg': predicted_avg[0],\n",
    "            'precipitation_max': predicted_max[0]\n",
    "        })\n",
    "\n",
    "    return predictions  # Return a list of dictionaries, not a string\n",
    "\n",
    "# Example cities data (load your actual cities CSV file)\n",
    "cities_data = pd.read_csv(\"impute/filtered_RJ_lat_long_data.csv\")\n",
    "\n",
    "results = []\n",
    "for _, city in cities_data.iterrows():\n",
    "    city_name = city['CITY']\n",
    "    city_lat = city['LAT']\n",
    "    city_lon = city['LONG']\n",
    "    city_lvl = city['ALT']\n",
    "    \n",
    "    print(f\"Predicting precipitation for {city_name} ({city_lat}, {city_lon})\")\n",
    "\n",
    "    # Predict precipitation for the current city\n",
    "    city_predictions = predict_precipitation_ordinary(city_lat, city_lon)\n",
    "\n",
    "    for prediction in city_predictions:\n",
    "        prediction['CITY'] = city_name  # Add the city name to the prediction\n",
    "        results.append(prediction)\n",
    "\n",
    "# Convert results to a DataFrame and save as a CSV file\n",
    "output_df = pd.DataFrame(results)\n",
    "output_df.to_csv(\"impute/predicted_precipitation_by_week_ordinary.dengue_cases_data\", index=False)\n",
    "\n",
    "print(\"Predictions saved to 'impute/predicted_precipitation_by_week_ordinary.dengue_cases_data'\")\n"
   ],
   "id": "115728917b0cd40a",
   "outputs": [
    {
     "name": "stdout",
     "output_type": "stream",
     "text": [
      "Predicting precipitation for Angra Dos Reis (-23.00911594, -44.31962726)\n",
      "Predicting precipitation for Aperibé (-21.61942177, -42.10491665)\n",
      "Predicting precipitation for Araruama (-22.87743839, -42.34109602)\n",
      "Predicting precipitation for Areal (-22.236912, -43.10106981)\n",
      "Predicting precipitation for Armação Dos Búzios (-22.75776379, -41.88774947)\n",
      "Predicting precipitation for Arraial Do Cabo (-22.96763828, -42.02833597)\n",
      "Predicting precipitation for Barra Do Piraí (-22.46959629, -43.82845245)\n",
      "Predicting precipitation for Barra Mansa (-22.54530113, -44.17243137)\n",
      "Predicting precipitation for Belford Roxo (-22.76455597, -43.39962497)\n",
      "Predicting precipitation for Bom Jardim (-22.15330523, -42.41721148)\n",
      "Predicting precipitation for Bom Jesus Do Itabapoana (-21.13449744, -41.67767979)\n",
      "Predicting precipitation for Cabo Frio (-22.88076467, -42.0200748)\n",
      "Predicting precipitation for Cachoeiras De Macacu (-22.46757087, -42.66316436)\n",
      "Predicting precipitation for Cambuci (-21.57727671, -41.908636)\n",
      "Predicting precipitation for Campos Dos Goytacazes (-21.75189863, -41.33047649)\n",
      "Predicting precipitation for Cantagalo (-21.98183986, -42.3659776)\n",
      "Predicting precipitation for Carapebus (-22.18259473, -41.6640106)\n",
      "Predicting precipitation for Cardoso Moreira (-21.49615736, -41.61329635)\n",
      "Predicting precipitation for Carmo (-21.92931178, -42.60971764)\n",
      "Predicting precipitation for Casimiro De Abreu (-22.4795365, -42.20421054)\n",
      "Predicting precipitation for Comendador Levy Gasparian (-22.03335894, -43.21722372)\n",
      "Predicting precipitation for Conceição De Macabu (-22.08787153, -41.86775851)\n",
      "Predicting precipitation for Cordeiro (-22.02777656, -42.36303054)\n",
      "Predicting precipitation for Duas Barras (-22.05890609, -42.51509763)\n",
      "Predicting precipitation for Duque De Caxias (-22.78525325, -43.30988807)\n",
      "Predicting precipitation for Engenheiro Paulo De Frontin (-22.54368466, -43.67947683)\n",
      "Predicting precipitation for Guapimirim (-22.51959579, -42.9783297)\n",
      "Predicting precipitation for Iguaba Grande (-22.83905698, -42.22212454)\n",
      "Predicting precipitation for Itaboraí (-22.74586302, -42.86034343)\n",
      "Predicting precipitation for Itaguaí (-22.87125077, -43.77504063)\n",
      "Predicting precipitation for Italva (-21.42510328, -41.69096476)\n",
      "Predicting precipitation for Itaocara (-21.67050267, -42.07772952)\n",
      "Predicting precipitation for Itaperuna (-21.21059108, -41.88620318)\n",
      "Predicting precipitation for Itatiaia (-22.4970146, -44.56277199)\n",
      "Predicting precipitation for Japeri (-22.64481857, -43.6537858)\n",
      "Predicting precipitation for Laje Do Muriaé (-21.20572084, -42.13117442)\n",
      "Predicting precipitation for Macaé (-22.36870497, -41.77506429)\n",
      "Predicting precipitation for Macuco (-21.99022951, -42.25707388)\n",
      "Predicting precipitation for Magé (-22.65434876, -43.04024613)\n",
      "Predicting precipitation for Mangaratiba (-22.96171194, -44.04112655)\n",
      "Predicting precipitation for Maricá (-22.91695534, -42.81982411)\n",
      "Predicting precipitation for Mendes (-22.5174226, -43.72148689)\n",
      "Predicting precipitation for Mesquita (-22.76808792, -43.42922376)\n",
      "Predicting precipitation for Miguel Pereira (-22.45542661, -43.47467612)\n",
      "Predicting precipitation for Miracema (-21.4111633, -42.19841141)\n",
      "Predicting precipitation for Natividade (-21.04375699, -41.97644031)\n",
      "Predicting precipitation for Nilópolis (-22.80751422, -43.41660998)\n",
      "Predicting precipitation for Niterói (-22.89645239, -43.07582317)\n",
      "Predicting precipitation for Nova Friburgo (-22.28646146, -42.53277126)\n",
      "Predicting precipitation for Nova Iguaçu (-22.75983483, -43.45034533)\n",
      "Predicting precipitation for Paracambi (-22.60972716, -43.70938456)\n",
      "Predicting precipitation for Paraíba Do Sul (-22.16198154, -43.28954446)\n",
      "Predicting precipitation for Paraty (-23.21941361, -44.7108585)\n",
      "Predicting precipitation for Paty Do Alferes (-22.42741463, -43.42487092)\n",
      "Predicting precipitation for Petrópolis (-22.51059861, -43.17733658)\n",
      "Predicting precipitation for Pinheiral (-22.51567399, -44.00035456)\n",
      "Predicting precipitation for Piraí (-22.62875691, -43.89935119)\n",
      "Predicting precipitation for Porciúncula (-20.96260763, -42.04015636)\n",
      "Predicting precipitation for Porto Real (-22.43294842, -44.29690073)\n",
      "Predicting precipitation for Quatis (-22.40991866, -44.2627113)\n",
      "Predicting precipitation for Queimados (-22.71743049, -43.55566955)\n",
      "Predicting precipitation for Quissamã (-22.10664017, -41.4725094)\n",
      "Predicting precipitation for Resende (-22.47118359, -44.44361342)\n",
      "Predicting precipitation for Rio Bonito (-22.7112715, -42.62599784)\n",
      "Predicting precipitation for Rio Claro (-22.73172683, -44.13940564)\n",
      "Predicting precipitation for Rio Das Flores (-22.17186224, -43.57643295)\n",
      "Predicting precipitation for Rio Das Ostras (-22.52394119, -41.93696713)\n",
      "Predicting precipitation for Rio De Janeiro (-22.87665212, -43.22787512)\n",
      "Predicting precipitation for Santa Maria Madalena (-21.96609447, -42.01444499)\n",
      "Predicting precipitation for Santo Antônio De Pádua (-21.53597712, -42.17791156)\n",
      "Predicting precipitation for São Fidélis (-21.64362655, -41.75559231)\n",
      "Predicting precipitation for São Francisco De Itabapoana (-21.48013813, -41.11771973)\n",
      "Predicting precipitation for São Gonçalo (-22.82954731, -43.03233506)\n",
      "Predicting precipitation for São João Da Barra (-21.64045775, -41.05034815)\n",
      "Predicting precipitation for São João De Meriti (-22.80233081, -43.3718846)\n",
      "Predicting precipitation for São José De Ubá (-21.36022111, -41.94123194)\n",
      "Predicting precipitation for São José Do Vale Do Rio Preto (-22.14973951, -42.9233683)\n",
      "Predicting precipitation for São Pedro Da Aldeia (-22.83720319, -42.10352867)\n",
      "Predicting precipitation for São Sebastião Do Alto (-21.95446341, -42.13021968)\n",
      "Predicting precipitation for Sapucaia (-21.99395587, -42.91417536)\n",
      "Predicting precipitation for Saquarema (-22.93112742, -42.49669405)\n",
      "Predicting precipitation for Seropédica (-22.74301107, -43.70192522)\n",
      "Predicting precipitation for Silva Jardim (-22.6543302, -42.38982593)\n",
      "Predicting precipitation for Sumidouro (-22.05066941, -42.67862558)\n",
      "Predicting precipitation for Tanguá (-22.73393743, -42.72117195)\n",
      "Predicting precipitation for Teresópolis (-22.40900495, -42.96295671)\n",
      "Predicting precipitation for Trajano De Moraes (-22.0613797, -42.05481525)\n",
      "Predicting precipitation for Três Rios (-22.117448, -43.21160944)\n",
      "Predicting precipitation for Valença (-22.24471943, -43.70484368)\n",
      "Predicting precipitation for Varre-Sai (-20.92929766, -41.86329539)\n",
      "Predicting precipitation for Vassouras (-22.40900757, -43.66387402)\n",
      "Predicting precipitation for Volta Redonda (-22.5099676, -44.09352188)\n",
      "Predictions saved to 'impute/predicted_precipitation_by_week_ordinary.csv'\n"
     ]
    }
   ],
   "execution_count": 46
  },
  {
   "metadata": {
    "ExecuteTime": {
     "end_time": "2024-12-24T12:36:51.873629Z",
     "start_time": "2024-12-24T12:36:51.668929Z"
    }
   },
   "cell_type": "code",
   "source": [
    "# Read the CSV file\n",
    "df = pd.read_csv('impute/predicted_precipitation_by_week_ordinary.csv')\n",
    "\n",
    "# Replace negative precipitation values with 0\n",
    "df['precipitation_avg'] = df['precipitation_avg'].apply(lambda x: max(x, 0))\n",
    "df['precipitation_max'] = df['precipitation_max'].apply(lambda x: max(x, 0))\n",
    "\n",
    "# Round the precipitation values to 4 decimal places\n",
    "df['precipitation_avg'] = df['precipitation_avg'].round(4)\n",
    "df['precipitation_max'] = df['precipitation_max'].round(4)\n",
    "\n",
    "# Save the updated DataFrame back to the same CSV file\n",
    "df.to_csv('impute/knn_imputed_precipitation_ordinary_kriging.dengue_cases_data', index=False)\n",
    "\n",
    "print(\"Negative precipitation values have been replaced with 0 and rounded to 4 decimal places.\")"
   ],
   "id": "d66edb0bd285b2aa",
   "outputs": [
    {
     "name": "stdout",
     "output_type": "stream",
     "text": [
      "Negative precipitation values have been replaced with 0 and rounded to 4 decimal places.\n"
     ]
    }
   ],
   "execution_count": 47
  },
  {
   "metadata": {
    "ExecuteTime": {
     "end_time": "2024-12-24T12:38:45.946287Z",
     "start_time": "2024-12-24T12:38:45.729258Z"
    }
   },
   "cell_type": "code",
   "source": [
    "# Read the CSV file\n",
    "df = pd.read_csv('impute/predicted_precipitation_kriging_regression.csv')\n",
    "\n",
    "# Replace negative precipitation values with 0\n",
    "df['predicted_precipitation_avg'] = df['predicted_precipitation_avg'].apply(lambda x: max(x, 0))\n",
    "df['predicted_precipitation_max'] = df['predicted_precipitation_max'].apply(lambda x: max(x, 0))\n",
    "\n",
    "# Round the precipitation values to 4 decimal places\n",
    "df['predicted_precipitation_avg'] = df['predicted_precipitation_avg'].round(4)\n",
    "df['predicted_precipitation_max'] = df['predicted_precipitation_max'].round(4)\n",
    "\n",
    "# Save the updated DataFrame back to the same CSV file\n",
    "df.to_csv('impute/knn_imputed_precipitation_kriging_level_regression.dengue_cases_data', index=False)\n",
    "\n",
    "print(\"Negative precipitation values have been replaced with 0 and rounded to 4 decimal places.\")\n"
   ],
   "id": "482c238c28a6a66",
   "outputs": [
    {
     "name": "stdout",
     "output_type": "stream",
     "text": [
      "Negative precipitation values have been replaced with 0 and rounded to 4 decimal places.\n"
     ]
    }
   ],
   "execution_count": 48
  },
  {
   "metadata": {
    "ExecuteTime": {
     "end_time": "2024-12-24T08:05:23.564009Z",
     "start_time": "2024-12-24T08:05:22.994246Z"
    }
   },
   "cell_type": "code",
   "source": [
    "import pandas as pd\n",
    "from itertools import product\n",
    "\n",
    "def fill_missing_weeks(predicted_csv, dates_csv, output_csv):\n",
    "    # Read the CSV files\n",
    "    predicted_df = pd.read_csv(predicted_csv)\n",
    "    dates_df = pd.read_csv(dates_csv)\n",
    "\n",
    "    # Extract unique weeks and cities\n",
    "    unique_weeks = dates_df['week'].unique()\n",
    "    unique_cities = predicted_df['CITY'].unique()\n",
    "\n",
    "    # Create a cross-product of weeks and cities\n",
    "    all_combinations = pd.DataFrame(product(unique_weeks, unique_cities), columns=['week', 'CITY'])\n",
    "\n",
    "    # Merge the all-combinations DataFrame with the predicted DataFrame\n",
    "    merged_df = pd.merge(all_combinations, predicted_df, on=['week', 'CITY'], how='left')\n",
    "\n",
    "    # Count missing values for each column\n",
    "    missing_values = merged_df.isna().sum()\n",
    "\n",
    "    # Print missing values count\n",
    "    print(\"Missing values count after merging:\")\n",
    "    print(missing_values)\n",
    "\n",
    "    # Save the merged DataFrame to a new CSV file\n",
    "    merged_df.to_csv(output_csv, index=False)\n",
    "\n",
    "# Usage\n",
    "fill_missing_weeks('final/predicted_precipitation_by_week_ordinary.dengue_cases_data', 'dates.dengue_cases_data', 'final/final_precipitation_ordinary_kriging.dengue_cases_data')\n"
   ],
   "id": "2a54a9ccf934e237",
   "outputs": [
    {
     "name": "stdout",
     "output_type": "stream",
     "text": [
      "Missing values count after merging:\n",
      "week                   0\n",
      "CITY                   0\n",
      "precipitation_avg    368\n",
      "precipitation_max    368\n",
      "dtype: int64\n"
     ]
    }
   ],
   "execution_count": 33
  },
  {
   "metadata": {
    "ExecuteTime": {
     "end_time": "2024-12-24T07:38:07.391686Z",
     "start_time": "2024-12-24T07:38:06.543071Z"
    }
   },
   "cell_type": "code",
   "source": "fill_missing_weeks('final/predicted_precipitation_kriging_regression.dengue_cases_data', 'dates.dengue_cases_data', 'final/final_precipitation_regression_kriging.dengue_cases_data')\n",
   "id": "cf27fd6324c09ad2",
   "outputs": [
    {
     "name": "stdout",
     "output_type": "stream",
     "text": [
      "Missing values count after merging:\n",
      "week                             0\n",
      "CITY                             0\n",
      "predicted_precipitation_avg    368\n",
      "predicted_precipitation_max    368\n",
      "dtype: int64\n"
     ]
    }
   ],
   "execution_count": 28
  },
  {
   "metadata": {
    "ExecuteTime": {
     "end_time": "2024-12-24T12:42:14.830514Z",
     "start_time": "2024-12-24T12:42:14.663003Z"
    }
   },
   "cell_type": "code",
   "source": [
    "# Specify the file path\n",
    "file_path = 'impute/knn_imputed_precipitation_kriging_level_regression.csv'\n",
    "\n",
    "# Load the CSV file\n",
    "df = pd.read_csv(file_path)\n",
    "\n",
    "# Rename columns by removing the word \"predicted\"\n",
    "df.rename(columns=lambda x: x.replace(\"predicted_\", \"\"), inplace=True)\n",
    "\n",
    "# Save the updated DataFrame back to the same file\n",
    "df.to_csv(file_path, index=False)\n",
    "\n",
    "print(\"Column names updated successfully in the same file.\")"
   ],
   "id": "2d655328c26f20a9",
   "outputs": [
    {
     "name": "stdout",
     "output_type": "stream",
     "text": [
      "Column names updated successfully in the same file.\n"
     ]
    }
   ],
   "execution_count": 50
  },
  {
   "metadata": {
    "ExecuteTime": {
     "end_time": "2024-12-24T08:06:50.452685Z",
     "start_time": "2024-12-24T08:06:50.163968Z"
    }
   },
   "cell_type": "code",
   "source": [
    "import pandas as pd\n",
    "\n",
    "def fill_missing_january_data(data_path, output_path):\n",
    "    # Read the dataset\n",
    "    df = pd.read_csv(data_path)\n",
    "\n",
    "    # Identify missing weeks for January 2012\n",
    "    missing_weeks = [201201, 201202, 201203, 201204]\n",
    "\n",
    "    # Filter rows for missing weeks\n",
    "    missing_data = df[df['week'].isin(missing_weeks)]\n",
    "\n",
    "    # Calculate averages for the same weeks across years 2013-2022\n",
    "    jan_avg = (\n",
    "        df[(df['week'] % 100).isin([1, 2, 3, 4]) & (df['week'] // 100 >= 2013) & (df['week'] // 100 <= 2022)]\n",
    "        .groupby('CITY')[['precipitation_avg', 'precipitation_max']]\n",
    "        .mean()\n",
    "        .reset_index()\n",
    "    )\n",
    "\n",
    "    # Merge averages with missing data\n",
    "    filled_data = missing_data.merge(jan_avg, on='CITY', suffixes=('', '_avg'))\n",
    "\n",
    "    # Fill missing values with calculated averages\n",
    "    filled_data['precipitation_avg'] = filled_data['precipitation_avg'].fillna(filled_data['precipitation_avg_avg'])\n",
    "    filled_data['precipitation_max'] = filled_data['precipitation_max'].fillna(filled_data['precipitation_max_avg'])\n",
    "\n",
    "    # Drop temporary columns used for averaging\n",
    "    filled_data = filled_data.drop(columns=['precipitation_avg_avg', 'precipitation_max_avg'])\n",
    "\n",
    "    # Update the original DataFrame with filled values\n",
    "    df.update(filled_data)\n",
    "\n",
    "    # Save the updated DataFrame\n",
    "    df.to_csv(output_path, index=False)\n",
    "\n",
    "    print(\"Missing data for January 2012 has been filled.\")\n",
    "\n",
    "# Usage\n",
    "fill_missing_january_data('final/final_precipitation_ordinary_kriging.csv', 'final/final_precipitation_ordinary_kriging.csv')\n"
   ],
   "id": "20d98a51e4cfcee6",
   "outputs": [
    {
     "name": "stdout",
     "output_type": "stream",
     "text": [
      "Missing data for January 2012 has been filled.\n"
     ]
    }
   ],
   "execution_count": 34
  },
  {
   "metadata": {
    "ExecuteTime": {
     "end_time": "2024-12-24T08:13:08.665158Z",
     "start_time": "2024-12-24T08:13:07.982998Z"
    }
   },
   "cell_type": "code",
   "source": "fill_missing_january_data('final/final_precipitation_regression_kriging.csv', 'final/final_precipitation_regression_kriging.csv')",
   "id": "c1ede70fa7f30c32",
   "outputs": [
    {
     "name": "stdout",
     "output_type": "stream",
     "text": [
      "Missing data for January 2012 has been filled.\n"
     ]
    }
   ],
   "execution_count": 39
  },
  {
   "metadata": {
    "ExecuteTime": {
     "end_time": "2024-12-24T08:18:21.972835Z",
     "start_time": "2024-12-24T08:18:20.574808Z"
    }
   },
   "cell_type": "code",
   "source": [
    "import pandas as pd\n",
    "\n",
    "def update_precipitation_file(file_path):\n",
    "    # Load the CSV file\n",
    "    df = pd.read_csv(file_path)\n",
    "\n",
    "    # Rename columns by removing the word \"predicted\"\n",
    "    df.rename(columns=lambda x: x.replace(\"predicted_\", \"\"), inplace=True)\n",
    "\n",
    "    # Round precipitation columns to 4 decimal places\n",
    "    df['precipitation_avg'] = df['precipitation_avg'].round(4)\n",
    "    df['precipitation_max'] = df['precipitation_max'].round(4)\n",
    "\n",
    "    # Save the updated DataFrame back to the same file\n",
    "    df.to_csv(file_path, index=False)\n",
    "\n",
    "    print(\"File updated: column names changed and precipitation values rounded to 4 decimals.\")\n",
    "\n",
    "# Usage\n",
    "update_precipitation_file('final/final_precipitation_regression_kriging.csv')\n",
    "update_precipitation_file('final/final_precipitation_ordinary_kriging.csv')"
   ],
   "id": "3815640d89b5c5e5",
   "outputs": [
    {
     "name": "stdout",
     "output_type": "stream",
     "text": [
      "File updated: column names changed and precipitation values rounded to 4 decimals.\n",
      "File updated: column names changed and precipitation values rounded to 4 decimals.\n"
     ]
    }
   ],
   "execution_count": 40
  },
  {
   "metadata": {},
   "cell_type": "code",
   "outputs": [],
   "execution_count": null,
   "source": "",
   "id": "f39f42abd73357c8"
  }
 ],
 "metadata": {
  "kernelspec": {
   "display_name": "Python 3",
   "language": "python",
   "name": "python3"
  },
  "language_info": {
   "codemirror_mode": {
    "name": "ipython",
    "version": 2
   },
   "file_extension": ".py",
   "mimetype": "text/x-python",
   "name": "python",
   "nbconvert_exporter": "python",
   "pygments_lexer": "ipython2",
   "version": "2.7.6"
  }
 },
 "nbformat": 4,
 "nbformat_minor": 5
}
