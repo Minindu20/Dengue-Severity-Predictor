{
 "cells": [
  {
   "cell_type": "code",
   "execution_count": 150,
   "id": "d7e6a2a6-9674-42de-8571-00c88730e956",
   "metadata": {},
   "outputs": [],
   "source": [
    "import pandas as pd"
   ]
  },
  {
   "cell_type": "code",
   "execution_count": 151,
   "id": "449e42e1-f619-4a8d-8e0a-69ca109078cd",
   "metadata": {},
   "outputs": [],
   "source": [
    "file_path = 'stations_RIO.csv'  # Ensure this file contains latitude, longitude, and city data\n",
    "df = pd.read_csv(file_path) \n",
    "\n",
    "file_path3 = 'weather_sum_all.csv'\n",
    "df2 = pd.read_csv(file_path3)\n"
   ]
  },
  {
   "cell_type": "code",
   "execution_count": 152,
   "id": "3f692060-aa69-4dbf-93b8-311c06a6dbdc",
   "metadata": {},
   "outputs": [
    {
     "name": "stdout",
     "output_type": "stream",
     "text": [
      "        ESTACAO DATA (YYYY-MM-DD)  rain_max  rad_max   temp_avg  temp_max  \\\n",
      "0          A001        2000-05-07       0.0   2915.0  25.125000      28.3   \n",
      "1          A001        2000-05-08       0.0   3126.0  22.104167      28.2   \n",
      "2          A001        2000-05-09       0.0   2901.0  22.041667      28.7   \n",
      "3          A001        2000-05-10       0.0   2972.0  22.462500      28.9   \n",
      "4          A001        2000-05-11       0.0   2958.0  21.329167      27.3   \n",
      "...         ...               ...       ...      ...        ...       ...   \n",
      "2740766    A898        2023-08-27       0.0   3083.2   6.962500      14.7   \n",
      "2740767    A898        2023-08-28       0.0   2891.9   8.795833      15.5   \n",
      "2740768    A898        2023-08-29       0.0   2833.8  10.954167      18.8   \n",
      "2740769    A898        2023-08-30       0.2   3102.5  12.500000      21.7   \n",
      "2740770    A898        2023-08-31       0.0   3007.6  15.400000      23.0   \n",
      "\n",
      "         temp_min  hum_max  hum_min  wind_max  wind_avg  \n",
      "0            20.7     69.0     36.0       6.3  1.766667  \n",
      "1            16.5     86.0     33.0       7.1  2.066667  \n",
      "2            16.6     79.0     37.0       7.0  1.150000  \n",
      "3            17.7     82.0     35.0       6.3  2.008333  \n",
      "4            16.6     80.0     35.0       7.3  2.670833  \n",
      "...           ...      ...      ...       ...       ...  \n",
      "2740766       0.5     99.0     39.0       8.9  3.387500  \n",
      "2740767       3.5     96.0     54.0       9.8  4.325000  \n",
      "2740768       5.1     95.0     46.0      11.3  4.233333  \n",
      "2740769       5.5     99.0     39.0       6.8  2.933333  \n",
      "2740770       8.8     99.0     45.0       8.1  3.091667  \n",
      "\n",
      "[2740771 rows x 11 columns]\n"
     ]
    }
   ],
   "source": [
    "print(df2)"
   ]
  },
  {
   "cell_type": "code",
   "execution_count": 153,
   "id": "b6c1bb00-f643-429c-a84a-7f4bf2e98469",
   "metadata": {},
   "outputs": [],
   "source": [
    "df2 = df2.rename(columns={'DATA (YYYY-MM-DD)': 'DATA'})"
   ]
  },
  {
   "cell_type": "code",
   "execution_count": 154,
   "id": "d630f8fa-821a-4360-b588-46c17b03170e",
   "metadata": {},
   "outputs": [
    {
     "name": "stdout",
     "output_type": "stream",
     "text": [
      "Empty DataFrame\n",
      "Columns: [ESTACAO, DATA, rain_max, rad_max, temp_avg, temp_max, temp_min, hum_max, hum_min, wind_max, wind_avg]\n",
      "Index: []\n",
      "        ESTACAO       DATA  rain_max  rad_max   temp_avg  temp_max  temp_min  \\\n",
      "0          A001 2000-05-07       0.0   2915.0  25.125000      28.3      20.7   \n",
      "1          A001 2000-05-08       0.0   3126.0  22.104167      28.2      16.5   \n",
      "2          A001 2000-05-09       0.0   2901.0  22.041667      28.7      16.6   \n",
      "3          A001 2000-05-10       0.0   2972.0  22.462500      28.9      17.7   \n",
      "4          A001 2000-05-11       0.0   2958.0  21.329167      27.3      16.6   \n",
      "...         ...        ...       ...      ...        ...       ...       ...   \n",
      "2740766    A898 2023-08-27       0.0   3083.2   6.962500      14.7       0.5   \n",
      "2740767    A898 2023-08-28       0.0   2891.9   8.795833      15.5       3.5   \n",
      "2740768    A898 2023-08-29       0.0   2833.8  10.954167      18.8       5.1   \n",
      "2740769    A898 2023-08-30       0.2   3102.5  12.500000      21.7       5.5   \n",
      "2740770    A898 2023-08-31       0.0   3007.6  15.400000      23.0       8.8   \n",
      "\n",
      "         hum_max  hum_min  wind_max  wind_avg  \n",
      "0           69.0     36.0       6.3  1.766667  \n",
      "1           86.0     33.0       7.1  2.066667  \n",
      "2           79.0     37.0       7.0  1.150000  \n",
      "3           82.0     35.0       6.3  2.008333  \n",
      "4           80.0     35.0       7.3  2.670833  \n",
      "...          ...      ...       ...       ...  \n",
      "2740766     99.0     39.0       8.9  3.387500  \n",
      "2740767     96.0     54.0       9.8  4.325000  \n",
      "2740768     95.0     46.0      11.3  4.233333  \n",
      "2740769     99.0     39.0       6.8  2.933333  \n",
      "2740770     99.0     45.0       8.1  3.091667  \n",
      "\n",
      "[2740771 rows x 11 columns]\n"
     ]
    }
   ],
   "source": [
    "df2['DATA'] = pd.to_datetime(df2['DATA'], errors='coerce')\n",
    "# Check if there are any NaT values after conversion\n",
    "print(df2[df2['DATA'].isna()])\n",
    "\n",
    "# Display the processed dataframe\n",
    "print(df2)"
   ]
  },
  {
   "cell_type": "code",
   "execution_count": 155,
   "id": "3d34c74a-0edc-4cc5-a267-7bb905984b77",
   "metadata": {},
   "outputs": [
    {
     "name": "stdout",
     "output_type": "stream",
     "text": [
      "datetime64[ns]\n"
     ]
    }
   ],
   "source": [
    "print(df2['DATA'].dtype)"
   ]
  },
  {
   "cell_type": "code",
   "execution_count": 156,
   "id": "3727ad81-692f-42ac-a9b0-86342bcaa05f",
   "metadata": {},
   "outputs": [
    {
     "name": "stdout",
     "output_type": "stream",
     "text": [
      "        ESTACAO       DATA  rain_max  rad_max   temp_avg  temp_max  temp_min  \\\n",
      "736378     A001 2012-01-01       2.6   3032.9  20.462500      25.2      17.9   \n",
      "736379     A001 2012-01-02       6.2   1096.2  19.191667      20.8      18.3   \n",
      "736380     A001 2012-01-03       6.0   2150.2  19.429167      24.1      17.8   \n",
      "736381     A001 2012-01-04       0.2   3443.6  20.166667      25.9      15.6   \n",
      "736382     A001 2012-01-05       0.0   3703.5  20.654167      26.5      16.5   \n",
      "...         ...        ...       ...      ...        ...       ...       ...   \n",
      "2621041    A898 2022-12-26       0.0   3611.0  21.091667      28.3      15.4   \n",
      "2621042    A898 2022-12-27       0.2   3089.5  21.166667      28.6      16.6   \n",
      "2621043    A898 2022-12-28       1.6   3631.9  19.491667      24.2      16.8   \n",
      "2621044    A898 2022-12-29       0.0   3864.0  19.920833      26.2      13.8   \n",
      "2621045    A898 2022-12-30       0.0   3816.9  20.104167      27.9      12.3   \n",
      "\n",
      "         hum_max  hum_min  wind_max  wind_avg  \n",
      "736378      96.0     64.0      11.9  3.800000  \n",
      "736379      96.0     80.0      16.0  4.404167  \n",
      "736380      96.0     58.0       8.3  2.139130  \n",
      "736381      97.0     54.0       8.0  2.529167  \n",
      "736382      94.0     52.0       9.0  3.183333  \n",
      "...          ...      ...       ...       ...  \n",
      "2621041     97.0     39.0       9.1  2.575000  \n",
      "2621042     97.0     48.0      12.7  3.629167  \n",
      "2621043     96.0     52.0      13.4  4.150000  \n",
      "2621044     77.0     30.0       8.0  2.354167  \n",
      "2621045     96.0     33.0       9.0  3.195833  \n",
      "\n",
      "[1884190 rows x 11 columns]\n"
     ]
    }
   ],
   "source": [
    "\n",
    "# Define the date range\n",
    "start_date = pd.to_datetime('2012-01-01')\n",
    "end_date = pd.to_datetime('2022-12-31')\n",
    "\n",
    "# Filter the data to include only dates within the range\n",
    "df2 = df2[(df2['DATA'] >= start_date) & (df2['DATA'] < end_date)]\n",
    "\n",
    "# Display the filtered data to ensure correctness\n",
    "print(df2)\n"
   ]
  },
  {
   "cell_type": "code",
   "execution_count": 157,
   "id": "16f13299-7ca3-4e53-bb5a-bb594c64300d",
   "metadata": {},
   "outputs": [
    {
     "name": "stdout",
     "output_type": "stream",
     "text": [
      "        ESTACAO       DATA  rain_max  rad_max   temp_avg  temp_max  temp_min  \\\n",
      "854199     A603 2012-01-01       NaN    601.3  23.962500      25.5      22.7   \n",
      "854200     A603 2012-01-02       NaN    776.8  21.383333      23.8      20.2   \n",
      "854201     A603 2012-01-03       NaN   3801.1  22.600000      29.8      17.4   \n",
      "854202     A603 2012-01-04       NaN   2782.1  22.966667      28.9      18.3   \n",
      "854203     A603 2012-01-05       NaN   3611.2  23.820833      30.1      17.7   \n",
      "...         ...        ...       ...      ...        ...       ...       ...   \n",
      "2580108    A667 2022-12-26       0.4   1488.4  25.404167      28.9      22.9   \n",
      "2580109    A667 2022-12-27       1.2   3906.0  26.987500      33.3      21.7   \n",
      "2580110    A667 2022-12-28      17.2   3362.8  26.745833      32.7      22.8   \n",
      "2580111    A667 2022-12-29      10.2   2802.8  26.945833      33.1      22.7   \n",
      "2580112    A667 2022-12-30       7.2    761.7  22.716667      23.9      20.6   \n",
      "\n",
      "         hum_max  hum_min  wind_max  wind_avg  \n",
      "854199      96.0     88.0       3.9  0.570833  \n",
      "854200      96.0     91.0       4.2  0.450000  \n",
      "854201      96.0     48.0      10.0  1.233333  \n",
      "854202      96.0     60.0       6.9  0.775000  \n",
      "854203      97.0     55.0       8.6  0.929167  \n",
      "...          ...      ...       ...       ...  \n",
      "2580108     85.0     60.0      12.6  2.541667  \n",
      "2580109     92.0     42.0      11.1  2.145833  \n",
      "2580110     92.0     45.0      12.6  1.237500  \n",
      "2580111     92.0     44.0      10.7  2.083333  \n",
      "2580112     92.0     74.0       5.7  1.041667  \n",
      "\n",
      "[81792 rows x 11 columns]\n"
     ]
    }
   ],
   "source": [
    "file_path = 'stations_RIO.csv'  # Ensure this file contains latitude, longitude, and city data\n",
    "df3 = pd.read_csv(file_path) \n",
    "# Filter the weather data to include only rows where 'ESTACAO' matches 'id_station' from stations_rj.csv\n",
    "df2 = df2[df2['ESTACAO'].isin(df3['id_station'])]\n",
    "\n",
    "print(df2)"
   ]
  },
  {
   "cell_type": "code",
   "execution_count": 158,
   "id": "91822d81-2c0b-4904-a511-a11ae3f703ad",
   "metadata": {},
   "outputs": [
    {
     "name": "stdout",
     "output_type": "stream",
     "text": [
      "ESTACAO        0\n",
      "rain_max    1269\n",
      "dtype: int64\n"
     ]
    }
   ],
   "source": [
    "columns_to_check = [\n",
    "    'ESTACAO', \n",
    "    'rain_max'\n",
    "]\n",
    "\n",
    "# Count NaN values in the specified columns\n",
    "nan_counts = df2[columns_to_check].isna().sum()\n",
    "\n",
    "# Display the number of NaN values in each specified column\n",
    "print(nan_counts)"
   ]
  },
  {
   "cell_type": "code",
   "execution_count": 159,
   "id": "1e4006d2-8586-4f34-bee0-9f9f183ec008",
   "metadata": {},
   "outputs": [],
   "source": [
    "df2 =df2.drop(columns=['rad_max'])"
   ]
  },
  {
   "cell_type": "code",
   "execution_count": 160,
   "id": "e0ea7628-62ad-425b-8538-e4a83086c0c7",
   "metadata": {},
   "outputs": [],
   "source": [
    "df2['week'] = df2['DATA'].dt.strftime('%Y%U')"
   ]
  },
  {
   "cell_type": "code",
   "execution_count": 161,
   "id": "fb4dc528-d77a-49ce-8939-74dd13e941cb",
   "metadata": {},
   "outputs": [
    {
     "name": "stdout",
     "output_type": "stream",
     "text": [
      "      ESTACAO    week  precipitation_avg  precipitation_max  temp_avg_mean  \\\n",
      "0        A601  201201          14.171429               66.2      23.864286   \n",
      "1        A601  201202           5.057143               22.8      25.220238   \n",
      "2        A601  201203           2.428571                7.0      26.188095   \n",
      "3        A601  201204           1.028571                2.8      25.851786   \n",
      "4        A601  201205           2.400000               13.0      25.044048   \n",
      "...       ...     ...                ...                ...            ...   \n",
      "11941    A667  202248           2.200000               11.6      24.436905   \n",
      "11942    A667  202249           0.371429                1.4      24.792857   \n",
      "11943    A667  202250           0.828571                3.8      24.713613   \n",
      "11944    A667  202251           4.742857               14.6      22.452381   \n",
      "11945    A667  202252           6.033333               17.2      25.660417   \n",
      "\n",
      "       temp_max_max  temp_min_min  hum_max_max  hum_min_min  wind_max_max  \\\n",
      "0              33.6          18.1        100.0         48.0          19.1   \n",
      "1              35.5          19.2        100.0         46.0          24.2   \n",
      "2              34.6          21.7         99.0         39.0          12.8   \n",
      "3              35.0          18.9         99.0         34.0          12.5   \n",
      "4              34.2          18.6        100.0         35.0          13.0   \n",
      "...             ...           ...          ...          ...           ...   \n",
      "11941          30.3          20.1         93.0         62.0          15.0   \n",
      "11942          32.6          17.7         93.0         45.0          11.8   \n",
      "11943          34.2          16.3         93.0         35.0          12.9   \n",
      "11944          27.3          18.5         93.0         54.0          10.7   \n",
      "11945          33.3          20.6         92.0         42.0          12.6   \n",
      "\n",
      "       wind_avg_mean  \n",
      "0           2.323214  \n",
      "1           2.076190  \n",
      "2           2.236310  \n",
      "3           2.719048  \n",
      "4           2.305952  \n",
      "...              ...  \n",
      "11941       3.717857  \n",
      "11942       2.013690  \n",
      "11943       1.906056  \n",
      "11944       1.765217  \n",
      "11945       2.068750  \n",
      "\n",
      "[11946 rows x 11 columns]\n"
     ]
    }
   ],
   "source": [
    "# Define aggregation logic for each column\n",
    "aggregation = {\n",
    "    'rain_max': ['mean', 'max'],  # Average rainfall and maximum rainfall in a week\n",
    "    'temp_avg': 'mean',  # Average temperature\n",
    "    'temp_max': 'max',  # Maximum temperature in a week\n",
    "    'temp_min': 'min',  # Minimum temperature in a week\n",
    "    'hum_max': 'max',  # Maximum humidity in a week\n",
    "    'hum_min': 'min',  # Minimum humidity in a week\n",
    "    'wind_max': 'max',  # Maximum wind speed in a week\n",
    "    'wind_avg': 'mean'  # Average wind speed in a week\n",
    "}\n",
    "\n",
    "# Apply the aggregation grouped by 'ESTACAO' and 'week'\n",
    "weekly_data = df2.groupby(['ESTACAO', 'week']).agg(aggregation)\n",
    "\n",
    "# Flatten the multi-level columns\n",
    "weekly_data.columns = ['_'.join(col).strip() for col in weekly_data.columns.values]\n",
    "\n",
    "# Rename 'rain_max_mean' to 'precipitation_avg' and 'rain_max_max' to 'precipitation_max'\n",
    "weekly_data = weekly_data.rename(columns={'rain_max_mean': 'precipitation_avg', 'rain_max_max': 'precipitation_max'})\n",
    "\n",
    "# Reset the index to have a clean DataFrame\n",
    "weekly_data = weekly_data.reset_index()\n",
    "\n",
    "# Display the final DataFrame\n",
    "print(weekly_data)"
   ]
  },
  {
   "cell_type": "code",
   "execution_count": 162,
   "id": "181e6495-bb8a-4c45-a60c-f96f18d57e99",
   "metadata": {},
   "outputs": [
    {
     "name": "stdout",
     "output_type": "stream",
     "text": [
      "ESTACAO                0\n",
      "week                   0\n",
      "precipitation_avg    161\n",
      "precipitation_max    161\n",
      "temp_avg_mean          0\n",
      "temp_max_max           2\n",
      "temp_min_min           2\n",
      "hum_max_max           89\n",
      "hum_min_min          113\n",
      "wind_max_max         302\n",
      "dtype: int64\n"
     ]
    }
   ],
   "source": [
    "columns_to_check = [\n",
    "    'ESTACAO', \n",
    "    'week', \n",
    "    'precipitation_avg', \n",
    "    'precipitation_max', \n",
    "    'temp_avg_mean', \n",
    "    'temp_max_max', \n",
    "    'temp_min_min', \n",
    "    'hum_max_max', \n",
    "    'hum_min_min', \n",
    "    'wind_max_max'\n",
    "]\n",
    "\n",
    "# Count NaN values in the specified columns\n",
    "nan_counts = weekly_data[columns_to_check].isna().sum()\n",
    "\n",
    "# Display the number of NaN values in each specified column\n",
    "print(nan_counts)"
   ]
  },
  {
   "cell_type": "code",
   "execution_count": 163,
   "id": "f29460c2-ab31-416c-a273-3e68997572c8",
   "metadata": {},
   "outputs": [
    {
     "name": "stdout",
     "output_type": "stream",
     "text": [
      "      ESTACAO    week  precipitation_avg  precipitation_max  temp_avg_mean  \\\n",
      "9        A601  201210                NaN                NaN      25.714881   \n",
      "10       A601  201211                NaN                NaN      25.825000   \n",
      "11       A601  201212                NaN                NaN      25.030202   \n",
      "12       A601  201213                NaN                NaN      24.473810   \n",
      "13       A601  201214                NaN                NaN      25.083333   \n",
      "...       ...     ...                ...                ...            ...   \n",
      "9992     A630  202125                NaN                NaN      20.436735   \n",
      "11831    A667  202044                NaN                NaN      22.151187   \n",
      "11832    A667  202045                NaN                NaN      25.533247   \n",
      "11833    A667  202046                NaN                NaN      25.468333   \n",
      "11834    A667  202047                NaN                NaN      26.757749   \n",
      "\n",
      "       temp_max_max  temp_min_min  hum_max_max  hum_min_min  wind_max_max  \\\n",
      "9              34.7          19.2         99.0         40.0          12.3   \n",
      "10             36.4          19.7         99.0         38.0          12.3   \n",
      "11             36.6          19.2         99.0         38.0          12.7   \n",
      "12             34.5          18.8        100.0         48.0          15.8   \n",
      "13             33.1          20.3        100.0         48.0          12.7   \n",
      "...             ...           ...          ...          ...           ...   \n",
      "9992           24.7          12.5        100.0         48.0           7.1   \n",
      "11831          26.3          14.8         95.0         44.0          11.0   \n",
      "11832          28.7          21.1         94.0         62.0           6.3   \n",
      "11833          32.6          17.5         95.0         50.0          12.7   \n",
      "11834          32.9          17.9         94.0         44.0          10.7   \n",
      "\n",
      "       wind_avg_mean  \n",
      "9           2.236905  \n",
      "10          2.493452  \n",
      "11          1.994281  \n",
      "12          1.875595  \n",
      "13          2.215476  \n",
      "...              ...  \n",
      "9992        0.660544  \n",
      "11831       1.815067  \n",
      "11832       1.386364  \n",
      "11833       1.913680  \n",
      "11834       2.966313  \n",
      "\n",
      "[161 rows x 11 columns]\n"
     ]
    }
   ],
   "source": [
    "# Filter for rows where either precipitation_avg or precipitation_max is NaN\n",
    "missing_precipitation = weekly_data[weekly_data['precipitation_avg'].isna() | weekly_data['precipitation_max'].isna()]\n",
    "\n",
    "# Display the rows with NaN in either column\n",
    "print(missing_precipitation)\n"
   ]
  },
  {
   "cell_type": "code",
   "execution_count": 165,
   "id": "a5c04d07-f4ed-4574-9c2e-cf353afe8770",
   "metadata": {},
   "outputs": [
    {
     "name": "stdout",
     "output_type": "stream",
     "text": [
      "Filtered weather data saved to 'filtered_weather_data.csv'\n"
     ]
    }
   ],
   "source": [
    "# Save the filtered data to a new CSV file\n",
    "weekly_data.to_csv('filtered_weather_data_2012_2022_RIO.csv', index=False)\n",
    "\n",
    "print(\"Filtered weather data saved to 'filtered_weather_data.csv'\")"
   ]
  },
  {
   "cell_type": "code",
   "execution_count": null,
   "id": "51e91456-1ed0-4196-a4a1-435ec028cf4c",
   "metadata": {},
   "outputs": [],
   "source": []
  },
  {
   "cell_type": "code",
   "execution_count": null,
   "id": "c81a510f-f133-480e-b0c4-4bc0cc481487",
   "metadata": {},
   "outputs": [],
   "source": []
  }
 ],
 "metadata": {
  "kernelspec": {
   "display_name": "Python 3 (ipykernel)",
   "language": "python",
   "name": "python3"
  },
  "language_info": {
   "codemirror_mode": {
    "name": "ipython",
    "version": 3
   },
   "file_extension": ".py",
   "mimetype": "text/x-python",
   "name": "python",
   "nbconvert_exporter": "python",
   "pygments_lexer": "ipython3",
   "version": "3.12.0"
  }
 },
 "nbformat": 4,
 "nbformat_minor": 5
}
